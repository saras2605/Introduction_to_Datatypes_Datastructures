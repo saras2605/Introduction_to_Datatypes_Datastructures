{
 "cells": [
  {
   "cell_type": "markdown",
   "id": "63971fb0",
   "metadata": {},
   "source": [
    "# DATA TYPES { IN-BUILT }"
   ]
  },
  {
   "cell_type": "code",
   "execution_count": 1,
   "id": "9731aee1",
   "metadata": {},
   "outputs": [],
   "source": [
    "a=1"
   ]
  },
  {
   "cell_type": "code",
   "execution_count": 2,
   "id": "f96e39a6",
   "metadata": {},
   "outputs": [
    {
     "data": {
      "text/plain": [
       "1"
      ]
     },
     "execution_count": 2,
     "metadata": {},
     "output_type": "execute_result"
    }
   ],
   "source": [
    "a"
   ]
  },
  {
   "cell_type": "code",
   "execution_count": 3,
   "id": "7e432d91",
   "metadata": {},
   "outputs": [
    {
     "data": {
      "text/plain": [
       "int"
      ]
     },
     "execution_count": 3,
     "metadata": {},
     "output_type": "execute_result"
    }
   ],
   "source": [
    "type(a)"
   ]
  },
  {
   "cell_type": "code",
   "execution_count": 4,
   "id": "b8c287b3",
   "metadata": {},
   "outputs": [],
   "source": [
    "b=1.2"
   ]
  },
  {
   "cell_type": "code",
   "execution_count": 5,
   "id": "12e72712",
   "metadata": {},
   "outputs": [
    {
     "data": {
      "text/plain": [
       "1.2"
      ]
     },
     "execution_count": 5,
     "metadata": {},
     "output_type": "execute_result"
    }
   ],
   "source": [
    "b"
   ]
  },
  {
   "cell_type": "code",
   "execution_count": 6,
   "id": "9d2a3832",
   "metadata": {},
   "outputs": [
    {
     "data": {
      "text/plain": [
       "float"
      ]
     },
     "execution_count": 6,
     "metadata": {},
     "output_type": "execute_result"
    }
   ],
   "source": [
    "type(b)"
   ]
  },
  {
   "cell_type": "code",
   "execution_count": 7,
   "id": "ddff6097",
   "metadata": {},
   "outputs": [],
   "source": [
    "c= 'riseup'"
   ]
  },
  {
   "cell_type": "code",
   "execution_count": 8,
   "id": "b1d13d71",
   "metadata": {},
   "outputs": [
    {
     "data": {
      "text/plain": [
       "'riseup'"
      ]
     },
     "execution_count": 8,
     "metadata": {},
     "output_type": "execute_result"
    }
   ],
   "source": [
    "c"
   ]
  },
  {
   "cell_type": "code",
   "execution_count": 9,
   "id": "67ba3fa3",
   "metadata": {},
   "outputs": [
    {
     "data": {
      "text/plain": [
       "str"
      ]
     },
     "execution_count": 9,
     "metadata": {},
     "output_type": "execute_result"
    }
   ],
   "source": [
    "type(c)"
   ]
  },
  {
   "cell_type": "code",
   "execution_count": 10,
   "id": "177436d0",
   "metadata": {},
   "outputs": [],
   "source": [
    "d=True"
   ]
  },
  {
   "cell_type": "code",
   "execution_count": 11,
   "id": "cc35632c",
   "metadata": {},
   "outputs": [
    {
     "data": {
      "text/plain": [
       "True"
      ]
     },
     "execution_count": 11,
     "metadata": {},
     "output_type": "execute_result"
    }
   ],
   "source": [
    "d"
   ]
  },
  {
   "cell_type": "code",
   "execution_count": 12,
   "id": "051d0fdc",
   "metadata": {},
   "outputs": [],
   "source": [
    "f=False"
   ]
  },
  {
   "cell_type": "code",
   "execution_count": 13,
   "id": "71c875f5",
   "metadata": {},
   "outputs": [
    {
     "data": {
      "text/plain": [
       "False"
      ]
     },
     "execution_count": 13,
     "metadata": {},
     "output_type": "execute_result"
    }
   ],
   "source": [
    "f"
   ]
  },
  {
   "cell_type": "code",
   "execution_count": 14,
   "id": "7b064c9f",
   "metadata": {},
   "outputs": [
    {
     "data": {
      "text/plain": [
       "bool"
      ]
     },
     "execution_count": 14,
     "metadata": {},
     "output_type": "execute_result"
    }
   ],
   "source": [
    "type(d)"
   ]
  },
  {
   "cell_type": "code",
   "execution_count": 15,
   "id": "9398f77f",
   "metadata": {},
   "outputs": [],
   "source": [
    "e=10+66j"
   ]
  },
  {
   "cell_type": "code",
   "execution_count": 16,
   "id": "72890abc",
   "metadata": {},
   "outputs": [
    {
     "data": {
      "text/plain": [
       "(10+66j)"
      ]
     },
     "execution_count": 16,
     "metadata": {},
     "output_type": "execute_result"
    }
   ],
   "source": [
    "e"
   ]
  },
  {
   "cell_type": "code",
   "execution_count": 17,
   "id": "d7fc6c38",
   "metadata": {},
   "outputs": [
    {
     "data": {
      "text/plain": [
       "complex"
      ]
     },
     "execution_count": 17,
     "metadata": {},
     "output_type": "execute_result"
    }
   ],
   "source": [
    "type(e)"
   ]
  },
  {
   "cell_type": "markdown",
   "id": "ad51502a",
   "metadata": {},
   "source": [
    "# Types of int --- Binary(bin)=0b(1or0) | Octal=0o(0 to 7)| hexadecimal=0x(0to15)"
   ]
  },
  {
   "cell_type": "code",
   "execution_count": 18,
   "id": "7bfa1738",
   "metadata": {},
   "outputs": [],
   "source": [
    "i=0b11"
   ]
  },
  {
   "cell_type": "code",
   "execution_count": 19,
   "id": "23219548",
   "metadata": {},
   "outputs": [
    {
     "data": {
      "text/plain": [
       "3"
      ]
     },
     "execution_count": 19,
     "metadata": {},
     "output_type": "execute_result"
    }
   ],
   "source": [
    "i"
   ]
  },
  {
   "cell_type": "code",
   "execution_count": 20,
   "id": "b067d340",
   "metadata": {},
   "outputs": [
    {
     "data": {
      "text/plain": [
       "int"
      ]
     },
     "execution_count": 20,
     "metadata": {},
     "output_type": "execute_result"
    }
   ],
   "source": [
    "type(i)"
   ]
  },
  {
   "cell_type": "code",
   "execution_count": 21,
   "id": "405c4a07",
   "metadata": {},
   "outputs": [
    {
     "data": {
      "text/plain": [
       "'0b11110001111100010111'"
      ]
     },
     "execution_count": 21,
     "metadata": {},
     "output_type": "execute_result"
    }
   ],
   "source": [
    "bin(990999)"
   ]
  },
  {
   "cell_type": "code",
   "execution_count": 22,
   "id": "18ec85f3",
   "metadata": {},
   "outputs": [],
   "source": [
    "i2=0o7654312 # consists of 0,1,2,3,4,5,6,7 only"
   ]
  },
  {
   "cell_type": "code",
   "execution_count": 23,
   "id": "3db0d510",
   "metadata": {},
   "outputs": [
    {
     "data": {
      "text/plain": [
       "2054346"
      ]
     },
     "execution_count": 23,
     "metadata": {},
     "output_type": "execute_result"
    }
   ],
   "source": [
    "i2"
   ]
  },
  {
   "cell_type": "code",
   "execution_count": 24,
   "id": "8de9f337",
   "metadata": {},
   "outputs": [],
   "source": [
    "i3=0x25252c # consists of 0,1,2,3,4,5,6,7,8,9,10(a),11(b),12(c),13(d),14(e),15(f)"
   ]
  },
  {
   "cell_type": "code",
   "execution_count": 25,
   "id": "539691f3",
   "metadata": {},
   "outputs": [
    {
     "data": {
      "text/plain": [
       "2434348"
      ]
     },
     "execution_count": 25,
     "metadata": {},
     "output_type": "execute_result"
    }
   ],
   "source": [
    "i3"
   ]
  },
  {
   "cell_type": "code",
   "execution_count": 26,
   "id": "5b8d7c16",
   "metadata": {},
   "outputs": [],
   "source": [
    "i4=0x99898995695656f"
   ]
  },
  {
   "cell_type": "code",
   "execution_count": 27,
   "id": "aa5efa0d",
   "metadata": {},
   "outputs": [
    {
     "data": {
      "text/plain": [
       "691470327151420783"
      ]
     },
     "execution_count": 27,
     "metadata": {},
     "output_type": "execute_result"
    }
   ],
   "source": [
    "i4"
   ]
  },
  {
   "cell_type": "code",
   "execution_count": 28,
   "id": "f0ab05f0",
   "metadata": {},
   "outputs": [
    {
     "data": {
      "text/plain": [
       "type[3, 2054346, 2434348, 691470327151420783]"
      ]
     },
     "execution_count": 28,
     "metadata": {},
     "output_type": "execute_result"
    }
   ],
   "source": [
    "type[i,i2,i3,i4]"
   ]
  },
  {
   "cell_type": "markdown",
   "id": "26e7f0cf",
   "metadata": {},
   "source": [
    "# float= value with the decimal point\n",
    "*****only exponential \"e\" is used in float , no other word is used ===^(e=10) after word e is power of 10"
   ]
  },
  {
   "cell_type": "code",
   "execution_count": 29,
   "id": "265a7daa",
   "metadata": {},
   "outputs": [],
   "source": [
    "f1=2.336"
   ]
  },
  {
   "cell_type": "code",
   "execution_count": 30,
   "id": "7191b63a",
   "metadata": {},
   "outputs": [
    {
     "data": {
      "text/plain": [
       "2.336"
      ]
     },
     "execution_count": 30,
     "metadata": {},
     "output_type": "execute_result"
    }
   ],
   "source": [
    "f1"
   ]
  },
  {
   "cell_type": "code",
   "execution_count": 31,
   "id": "5bbca763",
   "metadata": {},
   "outputs": [
    {
     "data": {
      "text/plain": [
       "float"
      ]
     },
     "execution_count": 31,
     "metadata": {},
     "output_type": "execute_result"
    }
   ],
   "source": [
    "type(f1)"
   ]
  },
  {
   "cell_type": "code",
   "execution_count": 32,
   "id": "0de176d8",
   "metadata": {},
   "outputs": [],
   "source": [
    "f2=2.3e3 # 2.3 * (10*10*10)"
   ]
  },
  {
   "cell_type": "code",
   "execution_count": 33,
   "id": "8ccd6c98",
   "metadata": {},
   "outputs": [
    {
     "data": {
      "text/plain": [
       "2300.0"
      ]
     },
     "execution_count": 33,
     "metadata": {},
     "output_type": "execute_result"
    }
   ],
   "source": [
    "f2"
   ]
  },
  {
   "cell_type": "code",
   "execution_count": 34,
   "id": "b5c52fc8",
   "metadata": {},
   "outputs": [],
   "source": [
    "f3=998.6e5"
   ]
  },
  {
   "cell_type": "code",
   "execution_count": 35,
   "id": "7484ce72",
   "metadata": {},
   "outputs": [
    {
     "data": {
      "text/plain": [
       "99860000.0"
      ]
     },
     "execution_count": 35,
     "metadata": {},
     "output_type": "execute_result"
    }
   ],
   "source": [
    "f3"
   ]
  },
  {
   "cell_type": "code",
   "execution_count": 36,
   "id": "8660859b",
   "metadata": {},
   "outputs": [
    {
     "data": {
      "text/plain": [
       "float"
      ]
     },
     "execution_count": 36,
     "metadata": {},
     "output_type": "execute_result"
    }
   ],
   "source": [
    "type(f3)"
   ]
  },
  {
   "cell_type": "code",
   "execution_count": 37,
   "id": "194ec23c",
   "metadata": {},
   "outputs": [],
   "source": [
    "f4= 1.0"
   ]
  },
  {
   "cell_type": "code",
   "execution_count": 38,
   "id": "83432448",
   "metadata": {},
   "outputs": [
    {
     "data": {
      "text/plain": [
       "1.0"
      ]
     },
     "execution_count": 38,
     "metadata": {},
     "output_type": "execute_result"
    }
   ],
   "source": [
    "f4"
   ]
  },
  {
   "cell_type": "code",
   "execution_count": 39,
   "id": "ddb195a1",
   "metadata": {},
   "outputs": [
    {
     "data": {
      "text/plain": [
       "float"
      ]
     },
     "execution_count": 39,
     "metadata": {},
     "output_type": "execute_result"
    }
   ],
   "source": [
    "type(f4)"
   ]
  },
  {
   "cell_type": "markdown",
   "id": "06efec84",
   "metadata": {},
   "source": [
    "# complex = (a+bj) | 'a' is the real part | 'b' is the imaginary part| j=root of -1"
   ]
  },
  {
   "cell_type": "code",
   "execution_count": 40,
   "id": "1fcc72eb",
   "metadata": {},
   "outputs": [],
   "source": [
    "c=25+66j"
   ]
  },
  {
   "cell_type": "code",
   "execution_count": 41,
   "id": "f92343a9",
   "metadata": {},
   "outputs": [
    {
     "data": {
      "text/plain": [
       "(25+66j)"
      ]
     },
     "execution_count": 41,
     "metadata": {},
     "output_type": "execute_result"
    }
   ],
   "source": [
    "c"
   ]
  },
  {
   "cell_type": "code",
   "execution_count": 42,
   "id": "4816b298",
   "metadata": {},
   "outputs": [
    {
     "data": {
      "text/plain": [
       "complex"
      ]
     },
     "execution_count": 42,
     "metadata": {},
     "output_type": "execute_result"
    }
   ],
   "source": [
    "type(c)"
   ]
  },
  {
   "cell_type": "code",
   "execution_count": 43,
   "id": "cf2249dc",
   "metadata": {},
   "outputs": [
    {
     "ename": "SyntaxError",
     "evalue": "invalid decimal literal (1264016529.py, line 1)",
     "output_type": "error",
     "traceback": [
      "\u001b[1;36m  Cell \u001b[1;32mIn[43], line 1\u001b[1;36m\u001b[0m\n\u001b[1;33m    25+66c\u001b[0m\n\u001b[1;37m        ^\u001b[0m\n\u001b[1;31mSyntaxError\u001b[0m\u001b[1;31m:\u001b[0m invalid decimal literal\n"
     ]
    }
   ],
   "source": [
    "25+66c"
   ]
  },
  {
   "cell_type": "code",
   "execution_count": 45,
   "id": "0072a7d5",
   "metadata": {},
   "outputs": [],
   "source": [
    "a3=10+2j # 10 is real | 2 is imag"
   ]
  },
  {
   "cell_type": "code",
   "execution_count": 46,
   "id": "82178937",
   "metadata": {},
   "outputs": [
    {
     "data": {
      "text/plain": [
       "10.0"
      ]
     },
     "execution_count": 46,
     "metadata": {},
     "output_type": "execute_result"
    }
   ],
   "source": [
    "a3.real"
   ]
  },
  {
   "cell_type": "code",
   "execution_count": 47,
   "id": "f095e292",
   "metadata": {},
   "outputs": [
    {
     "data": {
      "text/plain": [
       "2.0"
      ]
     },
     "execution_count": 47,
     "metadata": {},
     "output_type": "execute_result"
    }
   ],
   "source": [
    "a3.imag"
   ]
  },
  {
   "cell_type": "code",
   "execution_count": 48,
   "id": "d7b36cde",
   "metadata": {},
   "outputs": [
    {
     "name": "stdout",
     "output_type": "stream",
     "text": [
      "(35+68j)\n",
      "(-15-64j)\n",
      "(118+710j)\n",
      "(0.076691427424212-0.1224653683999197j)\n"
     ]
    }
   ],
   "source": [
    "print(a3+c)\n",
    "print(a3-c)\n",
    "print(a3*c)\n",
    "print(a3/c)"
   ]
  },
  {
   "cell_type": "code",
   "execution_count": 49,
   "id": "844c1fe6",
   "metadata": {},
   "outputs": [],
   "source": [
    "c2=0b11+5j"
   ]
  },
  {
   "cell_type": "code",
   "execution_count": 50,
   "id": "4a881393",
   "metadata": {},
   "outputs": [
    {
     "data": {
      "text/plain": [
       "(3+5j)"
      ]
     },
     "execution_count": 50,
     "metadata": {},
     "output_type": "execute_result"
    }
   ],
   "source": [
    "c2 # can only pass binary or octal to the real part only"
   ]
  },
  {
   "cell_type": "code",
   "execution_count": 51,
   "id": "22a8c802",
   "metadata": {},
   "outputs": [],
   "source": [
    "c3=0o2525+65j"
   ]
  },
  {
   "cell_type": "code",
   "execution_count": 52,
   "id": "528d3c1a",
   "metadata": {},
   "outputs": [
    {
     "data": {
      "text/plain": [
       "(1365+65j)"
      ]
     },
     "execution_count": 52,
     "metadata": {},
     "output_type": "execute_result"
    }
   ],
   "source": [
    "c3"
   ]
  },
  {
   "cell_type": "code",
   "execution_count": 53,
   "id": "f3a96150",
   "metadata": {},
   "outputs": [
    {
     "data": {
      "text/plain": [
       "5.0"
      ]
     },
     "execution_count": 53,
     "metadata": {},
     "output_type": "execute_result"
    }
   ],
   "source": [
    "10/2"
   ]
  },
  {
   "cell_type": "code",
   "execution_count": 54,
   "id": "f59b2630",
   "metadata": {},
   "outputs": [
    {
     "ename": "SyntaxError",
     "evalue": "invalid octal literal (2052107822.py, line 1)",
     "output_type": "error",
     "traceback": [
      "\u001b[1;36m  Cell \u001b[1;32mIn[54], line 1\u001b[1;36m\u001b[0m\n\u001b[1;33m    c4=55+0o11j # imag part does not pass octal or binary in complex\u001b[0m\n\u001b[1;37m             ^\u001b[0m\n\u001b[1;31mSyntaxError\u001b[0m\u001b[1;31m:\u001b[0m invalid octal literal\n"
     ]
    }
   ],
   "source": [
    "c4=55+0o11j # imag part does not pass octal or binary in complex"
   ]
  },
  {
   "cell_type": "code",
   "execution_count": 55,
   "id": "3d853a6c",
   "metadata": {},
   "outputs": [
    {
     "ename": "SyntaxError",
     "evalue": "invalid hexadecimal literal (204271535.py, line 1)",
     "output_type": "error",
     "traceback": [
      "\u001b[1;36m  Cell \u001b[1;32mIn[55], line 1\u001b[1;36m\u001b[0m\n\u001b[1;33m    m5=55+0x55aj\u001b[0m\n\u001b[1;37m              ^\u001b[0m\n\u001b[1;31mSyntaxError\u001b[0m\u001b[1;31m:\u001b[0m invalid hexadecimal literal\n"
     ]
    }
   ],
   "source": [
    "m5=55+0x55aj"
   ]
  },
  {
   "cell_type": "code",
   "execution_count": 56,
   "id": "fb7e2e38",
   "metadata": {},
   "outputs": [
    {
     "data": {
      "text/plain": [
       "float"
      ]
     },
     "execution_count": 56,
     "metadata": {},
     "output_type": "execute_result"
    }
   ],
   "source": [
    "type(5.0)"
   ]
  },
  {
   "cell_type": "code",
   "execution_count": 57,
   "id": "1bce8c91",
   "metadata": {},
   "outputs": [
    {
     "data": {
      "text/plain": [
       "5"
      ]
     },
     "execution_count": 57,
     "metadata": {},
     "output_type": "execute_result"
    }
   ],
   "source": [
    "10//2"
   ]
  },
  {
   "cell_type": "code",
   "execution_count": 58,
   "id": "cbc106aa",
   "metadata": {},
   "outputs": [
    {
     "data": {
      "text/plain": [
       "int"
      ]
     },
     "execution_count": 58,
     "metadata": {},
     "output_type": "execute_result"
    }
   ],
   "source": [
    "type(5)"
   ]
  },
  {
   "cell_type": "markdown",
   "id": "3007473f",
   "metadata": {},
   "source": [
    "# BOOLEAN = 'bool' == True (1) & False(0) only these are in bool"
   ]
  },
  {
   "cell_type": "code",
   "execution_count": 59,
   "id": "ebc8ccd7",
   "metadata": {},
   "outputs": [],
   "source": [
    "l=True"
   ]
  },
  {
   "cell_type": "code",
   "execution_count": 60,
   "id": "d8bbea28",
   "metadata": {},
   "outputs": [
    {
     "data": {
      "text/plain": [
       "True"
      ]
     },
     "execution_count": 60,
     "metadata": {},
     "output_type": "execute_result"
    }
   ],
   "source": [
    "l"
   ]
  },
  {
   "cell_type": "code",
   "execution_count": 61,
   "id": "15d78a66",
   "metadata": {},
   "outputs": [],
   "source": [
    "k=False"
   ]
  },
  {
   "cell_type": "code",
   "execution_count": 62,
   "id": "7ce6f5b6",
   "metadata": {},
   "outputs": [
    {
     "data": {
      "text/plain": [
       "False"
      ]
     },
     "execution_count": 62,
     "metadata": {},
     "output_type": "execute_result"
    }
   ],
   "source": [
    "k"
   ]
  },
  {
   "cell_type": "code",
   "execution_count": 63,
   "id": "6bf6ab37",
   "metadata": {},
   "outputs": [
    {
     "data": {
      "text/plain": [
       "bool"
      ]
     },
     "execution_count": 63,
     "metadata": {},
     "output_type": "execute_result"
    }
   ],
   "source": [
    "type(l)"
   ]
  },
  {
   "cell_type": "code",
   "execution_count": 64,
   "id": "67d4b917",
   "metadata": {},
   "outputs": [
    {
     "name": "stdout",
     "output_type": "stream",
     "text": [
      "1\n",
      "1\n",
      "0\n"
     ]
    },
    {
     "ename": "ZeroDivisionError",
     "evalue": "division by zero",
     "output_type": "error",
     "traceback": [
      "\u001b[1;31m---------------------------------------------------------------------------\u001b[0m",
      "\u001b[1;31mZeroDivisionError\u001b[0m                         Traceback (most recent call last)",
      "Cell \u001b[1;32mIn[64], line 4\u001b[0m\n\u001b[0;32m      2\u001b[0m \u001b[38;5;28mprint\u001b[39m(l\u001b[38;5;241m-\u001b[39mk)\n\u001b[0;32m      3\u001b[0m \u001b[38;5;28mprint\u001b[39m(l\u001b[38;5;241m*\u001b[39mk)\n\u001b[1;32m----> 4\u001b[0m \u001b[38;5;28mprint\u001b[39m(\u001b[43ml\u001b[49m\u001b[38;5;241;43m/\u001b[39;49m\u001b[43mk\u001b[49m)\n",
      "\u001b[1;31mZeroDivisionError\u001b[0m: division by zero"
     ]
    }
   ],
   "source": [
    "print(l+k)\n",
    "print(l-k)\n",
    "print(l*k)\n",
    "print(l/k)"
   ]
  },
  {
   "cell_type": "code",
   "execution_count": 65,
   "id": "39dd3339",
   "metadata": {},
   "outputs": [
    {
     "name": "stdout",
     "output_type": "stream",
     "text": [
      "0.0\n"
     ]
    }
   ],
   "source": [
    "print(k/l)"
   ]
  },
  {
   "cell_type": "code",
   "execution_count": 66,
   "id": "f445c01a",
   "metadata": {},
   "outputs": [
    {
     "ename": "TypeError",
     "evalue": "object of type 'bool' has no len()",
     "output_type": "error",
     "traceback": [
      "\u001b[1;31m---------------------------------------------------------------------------\u001b[0m",
      "\u001b[1;31mTypeError\u001b[0m                                 Traceback (most recent call last)",
      "Cell \u001b[1;32mIn[66], line 1\u001b[0m\n\u001b[1;32m----> 1\u001b[0m \u001b[38;5;28;43mlen\u001b[39;49m\u001b[43m(\u001b[49m\u001b[43ml\u001b[49m\u001b[43m)\u001b[49m\n",
      "\u001b[1;31mTypeError\u001b[0m: object of type 'bool' has no len()"
     ]
    }
   ],
   "source": [
    "len(l)"
   ]
  },
  {
   "cell_type": "code",
   "execution_count": 67,
   "id": "c99b1430",
   "metadata": {},
   "outputs": [
    {
     "name": "stdout",
     "output_type": "stream",
     "text": [
      "False\n"
     ]
    }
   ],
   "source": [
    "print(k)"
   ]
  },
  {
   "cell_type": "code",
   "execution_count": 68,
   "id": "cd1aae0f",
   "metadata": {},
   "outputs": [
    {
     "data": {
      "text/plain": [
       "bool"
      ]
     },
     "execution_count": 68,
     "metadata": {},
     "output_type": "execute_result"
    }
   ],
   "source": [
    "type(k)"
   ]
  },
  {
   "cell_type": "code",
   "execution_count": 69,
   "id": "758ab42b",
   "metadata": {},
   "outputs": [
    {
     "data": {
      "text/plain": [
       "140713958918384"
      ]
     },
     "execution_count": 69,
     "metadata": {},
     "output_type": "execute_result"
    }
   ],
   "source": [
    "id(k) # place where the data isb stored in RAM "
   ]
  },
  {
   "cell_type": "markdown",
   "id": "827f659c",
   "metadata": {},
   "source": [
    "### STRING ==   \"str\"  only words are in , always data starts with ' ', \" \", '''  ''' .\n",
    "***Single line data is in ' ', \" \" only\n",
    "*** Multiple lines data is in ''' '''. indention."
   ]
  },
  {
   "cell_type": "code",
   "execution_count": 70,
   "id": "f3509571",
   "metadata": {},
   "outputs": [],
   "source": [
    "s1='Guten Tag , Bitte'"
   ]
  },
  {
   "cell_type": "code",
   "execution_count": 71,
   "id": "bf3c76c6",
   "metadata": {},
   "outputs": [
    {
     "data": {
      "text/plain": [
       "'Guten Tag , Bitte'"
      ]
     },
     "execution_count": 71,
     "metadata": {},
     "output_type": "execute_result"
    }
   ],
   "source": [
    "s1"
   ]
  },
  {
   "cell_type": "code",
   "execution_count": 72,
   "id": "b9889e70",
   "metadata": {},
   "outputs": [
    {
     "data": {
      "text/plain": [
       "str"
      ]
     },
     "execution_count": 72,
     "metadata": {},
     "output_type": "execute_result"
    }
   ],
   "source": [
    "type(s1)"
   ]
  },
  {
   "cell_type": "code",
   "execution_count": 73,
   "id": "3abe1de3",
   "metadata": {},
   "outputs": [],
   "source": [
    "s2=\"Gute Reise!\""
   ]
  },
  {
   "cell_type": "code",
   "execution_count": 74,
   "id": "6135fca3",
   "metadata": {},
   "outputs": [
    {
     "data": {
      "text/plain": [
       "'Gute Reise!'"
      ]
     },
     "execution_count": 74,
     "metadata": {},
     "output_type": "execute_result"
    }
   ],
   "source": [
    "s2"
   ]
  },
  {
   "cell_type": "code",
   "execution_count": 75,
   "id": "dc977842",
   "metadata": {},
   "outputs": [
    {
     "data": {
      "text/plain": [
       "str"
      ]
     },
     "execution_count": 75,
     "metadata": {},
     "output_type": "execute_result"
    }
   ],
   "source": [
    "type(s2)"
   ]
  },
  {
   "cell_type": "code",
   "execution_count": 76,
   "id": "2ccf3c6a",
   "metadata": {},
   "outputs": [],
   "source": [
    "s3= '''Guten Tag \n",
    "Wie heizst du?\n",
    "Wie geht es ihnen?''' # multiple lines '''is taken'''"
   ]
  },
  {
   "cell_type": "code",
   "execution_count": 77,
   "id": "f0b48ec1",
   "metadata": {},
   "outputs": [
    {
     "data": {
      "text/plain": [
       "'Guten Tag \\nWie heizst du?\\nWie geht es ihnen?'"
      ]
     },
     "execution_count": 77,
     "metadata": {},
     "output_type": "execute_result"
    }
   ],
   "source": [
    "s3 # \\n can be takes as new line"
   ]
  },
  {
   "cell_type": "markdown",
   "id": "0f94df50",
   "metadata": {},
   "source": [
    "### Arguments = Parameters\n",
    "****house(1bhk) = 1 argument/ parameter\n",
    "****house(1bhk,2bhk,3bhk) = 3 arguments / parameters"
   ]
  },
  {
   "cell_type": "markdown",
   "id": "3d201c49",
   "metadata": {},
   "source": [
    "## TYPE CASTING\n",
    "**Other datatype to \"int\"\n",
    "**Other datatype to \"float\"\n",
    "**Other datatype to \"complex\"\n",
    "**Other datatype to \"string\""
   ]
  },
  {
   "cell_type": "code",
   "execution_count": 78,
   "id": "af7ea81d",
   "metadata": {},
   "outputs": [
    {
     "data": {
      "text/plain": [
       "5"
      ]
     },
     "execution_count": 78,
     "metadata": {},
     "output_type": "execute_result"
    }
   ],
   "source": [
    "int(5.2) #float to \"int\""
   ]
  },
  {
   "cell_type": "code",
   "execution_count": 79,
   "id": "7e00884a",
   "metadata": {},
   "outputs": [
    {
     "ename": "TypeError",
     "evalue": "int() argument must be a string, a bytes-like object or a real number, not 'complex'",
     "output_type": "error",
     "traceback": [
      "\u001b[1;31m---------------------------------------------------------------------------\u001b[0m",
      "\u001b[1;31mTypeError\u001b[0m                                 Traceback (most recent call last)",
      "Cell \u001b[1;32mIn[79], line 1\u001b[0m\n\u001b[1;32m----> 1\u001b[0m \u001b[38;5;28;43mint\u001b[39;49m\u001b[43m(\u001b[49m\u001b[38;5;241;43m66\u001b[39;49m\u001b[38;5;241;43m+\u001b[39;49m\u001b[38;5;241;43m6\u001b[39;49m\u001b[43mj\u001b[49m\u001b[43m)\u001b[49m\n",
      "\u001b[1;31mTypeError\u001b[0m: int() argument must be a string, a bytes-like object or a real number, not 'complex'"
     ]
    }
   ],
   "source": [
    "int(66+6j) # int() argument must be a string, a bytes-like object or a real number, not 'complex'\n"
   ]
  },
  {
   "cell_type": "code",
   "execution_count": 80,
   "id": "4285a929",
   "metadata": {},
   "outputs": [
    {
     "ename": "TypeError",
     "evalue": "'float' object cannot be interpreted as an integer",
     "output_type": "error",
     "traceback": [
      "\u001b[1;31m---------------------------------------------------------------------------\u001b[0m",
      "\u001b[1;31mTypeError\u001b[0m                                 Traceback (most recent call last)",
      "Cell \u001b[1;32mIn[80], line 1\u001b[0m\n\u001b[1;32m----> 1\u001b[0m \u001b[38;5;28;43mint\u001b[39;49m\u001b[43m(\u001b[49m\u001b[38;5;241;43m1.2\u001b[39;49m\u001b[43m,\u001b[49m\u001b[38;5;241;43m2.2\u001b[39;49m\u001b[43m)\u001b[49m\n",
      "\u001b[1;31mTypeError\u001b[0m: 'float' object cannot be interpreted as an integer"
     ]
    }
   ],
   "source": [
    "int(1.2,2.2) # only one argument passes"
   ]
  },
  {
   "cell_type": "code",
   "execution_count": 81,
   "id": "6b5172a0",
   "metadata": {},
   "outputs": [
    {
     "data": {
      "text/plain": [
       "1"
      ]
     },
     "execution_count": 81,
     "metadata": {},
     "output_type": "execute_result"
    }
   ],
   "source": [
    "int(1.2)"
   ]
  },
  {
   "cell_type": "code",
   "execution_count": 82,
   "id": "581de85f",
   "metadata": {},
   "outputs": [
    {
     "data": {
      "text/plain": [
       "1"
      ]
     },
     "execution_count": 82,
     "metadata": {},
     "output_type": "execute_result"
    }
   ],
   "source": [
    "int(True) # bool to int"
   ]
  },
  {
   "cell_type": "code",
   "execution_count": 83,
   "id": "ffd176de",
   "metadata": {},
   "outputs": [
    {
     "ename": "ValueError",
     "evalue": "invalid literal for int() with base 10: 'hello'",
     "output_type": "error",
     "traceback": [
      "\u001b[1;31m---------------------------------------------------------------------------\u001b[0m",
      "\u001b[1;31mValueError\u001b[0m                                Traceback (most recent call last)",
      "Cell \u001b[1;32mIn[83], line 1\u001b[0m\n\u001b[1;32m----> 1\u001b[0m \u001b[38;5;28;43mint\u001b[39;49m\u001b[43m(\u001b[49m\u001b[38;5;124;43m\"\u001b[39;49m\u001b[38;5;124;43mhello\u001b[39;49m\u001b[38;5;124;43m\"\u001b[39;49m\u001b[43m)\u001b[49m\n",
      "\u001b[1;31mValueError\u001b[0m: invalid literal for int() with base 10: 'hello'"
     ]
    }
   ],
   "source": [
    "int(\"hello\") # str to int is not possible"
   ]
  },
  {
   "cell_type": "code",
   "execution_count": 84,
   "id": "0cd0b23b",
   "metadata": {},
   "outputs": [
    {
     "data": {
      "text/plain": [
       "10"
      ]
     },
     "execution_count": 84,
     "metadata": {},
     "output_type": "execute_result"
    }
   ],
   "source": [
    "int('10')"
   ]
  },
  {
   "cell_type": "code",
   "execution_count": 85,
   "id": "63ebcb4d",
   "metadata": {},
   "outputs": [],
   "source": [
    "u='10'"
   ]
  },
  {
   "cell_type": "code",
   "execution_count": 86,
   "id": "19081bf7",
   "metadata": {},
   "outputs": [
    {
     "data": {
      "text/plain": [
       "str"
      ]
     },
     "execution_count": 86,
     "metadata": {},
     "output_type": "execute_result"
    }
   ],
   "source": [
    "type(u)"
   ]
  },
  {
   "cell_type": "code",
   "execution_count": 87,
   "id": "f9cae121",
   "metadata": {},
   "outputs": [],
   "source": [
    "u1='''tree'''"
   ]
  },
  {
   "cell_type": "code",
   "execution_count": 88,
   "id": "82943434",
   "metadata": {},
   "outputs": [
    {
     "data": {
      "text/plain": [
       "'tree'"
      ]
     },
     "execution_count": 88,
     "metadata": {},
     "output_type": "execute_result"
    }
   ],
   "source": [
    "u1"
   ]
  },
  {
   "cell_type": "code",
   "execution_count": 89,
   "id": "0ab6d3e4",
   "metadata": {},
   "outputs": [
    {
     "data": {
      "text/plain": [
       "str"
      ]
     },
     "execution_count": 89,
     "metadata": {},
     "output_type": "execute_result"
    }
   ],
   "source": [
    "type(u1)"
   ]
  },
  {
   "cell_type": "code",
   "execution_count": 90,
   "id": "9eb1bcea",
   "metadata": {},
   "outputs": [
    {
     "ename": "NameError",
     "evalue": "name 'tree' is not defined",
     "output_type": "error",
     "traceback": [
      "\u001b[1;31m---------------------------------------------------------------------------\u001b[0m",
      "\u001b[1;31mNameError\u001b[0m                                 Traceback (most recent call last)",
      "Cell \u001b[1;32mIn[90], line 1\u001b[0m\n\u001b[1;32m----> 1\u001b[0m \u001b[38;5;28mint\u001b[39m(\u001b[43mtree\u001b[49m)\n",
      "\u001b[1;31mNameError\u001b[0m: name 'tree' is not defined"
     ]
    }
   ],
   "source": [
    "int(tree) # str to int in words is error"
   ]
  },
  {
   "cell_type": "markdown",
   "id": "05955c3a",
   "metadata": {},
   "source": [
    "**Other datatype to \"float\""
   ]
  },
  {
   "cell_type": "code",
   "execution_count": 91,
   "id": "286dd53a",
   "metadata": {},
   "outputs": [
    {
     "data": {
      "text/plain": [
       "225.0"
      ]
     },
     "execution_count": 91,
     "metadata": {},
     "output_type": "execute_result"
    }
   ],
   "source": [
    "float(225)"
   ]
  },
  {
   "cell_type": "code",
   "execution_count": 92,
   "id": "467f2110",
   "metadata": {},
   "outputs": [
    {
     "ename": "TypeError",
     "evalue": "float() argument must be a string or a real number, not 'complex'",
     "output_type": "error",
     "traceback": [
      "\u001b[1;31m---------------------------------------------------------------------------\u001b[0m",
      "\u001b[1;31mTypeError\u001b[0m                                 Traceback (most recent call last)",
      "Cell \u001b[1;32mIn[92], line 1\u001b[0m\n\u001b[1;32m----> 1\u001b[0m \u001b[38;5;28;43mfloat\u001b[39;49m\u001b[43m(\u001b[49m\u001b[38;5;241;43m21\u001b[39;49m\u001b[38;5;241;43m+\u001b[39;49m\u001b[38;5;241;43m2\u001b[39;49m\u001b[43mj\u001b[49m\u001b[43m)\u001b[49m\n",
      "\u001b[1;31mTypeError\u001b[0m: float() argument must be a string or a real number, not 'complex'"
     ]
    }
   ],
   "source": [
    "float(21+2j)"
   ]
  },
  {
   "cell_type": "code",
   "execution_count": 93,
   "id": "1d14c734",
   "metadata": {},
   "outputs": [
    {
     "data": {
      "text/plain": [
       "1.0"
      ]
     },
     "execution_count": 93,
     "metadata": {},
     "output_type": "execute_result"
    }
   ],
   "source": [
    "float(True)"
   ]
  },
  {
   "cell_type": "code",
   "execution_count": 94,
   "id": "55d965e1",
   "metadata": {},
   "outputs": [
    {
     "ename": "ValueError",
     "evalue": "could not convert string to float: 'ten'",
     "output_type": "error",
     "traceback": [
      "\u001b[1;31m---------------------------------------------------------------------------\u001b[0m",
      "\u001b[1;31mValueError\u001b[0m                                Traceback (most recent call last)",
      "Cell \u001b[1;32mIn[94], line 1\u001b[0m\n\u001b[1;32m----> 1\u001b[0m \u001b[38;5;28;43mfloat\u001b[39;49m\u001b[43m(\u001b[49m\u001b[38;5;124;43m'\u001b[39;49m\u001b[38;5;124;43mten\u001b[39;49m\u001b[38;5;124;43m'\u001b[39;49m\u001b[43m)\u001b[49m\n",
      "\u001b[1;31mValueError\u001b[0m: could not convert string to float: 'ten'"
     ]
    }
   ],
   "source": [
    "float('ten')"
   ]
  },
  {
   "cell_type": "code",
   "execution_count": 95,
   "id": "463fa9bd",
   "metadata": {},
   "outputs": [
    {
     "data": {
      "text/plain": [
       "10.0"
      ]
     },
     "execution_count": 95,
     "metadata": {},
     "output_type": "execute_result"
    }
   ],
   "source": [
    "float('10')"
   ]
  },
  {
   "cell_type": "markdown",
   "id": "5d714f90",
   "metadata": {},
   "source": [
    "**Other datatype to \"complex\""
   ]
  },
  {
   "cell_type": "code",
   "execution_count": 96,
   "id": "aaa73b39",
   "metadata": {},
   "outputs": [
    {
     "data": {
      "text/plain": [
       "(10+0j)"
      ]
     },
     "execution_count": 96,
     "metadata": {},
     "output_type": "execute_result"
    }
   ],
   "source": [
    "complex(10)"
   ]
  },
  {
   "cell_type": "code",
   "execution_count": 97,
   "id": "93b76551",
   "metadata": {},
   "outputs": [
    {
     "data": {
      "text/plain": [
       "(10+20j)"
      ]
     },
     "execution_count": 97,
     "metadata": {},
     "output_type": "execute_result"
    }
   ],
   "source": [
    "complex(10,20)"
   ]
  },
  {
   "cell_type": "code",
   "execution_count": 98,
   "id": "26609711",
   "metadata": {},
   "outputs": [
    {
     "ename": "TypeError",
     "evalue": "complex() takes at most 2 arguments (3 given)",
     "output_type": "error",
     "traceback": [
      "\u001b[1;31m---------------------------------------------------------------------------\u001b[0m",
      "\u001b[1;31mTypeError\u001b[0m                                 Traceback (most recent call last)",
      "Cell \u001b[1;32mIn[98], line 1\u001b[0m\n\u001b[1;32m----> 1\u001b[0m \u001b[38;5;28;43mcomplex\u001b[39;49m\u001b[43m(\u001b[49m\u001b[38;5;241;43m10\u001b[39;49m\u001b[43m,\u001b[49m\u001b[38;5;241;43m20\u001b[39;49m\u001b[43m,\u001b[49m\u001b[38;5;241;43m30\u001b[39;49m\u001b[43m)\u001b[49m\n",
      "\u001b[1;31mTypeError\u001b[0m: complex() takes at most 2 arguments (3 given)"
     ]
    }
   ],
   "source": [
    "complex(10,20,30)"
   ]
  },
  {
   "cell_type": "code",
   "execution_count": 99,
   "id": "ec06ca46",
   "metadata": {},
   "outputs": [
    {
     "data": {
      "text/plain": [
       "(10.23+0j)"
      ]
     },
     "execution_count": 99,
     "metadata": {},
     "output_type": "execute_result"
    }
   ],
   "source": [
    "complex(10.23)"
   ]
  },
  {
   "cell_type": "code",
   "execution_count": 100,
   "id": "17d87d3a",
   "metadata": {},
   "outputs": [
    {
     "data": {
      "text/plain": [
       "(1+0j)"
      ]
     },
     "execution_count": 100,
     "metadata": {},
     "output_type": "execute_result"
    }
   ],
   "source": [
    "complex(True)"
   ]
  },
  {
   "cell_type": "code",
   "execution_count": 101,
   "id": "ab161fbc",
   "metadata": {},
   "outputs": [
    {
     "data": {
      "text/plain": [
       "0j"
      ]
     },
     "execution_count": 101,
     "metadata": {},
     "output_type": "execute_result"
    }
   ],
   "source": [
    "complex(False)"
   ]
  },
  {
   "cell_type": "code",
   "execution_count": 102,
   "id": "60d30207",
   "metadata": {},
   "outputs": [
    {
     "data": {
      "text/plain": [
       "(1+0j)"
      ]
     },
     "execution_count": 102,
     "metadata": {},
     "output_type": "execute_result"
    }
   ],
   "source": [
    "complex(True,False)"
   ]
  },
  {
   "cell_type": "code",
   "execution_count": 103,
   "id": "d53cbd15",
   "metadata": {},
   "outputs": [
    {
     "data": {
      "text/plain": [
       "1j"
      ]
     },
     "execution_count": 103,
     "metadata": {},
     "output_type": "execute_result"
    }
   ],
   "source": [
    "complex(False,True)"
   ]
  },
  {
   "cell_type": "code",
   "execution_count": 104,
   "id": "ab5d9540",
   "metadata": {},
   "outputs": [
    {
     "data": {
      "text/plain": [
       "(10+0j)"
      ]
     },
     "execution_count": 104,
     "metadata": {},
     "output_type": "execute_result"
    }
   ],
   "source": [
    "complex('10')"
   ]
  },
  {
   "cell_type": "code",
   "execution_count": 105,
   "id": "e0cb36bf",
   "metadata": {},
   "outputs": [
    {
     "ename": "ValueError",
     "evalue": "complex() arg is a malformed string",
     "output_type": "error",
     "traceback": [
      "\u001b[1;31m---------------------------------------------------------------------------\u001b[0m",
      "\u001b[1;31mValueError\u001b[0m                                Traceback (most recent call last)",
      "Cell \u001b[1;32mIn[105], line 1\u001b[0m\n\u001b[1;32m----> 1\u001b[0m \u001b[38;5;28;43mcomplex\u001b[39;49m\u001b[43m(\u001b[49m\u001b[38;5;124;43m'\u001b[39;49m\u001b[38;5;124;43mTen\u001b[39;49m\u001b[38;5;124;43m'\u001b[39;49m\u001b[43m)\u001b[49m\n",
      "\u001b[1;31mValueError\u001b[0m: complex() arg is a malformed string"
     ]
    }
   ],
   "source": [
    "complex('Ten')"
   ]
  },
  {
   "cell_type": "code",
   "execution_count": 106,
   "id": "0994054c",
   "metadata": {},
   "outputs": [
    {
     "ename": "TypeError",
     "evalue": "complex() can't take second arg if first is a string",
     "output_type": "error",
     "traceback": [
      "\u001b[1;31m---------------------------------------------------------------------------\u001b[0m",
      "\u001b[1;31mTypeError\u001b[0m                                 Traceback (most recent call last)",
      "Cell \u001b[1;32mIn[106], line 1\u001b[0m\n\u001b[1;32m----> 1\u001b[0m \u001b[38;5;28;43mcomplex\u001b[39;49m\u001b[43m(\u001b[49m\u001b[38;5;124;43m'\u001b[39;49m\u001b[38;5;124;43m10\u001b[39;49m\u001b[38;5;124;43m'\u001b[39;49m\u001b[43m,\u001b[49m\u001b[38;5;124;43m'\u001b[39;49m\u001b[38;5;124;43m20\u001b[39;49m\u001b[38;5;124;43m'\u001b[39;49m\u001b[43m)\u001b[49m\n",
      "\u001b[1;31mTypeError\u001b[0m: complex() can't take second arg if first is a string"
     ]
    }
   ],
   "source": [
    "complex('10','20') # complex cannot pass two str arguments only one str argument"
   ]
  },
  {
   "cell_type": "code",
   "execution_count": 107,
   "id": "e5d93ee3",
   "metadata": {},
   "outputs": [
    {
     "ename": "TypeError",
     "evalue": "complex() can't take second arg if first is a string",
     "output_type": "error",
     "traceback": [
      "\u001b[1;31m---------------------------------------------------------------------------\u001b[0m",
      "\u001b[1;31mTypeError\u001b[0m                                 Traceback (most recent call last)",
      "Cell \u001b[1;32mIn[107], line 1\u001b[0m\n\u001b[1;32m----> 1\u001b[0m \u001b[38;5;28;43mcomplex\u001b[39;49m\u001b[43m(\u001b[49m\u001b[38;5;124;43m'\u001b[39;49m\u001b[38;5;124;43mten\u001b[39;49m\u001b[38;5;124;43m'\u001b[39;49m\u001b[43m,\u001b[49m\u001b[38;5;124;43m'\u001b[39;49m\u001b[38;5;124;43m10\u001b[39;49m\u001b[38;5;124;43m'\u001b[39;49m\u001b[43m)\u001b[49m\n",
      "\u001b[1;31mTypeError\u001b[0m: complex() can't take second arg if first is a string"
     ]
    }
   ],
   "source": [
    "complex('ten','10')  # complex() can't take second arg if first is a string"
   ]
  },
  {
   "cell_type": "markdown",
   "id": "e80d652f",
   "metadata": {},
   "source": [
    "###  DATA STRUCTURES ###\n",
    "\n",
    "--- LIST\n",
    "--- TUPLE\n",
    "--- SET\n",
    "--- DICT\n",
    "--- RANGE"
   ]
  },
  {
   "cell_type": "code",
   "execution_count": 108,
   "id": "7005c6a8",
   "metadata": {},
   "outputs": [
    {
     "name": "stdout",
     "output_type": "stream",
     "text": [
      "55 55 55 55\n"
     ]
    }
   ],
   "source": [
    "p1=p2=p3=p4=55\n",
    "print(p1,p2,p3,p4)"
   ]
  },
  {
   "cell_type": "code",
   "execution_count": 109,
   "id": "9af52170",
   "metadata": {},
   "outputs": [
    {
     "name": "stdout",
     "output_type": "stream",
     "text": [
      "5\n"
     ]
    }
   ],
   "source": [
    "y,j,i=1,2,3\n",
    "print(i+j*y)"
   ]
  },
  {
   "cell_type": "code",
   "execution_count": 110,
   "id": "a0369cfc",
   "metadata": {},
   "outputs": [
    {
     "name": "stdout",
     "output_type": "stream",
     "text": [
      "-967\n"
     ]
    }
   ],
   "source": [
    "k=33\n",
    "l=556\n",
    "kjgkgk=444\n",
    "print(k-l-kjgkgk)"
   ]
  },
  {
   "cell_type": "code",
   "execution_count": 111,
   "id": "a3f86688",
   "metadata": {},
   "outputs": [],
   "source": [
    "p1= 20+30+\\\n",
    "    40+50+\\\n",
    "    +10+20"
   ]
  },
  {
   "cell_type": "code",
   "execution_count": 112,
   "id": "17a8085a",
   "metadata": {},
   "outputs": [
    {
     "data": {
      "text/plain": [
       "170"
      ]
     },
     "execution_count": 112,
     "metadata": {},
     "output_type": "execute_result"
    }
   ],
   "source": [
    "p1"
   ]
  },
  {
   "cell_type": "code",
   "execution_count": 113,
   "id": "eddcb2bd",
   "metadata": {},
   "outputs": [
    {
     "data": {
      "text/plain": [
       "['y', 'k', 'n', 'b']"
      ]
     },
     "execution_count": 113,
     "metadata": {},
     "output_type": "execute_result"
    }
   ],
   "source": [
    "pp=['y',\n",
    "   'k',\n",
    "   'n',\n",
    "   'b',\n",
    "   ]\n",
    "pp"
   ]
  },
  {
   "cell_type": "code",
   "execution_count": 114,
   "id": "fccb7b4e",
   "metadata": {},
   "outputs": [
    {
     "name": "stdout",
     "output_type": "stream",
     "text": [
      "kk is equal to 10\n"
     ]
    }
   ],
   "source": [
    "kk=10\n",
    "if kk==10:\n",
    " print('kk is equal to 10')"
   ]
  },
  {
   "cell_type": "code",
   "execution_count": 115,
   "id": "bd358ce1",
   "metadata": {},
   "outputs": [
    {
     "name": "stdout",
     "output_type": "stream",
     "text": [
      "10\n"
     ]
    }
   ],
   "source": [
    "kk = 10\n",
    "if kk == 10:\n",
    "    print(kk)\n"
   ]
  },
  {
   "cell_type": "code",
   "execution_count": 116,
   "id": "eead45bb",
   "metadata": {},
   "outputs": [
    {
     "name": "stdout",
     "output_type": "stream",
     "text": [
      "P is equal to 10\n"
     ]
    }
   ],
   "source": [
    "p = 10\n",
    "if p == 10:\n",
    " print ('P is equal to 10') "
   ]
  },
  {
   "cell_type": "code",
   "execution_count": 117,
   "id": "3a9d4d30",
   "metadata": {},
   "outputs": [
    {
     "name": "stdout",
     "output_type": "stream",
     "text": [
      "you are my son\n"
     ]
    }
   ],
   "source": [
    "print('you are my son')"
   ]
  },
  {
   "cell_type": "code",
   "execution_count": 118,
   "id": "a2dd2363",
   "metadata": {},
   "outputs": [
    {
     "name": "stdout",
     "output_type": "stream",
     "text": [
      "0\n",
      "1\n",
      "2\n",
      "3\n",
      "4\n",
      "5\n",
      "6\n",
      "7\n",
      "8\n"
     ]
    }
   ],
   "source": [
    "for i in range(0,9):\n",
    "    print(i)"
   ]
  },
  {
   "cell_type": "code",
   "execution_count": 119,
   "id": "39764f22",
   "metadata": {},
   "outputs": [
    {
     "name": "stdout",
     "output_type": "stream",
     "text": [
      "0\n",
      "1\n",
      "2\n",
      "3\n",
      "4\n",
      "5\n",
      "6\n",
      "7\n",
      "8\n"
     ]
    }
   ],
   "source": [
    "for i in range(0,9):print(i)"
   ]
  },
  {
   "cell_type": "code",
   "execution_count": 120,
   "id": "8ee36085",
   "metadata": {},
   "outputs": [
    {
     "name": "stdout",
     "output_type": "stream",
     "text": [
      "0\n",
      "1\n",
      "2\n",
      "3\n",
      "4\n",
      "5\n",
      "6\n",
      "7\n",
      "8\n",
      "963\n"
     ]
    }
   ],
   "source": [
    "l=963\n",
    "for i in range(0,9):print(i)\n",
    "print(l)"
   ]
  },
  {
   "cell_type": "code",
   "execution_count": 121,
   "id": "e81a8ab3",
   "metadata": {},
   "outputs": [],
   "source": [
    "def square(num):\n",
    "    '''Square Function :- This Function will return the square of the number '''\n",
    "    return num**2"
   ]
  },
  {
   "cell_type": "code",
   "execution_count": 122,
   "id": "68004787",
   "metadata": {},
   "outputs": [
    {
     "data": {
      "text/plain": [
       "9"
      ]
     },
     "execution_count": 122,
     "metadata": {},
     "output_type": "execute_result"
    }
   ],
   "source": [
    "square(3)"
   ]
  },
  {
   "cell_type": "code",
   "execution_count": 123,
   "id": "70f291ec",
   "metadata": {},
   "outputs": [
    {
     "data": {
      "text/plain": [
       "'Square Function :- This Function will return the square of the number '"
      ]
     },
     "execution_count": 123,
     "metadata": {},
     "output_type": "execute_result"
    }
   ],
   "source": [
    "square.__doc__"
   ]
  },
  {
   "cell_type": "code",
   "execution_count": 124,
   "id": "18b38dd0",
   "metadata": {},
   "outputs": [
    {
     "data": {
      "text/plain": [
       "49"
      ]
     },
     "execution_count": 124,
     "metadata": {},
     "output_type": "execute_result"
    }
   ],
   "source": [
    "p=40\n",
    "p=p+9\n",
    "p"
   ]
  },
  {
   "cell_type": "code",
   "execution_count": 125,
   "id": "bce6ae6c",
   "metadata": {},
   "outputs": [
    {
     "data": {
      "text/plain": [
       "(25+55j)"
      ]
     },
     "execution_count": 125,
     "metadata": {},
     "output_type": "execute_result"
    }
   ],
   "source": [
    "j=25+55j\n",
    "j"
   ]
  },
  {
   "cell_type": "code",
   "execution_count": 126,
   "id": "5f738f3b",
   "metadata": {},
   "outputs": [
    {
     "name": "stdout",
     "output_type": "stream",
     "text": [
      "(25+55j)\n"
     ]
    }
   ],
   "source": [
    "type(j)\n",
    "print(j)\n"
   ]
  },
  {
   "cell_type": "code",
   "execution_count": 127,
   "id": "09aae904",
   "metadata": {},
   "outputs": [
    {
     "data": {
      "text/plain": [
       "complex"
      ]
     },
     "execution_count": 127,
     "metadata": {},
     "output_type": "execute_result"
    }
   ],
   "source": [
    "type(j)"
   ]
  },
  {
   "cell_type": "code",
   "execution_count": 128,
   "id": "5b40abd0",
   "metadata": {},
   "outputs": [
    {
     "ename": "NameError",
     "evalue": "name 'sys' is not defined",
     "output_type": "error",
     "traceback": [
      "\u001b[1;31m---------------------------------------------------------------------------\u001b[0m",
      "\u001b[1;31mNameError\u001b[0m                                 Traceback (most recent call last)",
      "Cell \u001b[1;32mIn[128], line 1\u001b[0m\n\u001b[1;32m----> 1\u001b[0m \u001b[43msys\u001b[49m\u001b[38;5;241m.\u001b[39mgetsizeof(j)\n",
      "\u001b[1;31mNameError\u001b[0m: name 'sys' is not defined"
     ]
    }
   ],
   "source": [
    "sys.getsizeof(j)"
   ]
  },
  {
   "cell_type": "code",
   "execution_count": 129,
   "id": "55e887de",
   "metadata": {},
   "outputs": [
    {
     "data": {
      "text/plain": [
       "'studystudystudy'"
      ]
     },
     "execution_count": 129,
     "metadata": {},
     "output_type": "execute_result"
    }
   ],
   "source": [
    "gk='study'\n",
    "gk=gk*3\n",
    "gk"
   ]
  },
  {
   "cell_type": "code",
   "execution_count": 130,
   "id": "028b66b5",
   "metadata": {},
   "outputs": [
    {
     "data": {
      "text/plain": [
       "15"
      ]
     },
     "execution_count": 130,
     "metadata": {},
     "output_type": "execute_result"
    }
   ],
   "source": [
    "len(gk)"
   ]
  },
  {
   "cell_type": "code",
   "execution_count": 131,
   "id": "aca3830f",
   "metadata": {},
   "outputs": [
    {
     "data": {
      "text/plain": [
       "'s'"
      ]
     },
     "execution_count": 131,
     "metadata": {},
     "output_type": "execute_result"
    }
   ],
   "source": [
    "gk[0]"
   ]
  },
  {
   "cell_type": "code",
   "execution_count": 132,
   "id": "5c81f08a",
   "metadata": {},
   "outputs": [
    {
     "data": {
      "text/plain": [
       "'t'"
      ]
     },
     "execution_count": 132,
     "metadata": {},
     "output_type": "execute_result"
    }
   ],
   "source": [
    "gk[-9]"
   ]
  },
  {
   "cell_type": "code",
   "execution_count": 133,
   "id": "c537f1a5",
   "metadata": {},
   "outputs": [
    {
     "data": {
      "text/plain": [
       "'gutenmorgen'"
      ]
     },
     "execution_count": 133,
     "metadata": {},
     "output_type": "execute_result"
    }
   ],
   "source": [
    "s1=\"guten\"\n",
    "s2=\"morgen\"\n",
    "s3=s1+s2\n",
    "s3"
   ]
  },
  {
   "cell_type": "code",
   "execution_count": 134,
   "id": "4bba7f14",
   "metadata": {},
   "outputs": [
    {
     "data": {
      "text/plain": [
       "'guten morgen'"
      ]
     },
     "execution_count": 134,
     "metadata": {},
     "output_type": "execute_result"
    }
   ],
   "source": [
    "s3=s1+\" \"+s2  #string concatenation\n",
    "s3"
   ]
  },
  {
   "cell_type": "code",
   "execution_count": 135,
   "id": "36e35091",
   "metadata": {},
   "outputs": [
    {
     "name": "stdout",
     "output_type": "stream",
     "text": [
      "g\n",
      "u\n",
      "t\n",
      "e\n",
      "n\n",
      " \n",
      "m\n",
      "o\n",
      "r\n",
      "g\n",
      "e\n",
      "n\n"
     ]
    }
   ],
   "source": [
    "for i in s3:\n",
    "    print(i)\n"
   ]
  },
  {
   "cell_type": "code",
   "execution_count": 136,
   "id": "7a772ca8",
   "metadata": {},
   "outputs": [
    {
     "name": "stdout",
     "output_type": "stream",
     "text": [
      "guten morgen\n",
      "guten morgen\n",
      "guten morgen\n",
      "guten morgen\n",
      "guten morgen\n",
      "guten morgen\n",
      "guten morgen\n",
      "guten morgen\n",
      "guten morgen\n",
      "guten morgen\n",
      "guten morgen\n",
      "guten morgen\n"
     ]
    }
   ],
   "source": [
    "for i in enumerate(s3):\n",
    "    print(s3)"
   ]
  },
  {
   "cell_type": "code",
   "execution_count": 137,
   "id": "535e291c",
   "metadata": {},
   "outputs": [
    {
     "name": "stdout",
     "output_type": "stream",
     "text": [
      "(0, 'g')\n",
      "(1, 'u')\n",
      "(2, 't')\n",
      "(3, 'e')\n",
      "(4, 'n')\n",
      "(5, ' ')\n",
      "(6, 'm')\n",
      "(7, 'o')\n",
      "(8, 'r')\n",
      "(9, 'g')\n",
      "(10, 'e')\n",
      "(11, 'n')\n"
     ]
    }
   ],
   "source": [
    "for i in enumerate(s3):\n",
    " print(i)"
   ]
  },
  {
   "cell_type": "code",
   "execution_count": 138,
   "id": "7fa53666",
   "metadata": {},
   "outputs": [
    {
     "data": {
      "text/plain": [
       "[(0, 'g'),\n",
       " (1, 'u'),\n",
       " (2, 't'),\n",
       " (3, 'e'),\n",
       " (4, 'n'),\n",
       " (5, ' '),\n",
       " (6, 'm'),\n",
       " (7, 'o'),\n",
       " (8, 'r'),\n",
       " (9, 'g'),\n",
       " (10, 'e'),\n",
       " (11, 'n')]"
      ]
     },
     "execution_count": 138,
     "metadata": {},
     "output_type": "execute_result"
    }
   ],
   "source": [
    "list(enumerate(s3))"
   ]
  },
  {
   "cell_type": "code",
   "execution_count": 139,
   "id": "2bfe1e24",
   "metadata": {},
   "outputs": [
    {
     "name": "stdout",
     "output_type": "stream",
     "text": [
      "True\n",
      "True\n",
      "False\n"
     ]
    }
   ],
   "source": [
    "s3='guten morgen'\n",
    "\n",
    "print('guten' in s3)\n",
    "print('morgen' in s3)\n",
    "print('herr' in s3)"
   ]
  },
  {
   "cell_type": "markdown",
   "id": "4d657ffd",
   "metadata": {},
   "source": [
    "### LIST  --- Ordered sequence of items"
   ]
  },
  {
   "cell_type": "code",
   "execution_count": 140,
   "id": "7aa2da6d",
   "metadata": {},
   "outputs": [],
   "source": [
    "l=[]"
   ]
  },
  {
   "cell_type": "code",
   "execution_count": 141,
   "id": "6928610b",
   "metadata": {},
   "outputs": [
    {
     "data": {
      "text/plain": [
       "list"
      ]
     },
     "execution_count": 141,
     "metadata": {},
     "output_type": "execute_result"
    }
   ],
   "source": [
    "type(l)"
   ]
  },
  {
   "cell_type": "code",
   "execution_count": 142,
   "id": "2bedae0a",
   "metadata": {},
   "outputs": [
    {
     "name": "stdout",
     "output_type": "stream",
     "text": [
      "[]\n"
     ]
    }
   ],
   "source": [
    "print(l)"
   ]
  },
  {
   "cell_type": "code",
   "execution_count": 143,
   "id": "28d74e37",
   "metadata": {},
   "outputs": [],
   "source": [
    "l.append(10)"
   ]
  },
  {
   "cell_type": "code",
   "execution_count": 144,
   "id": "73242aa4",
   "metadata": {},
   "outputs": [
    {
     "ename": "TypeError",
     "evalue": "list.append() takes exactly one argument (2 given)",
     "output_type": "error",
     "traceback": [
      "\u001b[1;31m---------------------------------------------------------------------------\u001b[0m",
      "\u001b[1;31mTypeError\u001b[0m                                 Traceback (most recent call last)",
      "Cell \u001b[1;32mIn[144], line 1\u001b[0m\n\u001b[1;32m----> 1\u001b[0m \u001b[43ml\u001b[49m\u001b[38;5;241;43m.\u001b[39;49m\u001b[43mappend\u001b[49m\u001b[43m(\u001b[49m\u001b[38;5;241;43m20\u001b[39;49m\u001b[43m,\u001b[49m\u001b[38;5;241;43m30\u001b[39;49m\u001b[43m)\u001b[49m\n",
      "\u001b[1;31mTypeError\u001b[0m: list.append() takes exactly one argument (2 given)"
     ]
    }
   ],
   "source": [
    "l.append(20,30)"
   ]
  },
  {
   "cell_type": "code",
   "execution_count": 145,
   "id": "cf03f4b7",
   "metadata": {},
   "outputs": [],
   "source": [
    "l.append(20)"
   ]
  },
  {
   "cell_type": "code",
   "execution_count": 146,
   "id": "56cfd93f",
   "metadata": {},
   "outputs": [
    {
     "data": {
      "text/plain": [
       "[10, 20]"
      ]
     },
     "execution_count": 146,
     "metadata": {},
     "output_type": "execute_result"
    }
   ],
   "source": [
    "l"
   ]
  },
  {
   "cell_type": "code",
   "execution_count": 147,
   "id": "9b7e7b1a",
   "metadata": {},
   "outputs": [],
   "source": [
    "l.insert(2,40)"
   ]
  },
  {
   "cell_type": "code",
   "execution_count": 148,
   "id": "5ec7e301",
   "metadata": {},
   "outputs": [
    {
     "data": {
      "text/plain": [
       "[10, 20, 40]"
      ]
     },
     "execution_count": 148,
     "metadata": {},
     "output_type": "execute_result"
    }
   ],
   "source": [
    "l"
   ]
  },
  {
   "cell_type": "code",
   "execution_count": 149,
   "id": "570c27f7",
   "metadata": {},
   "outputs": [],
   "source": [
    "l.insert(2,30)"
   ]
  },
  {
   "cell_type": "code",
   "execution_count": 150,
   "id": "4dcb6c01",
   "metadata": {},
   "outputs": [
    {
     "data": {
      "text/plain": [
       "[10, 20, 30, 40]"
      ]
     },
     "execution_count": 150,
     "metadata": {},
     "output_type": "execute_result"
    }
   ],
   "source": [
    "l"
   ]
  },
  {
   "cell_type": "code",
   "execution_count": 151,
   "id": "80d02321",
   "metadata": {},
   "outputs": [],
   "source": [
    "l1=[10,20,30,40] # list of int"
   ]
  },
  {
   "cell_type": "code",
   "execution_count": 152,
   "id": "cdc533db",
   "metadata": {},
   "outputs": [],
   "source": [
    "l2=[10.22,55.6,77.8] # list of floats"
   ]
  },
  {
   "cell_type": "code",
   "execution_count": 153,
   "id": "00cafd4b",
   "metadata": {},
   "outputs": [],
   "source": [
    "l3=[True,False] # list of bools"
   ]
  },
  {
   "cell_type": "code",
   "execution_count": 154,
   "id": "c4a6e7a9",
   "metadata": {},
   "outputs": [],
   "source": [
    "l4=['ich','heize','sai','chand'] # list of strings"
   ]
  },
  {
   "cell_type": "code",
   "execution_count": 155,
   "id": "248597b2",
   "metadata": {},
   "outputs": [],
   "source": [
    "l5=[20,30.8,'sai',True,[66,77],[45,1+7j]] # nested lists"
   ]
  },
  {
   "cell_type": "code",
   "execution_count": 156,
   "id": "4d13f5b1",
   "metadata": {},
   "outputs": [],
   "source": [
    "l6=['k',12,33+0j,90.99] # list of mixed data types"
   ]
  },
  {
   "cell_type": "code",
   "execution_count": 157,
   "id": "0f6c12fe",
   "metadata": {},
   "outputs": [
    {
     "data": {
      "text/plain": [
       "6"
      ]
     },
     "execution_count": 157,
     "metadata": {},
     "output_type": "execute_result"
    }
   ],
   "source": [
    "len(l5)"
   ]
  },
  {
   "cell_type": "markdown",
   "id": "29bd70b0",
   "metadata": {},
   "source": [
    "# INDEXING-- Forward indexing (0-9, left to right), Backward indexing(-1to -9,right to left)"
   ]
  },
  {
   "cell_type": "code",
   "execution_count": 158,
   "id": "ebae5cae",
   "metadata": {},
   "outputs": [
    {
     "data": {
      "text/plain": [
       "'k'"
      ]
     },
     "execution_count": 158,
     "metadata": {},
     "output_type": "execute_result"
    }
   ],
   "source": [
    "l6[0]  # Retreive first element of the list"
   ]
  },
  {
   "cell_type": "code",
   "execution_count": 159,
   "id": "5d41fe62",
   "metadata": {},
   "outputs": [
    {
     "data": {
      "text/plain": [
       "['k', 12, (33+0j), 90.99]"
      ]
     },
     "execution_count": 159,
     "metadata": {},
     "output_type": "execute_result"
    }
   ],
   "source": [
    "l6"
   ]
  },
  {
   "cell_type": "code",
   "execution_count": 160,
   "id": "82c44bc9",
   "metadata": {},
   "outputs": [
    {
     "data": {
      "text/plain": [
       "90.99"
      ]
     },
     "execution_count": 160,
     "metadata": {},
     "output_type": "execute_result"
    }
   ],
   "source": [
    "l6[-1]  # Last item of the list"
   ]
  },
  {
   "cell_type": "code",
   "execution_count": 161,
   "id": "4ffe0c60",
   "metadata": {},
   "outputs": [
    {
     "data": {
      "text/plain": [
       "90.99"
      ]
     },
     "execution_count": 161,
     "metadata": {},
     "output_type": "execute_result"
    }
   ],
   "source": [
    "l6[3] "
   ]
  },
  {
   "cell_type": "code",
   "execution_count": 162,
   "id": "aac28c9d",
   "metadata": {},
   "outputs": [
    {
     "data": {
      "text/plain": [
       "'k'"
      ]
     },
     "execution_count": 162,
     "metadata": {},
     "output_type": "execute_result"
    }
   ],
   "source": [
    "l6[-4]"
   ]
  },
  {
   "cell_type": "code",
   "execution_count": 163,
   "id": "96af714d",
   "metadata": {},
   "outputs": [
    {
     "data": {
      "text/plain": [
       "'ich'"
      ]
     },
     "execution_count": 163,
     "metadata": {},
     "output_type": "execute_result"
    }
   ],
   "source": [
    "l4[0]"
   ]
  },
  {
   "cell_type": "code",
   "execution_count": 176,
   "id": "4e34b271",
   "metadata": {},
   "outputs": [
    {
     "data": {
      "text/plain": [
       "'i'"
      ]
     },
     "execution_count": 176,
     "metadata": {},
     "output_type": "execute_result"
    }
   ],
   "source": [
    "l4[0][0]"
   ]
  },
  {
   "cell_type": "markdown",
   "id": "6c050498",
   "metadata": {},
   "source": [
    "#List Slicing"
   ]
  },
  {
   "cell_type": "code",
   "execution_count": 177,
   "id": "02bc1b20",
   "metadata": {},
   "outputs": [
    {
     "data": {
      "text/plain": [
       "['one', 'two', 'three', 'four', 'five', 'six', 'seven', 'eight', 'nine', 'ten']"
      ]
     },
     "execution_count": 177,
     "metadata": {},
     "output_type": "execute_result"
    }
   ],
   "source": [
    "mylist=['one','two','three','four','five','six','seven','eight','nine','ten']\n",
    "mylist"
   ]
  },
  {
   "cell_type": "code",
   "execution_count": 178,
   "id": "c72e79e6",
   "metadata": {},
   "outputs": [
    {
     "data": {
      "text/plain": [
       "['one', 'two', 'three']"
      ]
     },
     "execution_count": 178,
     "metadata": {},
     "output_type": "execute_result"
    }
   ],
   "source": [
    "mylist[0:3] # Return all items from 0th to 3rd index location excluding the item at last (n-1)=3-1=2--0,1,2"
   ]
  },
  {
   "cell_type": "code",
   "execution_count": 179,
   "id": "c0b4fe1a",
   "metadata": {},
   "outputs": [
    {
     "data": {
      "text/plain": [
       "['one', 'two', 'three', 'four', 'five', 'six', 'seven', 'eight', 'nine', 'ten']"
      ]
     },
     "execution_count": 179,
     "metadata": {},
     "output_type": "execute_result"
    }
   ],
   "source": [
    "mylist[0:11]# Return all items from 0th to 11th index location ,if not all there ,will give evrything in the list"
   ]
  },
  {
   "cell_type": "code",
   "execution_count": 180,
   "id": "6bec1451",
   "metadata": {},
   "outputs": [
    {
     "data": {
      "text/plain": [
       "['three', 'four', 'five']"
      ]
     },
     "execution_count": 180,
     "metadata": {},
     "output_type": "execute_result"
    }
   ],
   "source": [
    "mylist[2:5]# List all items from 2nd to 5th index location excluding the item at last "
   ]
  },
  {
   "cell_type": "code",
   "execution_count": 181,
   "id": "8acb9c38",
   "metadata": {},
   "outputs": [
    {
     "ename": "TypeError",
     "evalue": "'builtin_function_or_method' object is not subscriptable",
     "output_type": "error",
     "traceback": [
      "\u001b[1;31m---------------------------------------------------------------------------\u001b[0m",
      "\u001b[1;31mTypeError\u001b[0m                                 Traceback (most recent call last)",
      "Cell \u001b[1;32mIn[181], line 1\u001b[0m\n\u001b[1;32m----> 1\u001b[0m \u001b[43mmylist\u001b[49m\u001b[38;5;241;43m.\u001b[39;49m\u001b[43mindex\u001b[49m\u001b[43m[\u001b[49m\u001b[38;5;124;43m'\u001b[39;49m\u001b[38;5;124;43m5\u001b[39;49m\u001b[38;5;124;43m'\u001b[39;49m\u001b[43m]\u001b[49m\n",
      "\u001b[1;31mTypeError\u001b[0m: 'builtin_function_or_method' object is not subscriptable"
     ]
    }
   ],
   "source": [
    "mylist.index['5']"
   ]
  },
  {
   "cell_type": "code",
   "execution_count": 182,
   "id": "184a79d9",
   "metadata": {},
   "outputs": [
    {
     "data": {
      "text/plain": [
       "['one', 'two', 'three', 'four', 'five']"
      ]
     },
     "execution_count": 182,
     "metadata": {},
     "output_type": "execute_result"
    }
   ],
   "source": [
    "mylist[:5]"
   ]
  },
  {
   "cell_type": "code",
   "execution_count": 183,
   "id": "315b84c2",
   "metadata": {},
   "outputs": [
    {
     "data": {
      "text/plain": [
       "['one', 'two', 'three']"
      ]
     },
     "execution_count": 183,
     "metadata": {},
     "output_type": "execute_result"
    }
   ],
   "source": [
    "mylist[:3]"
   ]
  },
  {
   "cell_type": "code",
   "execution_count": 184,
   "id": "8b0d7b94",
   "metadata": {},
   "outputs": [
    {
     "data": {
      "text/plain": [
       "['one', 'two', 'three', 'four', 'five', 'six', 'seven', 'eight', 'nine', 'ten']"
      ]
     },
     "execution_count": 184,
     "metadata": {},
     "output_type": "execute_result"
    }
   ],
   "source": [
    "mylist[:]"
   ]
  },
  {
   "cell_type": "code",
   "execution_count": 185,
   "id": "746d6096",
   "metadata": {},
   "outputs": [
    {
     "data": {
      "text/plain": [
       "[1, 2, 3, 4, 5, 6]"
      ]
     },
     "execution_count": 185,
     "metadata": {},
     "output_type": "execute_result"
    }
   ],
   "source": [
    "mylist1=[1,2,3,4,5,6]\n",
    "mylist1"
   ]
  },
  {
   "cell_type": "code",
   "execution_count": 186,
   "id": "6fa5a024",
   "metadata": {},
   "outputs": [
    {
     "data": {
      "text/plain": [
       "[1, 2, 3, 4]"
      ]
     },
     "execution_count": 186,
     "metadata": {},
     "output_type": "execute_result"
    }
   ],
   "source": [
    "mylist1[:4]"
   ]
  },
  {
   "cell_type": "code",
   "execution_count": 187,
   "id": "af362662",
   "metadata": {},
   "outputs": [
    {
     "data": {
      "text/plain": [
       "['one', 'two', 'three', 'four', 'five', 'six', 'seven', 'eight']"
      ]
     },
     "execution_count": 187,
     "metadata": {},
     "output_type": "execute_result"
    }
   ],
   "source": [
    "list=['one', 'two', 'three', 'four', 'five', 'six', 'seven', 'eight']\n",
    "list"
   ]
  },
  {
   "cell_type": "code",
   "execution_count": 188,
   "id": "baa524bd",
   "metadata": {},
   "outputs": [
    {
     "data": {
      "text/plain": [
       "['one', 'two', 'three', 'four', 'five']"
      ]
     },
     "execution_count": 188,
     "metadata": {},
     "output_type": "execute_result"
    }
   ],
   "source": [
    "list[:5] # Return first five items"
   ]
  },
  {
   "cell_type": "code",
   "execution_count": 189,
   "id": "5978a62f",
   "metadata": {},
   "outputs": [
    {
     "data": {
      "text/plain": [
       "['four', 'five', 'six', 'seven', 'eight']"
      ]
     },
     "execution_count": 189,
     "metadata": {},
     "output_type": "execute_result"
    }
   ],
   "source": [
    "list[-5:] # Return last five items"
   ]
  },
  {
   "cell_type": "code",
   "execution_count": 190,
   "id": "f34875c6",
   "metadata": {},
   "outputs": [
    {
     "data": {
      "text/plain": [
       "['one', 'two', 'three']"
      ]
     },
     "execution_count": 190,
     "metadata": {},
     "output_type": "execute_result"
    }
   ],
   "source": [
    "list[:3] # Return first three items"
   ]
  },
  {
   "cell_type": "code",
   "execution_count": 191,
   "id": "b59f4ba0",
   "metadata": {},
   "outputs": [
    {
     "data": {
      "text/plain": [
       "['six', 'seven', 'eight']"
      ]
     },
     "execution_count": 191,
     "metadata": {},
     "output_type": "execute_result"
    }
   ],
   "source": [
    "list[-3:] # Return last three items"
   ]
  },
  {
   "cell_type": "code",
   "execution_count": 192,
   "id": "584dfaec",
   "metadata": {},
   "outputs": [
    {
     "data": {
      "text/plain": [
       "['one', 'two', 'three', 'four', 'five', 'six', 'seven', 'eight']"
      ]
     },
     "execution_count": 192,
     "metadata": {},
     "output_type": "execute_result"
    }
   ],
   "source": [
    "list[:] ## Return all items"
   ]
  },
  {
   "cell_type": "code",
   "execution_count": 193,
   "id": "ca70c876",
   "metadata": {},
   "outputs": [
    {
     "data": {
      "text/plain": [
       "['one', 'two', 'three']"
      ]
     },
     "execution_count": 193,
     "metadata": {},
     "output_type": "execute_result"
    }
   ],
   "source": [
    "list[:3]"
   ]
  },
  {
   "cell_type": "code",
   "execution_count": 194,
   "id": "f69d5c0c",
   "metadata": {},
   "outputs": [
    {
     "data": {
      "text/plain": [
       "['one', 'two', 'three', 'four', 'five']"
      ]
     },
     "execution_count": 194,
     "metadata": {},
     "output_type": "execute_result"
    }
   ],
   "source": [
    "list[:-3]"
   ]
  },
  {
   "cell_type": "code",
   "execution_count": 195,
   "id": "6bf78e58",
   "metadata": {},
   "outputs": [
    {
     "data": {
      "text/plain": [
       "['four', 'five', 'six', 'seven', 'eight']"
      ]
     },
     "execution_count": 195,
     "metadata": {},
     "output_type": "execute_result"
    }
   ],
   "source": [
    "list[3:]"
   ]
  },
  {
   "cell_type": "code",
   "execution_count": 196,
   "id": "fa69fce1",
   "metadata": {},
   "outputs": [
    {
     "data": {
      "text/plain": [
       "['six', 'seven', 'eight']"
      ]
     },
     "execution_count": 196,
     "metadata": {},
     "output_type": "execute_result"
    }
   ],
   "source": [
    "list[-3:]"
   ]
  },
  {
   "cell_type": "code",
   "execution_count": 197,
   "id": "8da77c42",
   "metadata": {},
   "outputs": [
    {
     "data": {
      "text/plain": [
       "['one', 'two', 'three', 'four', 'five', 'six', 'seven']"
      ]
     },
     "execution_count": 197,
     "metadata": {},
     "output_type": "execute_result"
    }
   ],
   "source": [
    "list[:7]"
   ]
  },
  {
   "cell_type": "code",
   "execution_count": 198,
   "id": "4ab512ee",
   "metadata": {},
   "outputs": [
    {
     "data": {
      "text/plain": [
       "['eight']"
      ]
     },
     "execution_count": 198,
     "metadata": {},
     "output_type": "execute_result"
    }
   ],
   "source": [
    "list[7:]"
   ]
  },
  {
   "cell_type": "code",
   "execution_count": 199,
   "id": "bb6ed080",
   "metadata": {},
   "outputs": [
    {
     "data": {
      "text/plain": [
       "['one']"
      ]
     },
     "execution_count": 199,
     "metadata": {},
     "output_type": "execute_result"
    }
   ],
   "source": [
    "list[:-7]"
   ]
  },
  {
   "cell_type": "code",
   "execution_count": 200,
   "id": "23068885",
   "metadata": {},
   "outputs": [
    {
     "data": {
      "text/plain": [
       "['two', 'three', 'four', 'five', 'six', 'seven', 'eight']"
      ]
     },
     "execution_count": 200,
     "metadata": {},
     "output_type": "execute_result"
    }
   ],
   "source": [
    "list[-7:]"
   ]
  },
  {
   "cell_type": "code",
   "execution_count": 201,
   "id": "34d4ec5a",
   "metadata": {},
   "outputs": [
    {
     "data": {
      "text/plain": [
       "['one', 'two']"
      ]
     },
     "execution_count": 201,
     "metadata": {},
     "output_type": "execute_result"
    }
   ],
   "source": [
    "list[:2]"
   ]
  },
  {
   "cell_type": "code",
   "execution_count": 202,
   "id": "80670ba4",
   "metadata": {},
   "outputs": [
    {
     "data": {
      "text/plain": [
       "['three', 'four', 'five', 'six', 'seven', 'eight']"
      ]
     },
     "execution_count": 202,
     "metadata": {},
     "output_type": "execute_result"
    }
   ],
   "source": [
    "list[2:]"
   ]
  },
  {
   "cell_type": "code",
   "execution_count": 203,
   "id": "0d5c8158",
   "metadata": {},
   "outputs": [
    {
     "data": {
      "text/plain": [
       "['one', 'two', 'three', 'four', 'five', 'six']"
      ]
     },
     "execution_count": 203,
     "metadata": {},
     "output_type": "execute_result"
    }
   ],
   "source": [
    "list[:-2]"
   ]
  },
  {
   "cell_type": "code",
   "execution_count": 204,
   "id": "40253bde",
   "metadata": {},
   "outputs": [
    {
     "data": {
      "text/plain": [
       "['seven', 'eight']"
      ]
     },
     "execution_count": 204,
     "metadata": {},
     "output_type": "execute_result"
    }
   ],
   "source": [
    "list[-2:]"
   ]
  },
  {
   "cell_type": "code",
   "execution_count": 205,
   "id": "7445800d",
   "metadata": {},
   "outputs": [
    {
     "data": {
      "text/plain": [
       "['one', 'two', 'three', 'four']"
      ]
     },
     "execution_count": 205,
     "metadata": {},
     "output_type": "execute_result"
    }
   ],
   "source": [
    "list[:4]"
   ]
  },
  {
   "cell_type": "code",
   "execution_count": 206,
   "id": "551470ed",
   "metadata": {},
   "outputs": [
    {
     "data": {
      "text/plain": [
       "['five', 'six', 'seven', 'eight']"
      ]
     },
     "execution_count": 206,
     "metadata": {},
     "output_type": "execute_result"
    }
   ],
   "source": [
    "list[4:]"
   ]
  },
  {
   "cell_type": "code",
   "execution_count": 207,
   "id": "95a84da4",
   "metadata": {},
   "outputs": [
    {
     "data": {
      "text/plain": [
       "['one', 'two', 'three', 'four']"
      ]
     },
     "execution_count": 207,
     "metadata": {},
     "output_type": "execute_result"
    }
   ],
   "source": [
    "list[:-4]"
   ]
  },
  {
   "cell_type": "code",
   "execution_count": 208,
   "id": "cb51dd77",
   "metadata": {},
   "outputs": [
    {
     "data": {
      "text/plain": [
       "['five', 'six', 'seven', 'eight']"
      ]
     },
     "execution_count": 208,
     "metadata": {},
     "output_type": "execute_result"
    }
   ],
   "source": [
    "list[-4:]"
   ]
  },
  {
   "cell_type": "code",
   "execution_count": 209,
   "id": "af307eb0",
   "metadata": {},
   "outputs": [
    {
     "data": {
      "text/plain": [
       "['one', 'two', 'three', 'four', 'five', 'six']"
      ]
     },
     "execution_count": 209,
     "metadata": {},
     "output_type": "execute_result"
    }
   ],
   "source": [
    "list[:6] # upto 6"
   ]
  },
  {
   "cell_type": "code",
   "execution_count": 210,
   "id": "2adaa386",
   "metadata": {},
   "outputs": [
    {
     "data": {
      "text/plain": [
       "['seven', 'eight']"
      ]
     },
     "execution_count": 210,
     "metadata": {},
     "output_type": "execute_result"
    }
   ],
   "source": [
    "list[6:] # after 6"
   ]
  },
  {
   "cell_type": "code",
   "execution_count": 211,
   "id": "78c64500",
   "metadata": {},
   "outputs": [
    {
     "data": {
      "text/plain": [
       "['one', 'two']"
      ]
     },
     "execution_count": 211,
     "metadata": {},
     "output_type": "execute_result"
    }
   ],
   "source": [
    "list[:-6] # upto -6 (from left to right) i;e  ➡ -8,-7"
   ]
  },
  {
   "cell_type": "code",
   "execution_count": 212,
   "id": "832498e0",
   "metadata": {},
   "outputs": [
    {
     "data": {
      "text/plain": [
       "['three', 'four', 'five', 'six', 'seven', 'eight']"
      ]
     },
     "execution_count": 212,
     "metadata": {},
     "output_type": "execute_result"
    }
   ],
   "source": [
    "list[-6:] # after -6 (from left to right) i;e  ➡ -6,-5,-4,-3,-2,-1"
   ]
  },
  {
   "cell_type": "markdown",
   "id": "4540544f",
   "metadata": {},
   "source": [
    "ADD , REMOVE & CHANGE ITEMS"
   ]
  },
  {
   "cell_type": "code",
   "execution_count": 213,
   "id": "c6b3741b",
   "metadata": {},
   "outputs": [
    {
     "ename": "NameError",
     "evalue": "name 'LIST' is not defined",
     "output_type": "error",
     "traceback": [
      "\u001b[1;31m---------------------------------------------------------------------------\u001b[0m",
      "\u001b[1;31mNameError\u001b[0m                                 Traceback (most recent call last)",
      "Cell \u001b[1;32mIn[213], line 1\u001b[0m\n\u001b[1;32m----> 1\u001b[0m \u001b[43mLIST\u001b[49m\n",
      "\u001b[1;31mNameError\u001b[0m: name 'LIST' is not defined"
     ]
    }
   ],
   "source": [
    "LIST"
   ]
  },
  {
   "cell_type": "code",
   "execution_count": 214,
   "id": "7fe32fd4",
   "metadata": {},
   "outputs": [
    {
     "data": {
      "text/plain": [
       "['one', 'two', 'three', 'four', 'five', 'six', 'seven', 'eight', 'nine', 'ten']"
      ]
     },
     "execution_count": 214,
     "metadata": {},
     "output_type": "execute_result"
    }
   ],
   "source": [
    "mylist"
   ]
  },
  {
   "cell_type": "code",
   "execution_count": 215,
   "id": "ac3f3179",
   "metadata": {},
   "outputs": [
    {
     "data": {
      "text/plain": [
       "['one',\n",
       " 'two',\n",
       " 'three',\n",
       " 'four',\n",
       " 'five',\n",
       " 'six',\n",
       " 'seven',\n",
       " 'eight',\n",
       " 'nine',\n",
       " 'ten',\n",
       " 'nine']"
      ]
     },
     "execution_count": 215,
     "metadata": {},
     "output_type": "execute_result"
    }
   ],
   "source": [
    "mylist.append('nine')\n",
    "mylist"
   ]
  },
  {
   "cell_type": "code",
   "execution_count": 216,
   "id": "7f82d320",
   "metadata": {},
   "outputs": [
    {
     "data": {
      "text/plain": [
       "['one',\n",
       " 'two',\n",
       " 'three',\n",
       " 'four',\n",
       " 'five',\n",
       " 'six',\n",
       " 'seven',\n",
       " 'eight',\n",
       " 'nine',\n",
       " 'ten',\n",
       " 'nine']"
      ]
     },
     "execution_count": 216,
     "metadata": {},
     "output_type": "execute_result"
    }
   ],
   "source": [
    "mylist"
   ]
  },
  {
   "cell_type": "code",
   "execution_count": 217,
   "id": "d5adb825",
   "metadata": {},
   "outputs": [
    {
     "data": {
      "text/plain": [
       "['one', 'two', 'three', 'four', 'five', 'six', 'seven', 'eight']"
      ]
     },
     "execution_count": 217,
     "metadata": {},
     "output_type": "execute_result"
    }
   ],
   "source": [
    "list1=['one', 'two', 'three', 'four', 'five', 'six', 'seven', 'eight']\n",
    "list1"
   ]
  },
  {
   "cell_type": "code",
   "execution_count": 218,
   "id": "261f7d20",
   "metadata": {},
   "outputs": [
    {
     "data": {
      "text/plain": [
       "['one', 'two', 'three', 'four', 'five', 'six', 'seven', 'eight', 'neun']"
      ]
     },
     "execution_count": 218,
     "metadata": {},
     "output_type": "execute_result"
    }
   ],
   "source": [
    "list1.append('neun')\n",
    "list1"
   ]
  },
  {
   "cell_type": "code",
   "execution_count": 219,
   "id": "298d8ac1",
   "metadata": {},
   "outputs": [],
   "source": [
    "del list1"
   ]
  },
  {
   "cell_type": "code",
   "execution_count": 220,
   "id": "b05be8fc",
   "metadata": {},
   "outputs": [
    {
     "data": {
      "text/plain": [
       "[1, 2, 3, 4, 5, 6, 7, 8]"
      ]
     },
     "execution_count": 220,
     "metadata": {},
     "output_type": "execute_result"
    }
   ],
   "source": [
    "list2=[1,2,3,4,5,6,7,8]\n",
    "list2"
   ]
  },
  {
   "cell_type": "code",
   "execution_count": 221,
   "id": "0fb9cf04",
   "metadata": {},
   "outputs": [],
   "source": [
    "list2.append(9)"
   ]
  },
  {
   "cell_type": "code",
   "execution_count": 222,
   "id": "6f5cf362",
   "metadata": {},
   "outputs": [
    {
     "data": {
      "text/plain": [
       "[1, 2, 3, 4, 5, 6, 7, 8, 9]"
      ]
     },
     "execution_count": 222,
     "metadata": {},
     "output_type": "execute_result"
    }
   ],
   "source": [
    "list2"
   ]
  },
  {
   "cell_type": "code",
   "execution_count": 223,
   "id": "6709056c",
   "metadata": {},
   "outputs": [],
   "source": [
    "list2.append(7)  # Add an item to the end of the list"
   ]
  },
  {
   "cell_type": "code",
   "execution_count": 224,
   "id": "024034dc",
   "metadata": {},
   "outputs": [
    {
     "data": {
      "text/plain": [
       "[1, 2, 3, 4, 5, 6, 7, 8, 9, 7]"
      ]
     },
     "execution_count": 224,
     "metadata": {},
     "output_type": "execute_result"
    }
   ],
   "source": [
    "list2"
   ]
  },
  {
   "cell_type": "code",
   "execution_count": 225,
   "id": "ed92ad4a",
   "metadata": {},
   "outputs": [],
   "source": [
    "list2.insert(8,98)  # Add item at index location 8"
   ]
  },
  {
   "cell_type": "code",
   "execution_count": 226,
   "id": "fb4fd64b",
   "metadata": {},
   "outputs": [
    {
     "data": {
      "text/plain": [
       "[1, 2, 3, 4, 5, 6, 7, 8, 98, 9, 7]"
      ]
     },
     "execution_count": 226,
     "metadata": {},
     "output_type": "execute_result"
    }
   ],
   "source": [
    "list2"
   ]
  },
  {
   "cell_type": "code",
   "execution_count": 227,
   "id": "f073515c",
   "metadata": {},
   "outputs": [],
   "source": [
    "list2.insert(4,65)"
   ]
  },
  {
   "cell_type": "code",
   "execution_count": 228,
   "id": "58bb6336",
   "metadata": {},
   "outputs": [
    {
     "data": {
      "text/plain": [
       "[1, 2, 3, 4, 65, 5, 6, 7, 8, 98, 9, 7]"
      ]
     },
     "execution_count": 228,
     "metadata": {},
     "output_type": "execute_result"
    }
   ],
   "source": [
    "list2"
   ]
  },
  {
   "cell_type": "code",
   "execution_count": 229,
   "id": "c4d52fa4",
   "metadata": {},
   "outputs": [
    {
     "data": {
      "text/plain": [
       "[1, 2, 3, 4, 65, 5, 6, 7, 99, 8, 98, 9, 7]"
      ]
     },
     "execution_count": 229,
     "metadata": {},
     "output_type": "execute_result"
    }
   ],
   "source": [
    "list2.insert(8,99)\n",
    "list2"
   ]
  },
  {
   "cell_type": "code",
   "execution_count": 230,
   "id": "05e883f3",
   "metadata": {},
   "outputs": [
    {
     "data": {
      "text/plain": [
       "3"
      ]
     },
     "execution_count": 230,
     "metadata": {},
     "output_type": "execute_result"
    }
   ],
   "source": [
    "3 "
   ]
  },
  {
   "cell_type": "code",
   "execution_count": 231,
   "id": "4bd19d73",
   "metadata": {},
   "outputs": [
    {
     "data": {
      "text/plain": [
       "[1, 2, 3, 4, 65, 5, 6, 7, 99, 8, 98, 9, 7]"
      ]
     },
     "execution_count": 231,
     "metadata": {},
     "output_type": "execute_result"
    }
   ],
   "source": [
    "list2"
   ]
  },
  {
   "cell_type": "code",
   "execution_count": 232,
   "id": "488f7c9d",
   "metadata": {},
   "outputs": [
    {
     "data": {
      "text/plain": [
       "[1, 2, 3, 4, 65, 5, 6, 7, 99, 8, 98, 9, 7]"
      ]
     },
     "execution_count": 232,
     "metadata": {},
     "output_type": "execute_result"
    }
   ],
   "source": [
    "list2"
   ]
  },
  {
   "cell_type": "code",
   "execution_count": 233,
   "id": "7bbde251",
   "metadata": {},
   "outputs": [],
   "source": [
    "list1=['one', 'two', 'three', 'four', 'five', 'six', 'seven', 'eight']"
   ]
  },
  {
   "cell_type": "code",
   "execution_count": 234,
   "id": "58ac4483",
   "metadata": {},
   "outputs": [
    {
     "data": {
      "text/plain": [
       "['one', 'two', 'three', 'four', 'five', 'six', 'seven', 'eight']"
      ]
     },
     "execution_count": 234,
     "metadata": {},
     "output_type": "execute_result"
    }
   ],
   "source": [
    "list"
   ]
  },
  {
   "cell_type": "code",
   "execution_count": 235,
   "id": "01eebbba",
   "metadata": {},
   "outputs": [],
   "source": [
    "list.remove('one')"
   ]
  },
  {
   "cell_type": "code",
   "execution_count": 236,
   "id": "bfa2ec7e",
   "metadata": {},
   "outputs": [
    {
     "data": {
      "text/plain": [
       "['two', 'three', 'four', 'five', 'six', 'seven', 'eight']"
      ]
     },
     "execution_count": 236,
     "metadata": {},
     "output_type": "execute_result"
    }
   ],
   "source": [
    "list"
   ]
  },
  {
   "cell_type": "code",
   "execution_count": 237,
   "id": "8cd6c55d",
   "metadata": {},
   "outputs": [
    {
     "data": {
      "text/plain": [
       "'eight'"
      ]
     },
     "execution_count": 237,
     "metadata": {},
     "output_type": "execute_result"
    }
   ],
   "source": [
    "list.pop()"
   ]
  },
  {
   "cell_type": "code",
   "execution_count": 238,
   "id": "ebc9d26c",
   "metadata": {},
   "outputs": [
    {
     "data": {
      "text/plain": [
       "['two', 'three', 'four', 'five', 'six', 'seven']"
      ]
     },
     "execution_count": 238,
     "metadata": {},
     "output_type": "execute_result"
    }
   ],
   "source": [
    "list"
   ]
  },
  {
   "cell_type": "code",
   "execution_count": 239,
   "id": "2495f832",
   "metadata": {},
   "outputs": [
    {
     "data": {
      "text/plain": [
       "'four'"
      ]
     },
     "execution_count": 239,
     "metadata": {},
     "output_type": "execute_result"
    }
   ],
   "source": [
    "list.pop(2)"
   ]
  },
  {
   "cell_type": "code",
   "execution_count": 240,
   "id": "64b0f97c",
   "metadata": {},
   "outputs": [
    {
     "data": {
      "text/plain": [
       "['two', 'three', 'five', 'six', 'seven']"
      ]
     },
     "execution_count": 240,
     "metadata": {},
     "output_type": "execute_result"
    }
   ],
   "source": [
    "list"
   ]
  },
  {
   "cell_type": "code",
   "execution_count": 241,
   "id": "1a761a10",
   "metadata": {},
   "outputs": [
    {
     "data": {
      "text/plain": [
       "['two', 'three', 'five', 'seven']"
      ]
     },
     "execution_count": 241,
     "metadata": {},
     "output_type": "execute_result"
    }
   ],
   "source": [
    "del list[3]\n",
    "list"
   ]
  },
  {
   "cell_type": "code",
   "execution_count": 242,
   "id": "7f95e595",
   "metadata": {},
   "outputs": [
    {
     "data": {
      "text/plain": [
       "[]"
      ]
     },
     "execution_count": 242,
     "metadata": {},
     "output_type": "execute_result"
    }
   ],
   "source": [
    "list.clear()\n",
    "list"
   ]
  },
  {
   "cell_type": "code",
   "execution_count": 243,
   "id": "c2a2bc98",
   "metadata": {},
   "outputs": [],
   "source": [
    "list1=['one', 'two', 'three', 'four', 'five', 'six', 'seven', 'eight']"
   ]
  },
  {
   "cell_type": "code",
   "execution_count": 244,
   "id": "43f898bb",
   "metadata": {},
   "outputs": [
    {
     "data": {
      "text/plain": [
       "['one', 99, 'two', 'three', 'four', 'five', 'six', 'seven', 'eight']"
      ]
     },
     "execution_count": 244,
     "metadata": {},
     "output_type": "execute_result"
    }
   ],
   "source": [
    "list1.insert(1,99)\n",
    "list1"
   ]
  },
  {
   "cell_type": "code",
   "execution_count": 245,
   "id": "8adb2003",
   "metadata": {},
   "outputs": [],
   "source": [
    "list1.append(22)"
   ]
  },
  {
   "cell_type": "code",
   "execution_count": 246,
   "id": "43413168",
   "metadata": {},
   "outputs": [
    {
     "data": {
      "text/plain": [
       "['one', 99, 'two', 'three', 'four', 'five', 'six', 'seven', 'eight', 22]"
      ]
     },
     "execution_count": 246,
     "metadata": {},
     "output_type": "execute_result"
    }
   ],
   "source": [
    "list1"
   ]
  },
  {
   "cell_type": "code",
   "execution_count": 247,
   "id": "ad0a6554",
   "metadata": {},
   "outputs": [
    {
     "data": {
      "text/plain": [
       "['one', 99, 33, 'two', 'three', 'four', 'five', 'six', 'seven', 'eight', 22]"
      ]
     },
     "execution_count": 247,
     "metadata": {},
     "output_type": "execute_result"
    }
   ],
   "source": [
    "list1.insert(2,33)\n",
    "list1"
   ]
  },
  {
   "cell_type": "code",
   "execution_count": 248,
   "id": "5edfc011",
   "metadata": {},
   "outputs": [
    {
     "data": {
      "text/plain": [
       "['one', 99, 33, 'two', 'three', 'four', 'five', 'six', 'seven', 'eight']"
      ]
     },
     "execution_count": 248,
     "metadata": {},
     "output_type": "execute_result"
    }
   ],
   "source": [
    "list1.pop()\n",
    "list1"
   ]
  },
  {
   "cell_type": "code",
   "execution_count": 249,
   "id": "bdfdbacc",
   "metadata": {},
   "outputs": [
    {
     "data": {
      "text/plain": [
       "33"
      ]
     },
     "execution_count": 249,
     "metadata": {},
     "output_type": "execute_result"
    }
   ],
   "source": [
    "list1.pop(2)"
   ]
  },
  {
   "cell_type": "code",
   "execution_count": 250,
   "id": "505cdea6",
   "metadata": {},
   "outputs": [],
   "source": [
    "del list1[2]"
   ]
  },
  {
   "cell_type": "code",
   "execution_count": 251,
   "id": "4b195692",
   "metadata": {},
   "outputs": [
    {
     "data": {
      "text/plain": [
       "['one', 99, 'three', 'four', 'five', 'six', 'seven', 'eight']"
      ]
     },
     "execution_count": 251,
     "metadata": {},
     "output_type": "execute_result"
    }
   ],
   "source": [
    "list1"
   ]
  },
  {
   "cell_type": "code",
   "execution_count": 252,
   "id": "bb93b944",
   "metadata": {},
   "outputs": [
    {
     "data": {
      "text/plain": [
       "99"
      ]
     },
     "execution_count": 252,
     "metadata": {},
     "output_type": "execute_result"
    }
   ],
   "source": [
    "list1.pop(1)"
   ]
  },
  {
   "cell_type": "code",
   "execution_count": 253,
   "id": "09e7d6b7",
   "metadata": {},
   "outputs": [
    {
     "data": {
      "text/plain": [
       "['one', 'three', 'four', 'five', 'six', 'seven', 'eight']"
      ]
     },
     "execution_count": 253,
     "metadata": {},
     "output_type": "execute_result"
    }
   ],
   "source": [
    "list1"
   ]
  },
  {
   "cell_type": "code",
   "execution_count": 254,
   "id": "1617c7b4",
   "metadata": {},
   "outputs": [
    {
     "data": {
      "text/plain": [
       "['eins', 'zwei', 'drei', 'vier', 'funf', 'secs', 'sieben']"
      ]
     },
     "execution_count": 254,
     "metadata": {},
     "output_type": "execute_result"
    }
   ],
   "source": [
    "list1[0]='eins'\n",
    "list1[1]='zwei'\n",
    "list1[2]='drei'\n",
    "list1[3]='vier'\n",
    "list1[4]='funf'\n",
    "list1[5]='secs'\n",
    "list1[6]='sieben'\n",
    "list1"
   ]
  },
  {
   "cell_type": "code",
   "execution_count": 255,
   "id": "65114709",
   "metadata": {},
   "outputs": [],
   "source": [
    "list1.clear()"
   ]
  },
  {
   "cell_type": "code",
   "execution_count": 256,
   "id": "4487e7e2",
   "metadata": {},
   "outputs": [],
   "source": [
    "list1\n",
    "del list"
   ]
  },
  {
   "cell_type": "markdown",
   "id": "a26f9bff",
   "metadata": {},
   "source": [
    "#COPY"
   ]
  },
  {
   "cell_type": "code",
   "execution_count": 257,
   "id": "d4a629a4",
   "metadata": {},
   "outputs": [],
   "source": [
    "list=[1,2,3,4,5,6,7,8,9]"
   ]
  },
  {
   "cell_type": "code",
   "execution_count": 258,
   "id": "d98be0cc",
   "metadata": {},
   "outputs": [
    {
     "data": {
      "text/plain": [
       "[1, 2, 3, 4, 5, 6, 7, 8, 9]"
      ]
     },
     "execution_count": 258,
     "metadata": {},
     "output_type": "execute_result"
    }
   ],
   "source": [
    "list1=list # new referANCE OF LISt\n",
    "list1"
   ]
  },
  {
   "cell_type": "code",
   "execution_count": 259,
   "id": "efe07597",
   "metadata": {},
   "outputs": [
    {
     "data": {
      "text/plain": [
       "(2680695572032, 2680695572032)"
      ]
     },
     "execution_count": 259,
     "metadata": {},
     "output_type": "execute_result"
    }
   ],
   "source": [
    "id(list1),id(list)"
   ]
  },
  {
   "cell_type": "code",
   "execution_count": 260,
   "id": "dd29245a",
   "metadata": {},
   "outputs": [
    {
     "ename": "NameError",
     "evalue": "name 'list3' is not defined",
     "output_type": "error",
     "traceback": [
      "\u001b[1;31m---------------------------------------------------------------------------\u001b[0m",
      "\u001b[1;31mNameError\u001b[0m                                 Traceback (most recent call last)",
      "Cell \u001b[1;32mIn[260], line 2\u001b[0m\n\u001b[0;32m      1\u001b[0m list2\u001b[38;5;241m=\u001b[39m\u001b[38;5;28mlist\u001b[39m\u001b[38;5;241m.\u001b[39mcopy() \u001b[38;5;66;03m# creates copy of the list, id is different from list\u001b[39;00m\n\u001b[1;32m----> 2\u001b[0m \u001b[38;5;28mid\u001b[39m(\u001b[43mlist3\u001b[49m)\n",
      "\u001b[1;31mNameError\u001b[0m: name 'list3' is not defined"
     ]
    }
   ],
   "source": [
    "list2=list.copy() # creates copy of the list, id is different from list\n",
    "id(list3)"
   ]
  },
  {
   "cell_type": "code",
   "execution_count": 261,
   "id": "f11b9e56",
   "metadata": {},
   "outputs": [
    {
     "data": {
      "text/plain": [
       "(2680695572032, 2680695572032, 2680695245760)"
      ]
     },
     "execution_count": 261,
     "metadata": {},
     "output_type": "execute_result"
    }
   ],
   "source": [
    "list,list1,list2\n",
    "id(list),id(list1),id(list2)"
   ]
  },
  {
   "cell_type": "code",
   "execution_count": 262,
   "id": "9babc197",
   "metadata": {},
   "outputs": [
    {
     "data": {
      "text/plain": [
       "([1, 2, 3, 4, 5, 'six', 7, 8, 9],\n",
       " [1, 2, 3, 4, 5, 'six', 7, 8, 9],\n",
       " [1, 2, 3, 4, 5, 6, 7, 8, 9])"
      ]
     },
     "execution_count": 262,
     "metadata": {},
     "output_type": "execute_result"
    }
   ],
   "source": [
    "list[5]='six'   # original(list),reference(list1) changes done in 'list' changes in 'list1'.\n",
    "list,list1,list2"
   ]
  },
  {
   "cell_type": "code",
   "execution_count": 263,
   "id": "454c27af",
   "metadata": {},
   "outputs": [
    {
     "data": {
      "text/plain": [
       "([1, 2, 3, 4, 5, 'six', 7, 8],\n",
       " [1, 2, 3, 4, 5, 'six', 7, 8],\n",
       " [1, 2, 3, 4, 5, 6, 7, 8, 9])"
      ]
     },
     "execution_count": 263,
     "metadata": {},
     "output_type": "execute_result"
    }
   ],
   "source": [
    "list.pop()  # but it doesn't change in copy (list2)\n",
    "list,list1,list2"
   ]
  },
  {
   "cell_type": "code",
   "execution_count": 264,
   "id": "c35578af",
   "metadata": {},
   "outputs": [
    {
     "data": {
      "text/plain": [
       "([1, 2, 3, 4, 'vier', 'six', 7, 8],\n",
       " [1, 2, 3, 4, 'vier', 'six', 7, 8],\n",
       " [1, 2, 3, 4, 5, 6, 7, 8, 9])"
      ]
     },
     "execution_count": 264,
     "metadata": {},
     "output_type": "execute_result"
    }
   ],
   "source": [
    "list1[4]='vier'   #changes done in 'list1'(reference) changes in 'list'(original) too.\n",
    "list,list1,list2"
   ]
  },
  {
   "cell_type": "markdown",
   "id": "048777bf",
   "metadata": {},
   "source": [
    "JOIN LISTS"
   ]
  },
  {
   "cell_type": "code",
   "execution_count": 265,
   "id": "a5b3ad61",
   "metadata": {},
   "outputs": [
    {
     "data": {
      "text/plain": [
       "[1, 2, 3, 4, 4, 5, 6, 7, 8, 9, 0]"
      ]
     },
     "execution_count": 265,
     "metadata": {},
     "output_type": "execute_result"
    }
   ],
   "source": [
    "l1=[1,2,3,4]\n",
    "l2=[4,5,6,7]\n",
    "l3=[8,9,0]\n",
    "l1+l2+l3"
   ]
  },
  {
   "cell_type": "code",
   "execution_count": 266,
   "id": "80ad61f9",
   "metadata": {},
   "outputs": [
    {
     "data": {
      "text/plain": [
       "[1, 2, 3, 4, 4, 5, 6, 7, 8, 9, 0]"
      ]
     },
     "execution_count": 266,
     "metadata": {},
     "output_type": "execute_result"
    }
   ],
   "source": [
    "l4=l1+l2+l3\n",
    "l4"
   ]
  },
  {
   "cell_type": "code",
   "execution_count": 267,
   "id": "a1620161",
   "metadata": {},
   "outputs": [
    {
     "data": {
      "text/plain": [
       "[1, 2, 3, 4, 4, 5, 6, 7]"
      ]
     },
     "execution_count": 267,
     "metadata": {},
     "output_type": "execute_result"
    }
   ],
   "source": [
    "l1.extend(l2)\n",
    "l1"
   ]
  },
  {
   "cell_type": "code",
   "execution_count": 268,
   "id": "7bb151f7",
   "metadata": {},
   "outputs": [
    {
     "data": {
      "text/plain": [
       "[1, 2, 3, 4, 4, 5, 6, 7]"
      ]
     },
     "execution_count": 268,
     "metadata": {},
     "output_type": "execute_result"
    }
   ],
   "source": [
    "l1"
   ]
  },
  {
   "cell_type": "markdown",
   "id": "9e709681",
   "metadata": {},
   "source": [
    "LIST MEMBERSHIP"
   ]
  },
  {
   "cell_type": "code",
   "execution_count": 269,
   "id": "eebfc5dd",
   "metadata": {},
   "outputs": [
    {
     "data": {
      "text/plain": [
       "4"
      ]
     },
     "execution_count": 269,
     "metadata": {},
     "output_type": "execute_result"
    }
   ],
   "source": [
    "l4.pop(3)"
   ]
  },
  {
   "cell_type": "code",
   "execution_count": 270,
   "id": "651680ba",
   "metadata": {},
   "outputs": [
    {
     "data": {
      "text/plain": [
       "[1, 2, 3, 4, 5, 6, 7, 8, 9, 0]"
      ]
     },
     "execution_count": 270,
     "metadata": {},
     "output_type": "execute_result"
    }
   ],
   "source": [
    "l4"
   ]
  },
  {
   "cell_type": "code",
   "execution_count": 271,
   "id": "8aa163af",
   "metadata": {},
   "outputs": [
    {
     "data": {
      "text/plain": [
       "(False, True)"
      ]
     },
     "execution_count": 271,
     "metadata": {},
     "output_type": "execute_result"
    }
   ],
   "source": [
    "11 in l4,1 in l4"
   ]
  },
  {
   "cell_type": "code",
   "execution_count": 272,
   "id": "c827433d",
   "metadata": {},
   "outputs": [
    {
     "name": "stdout",
     "output_type": "stream",
     "text": [
      "4 is vier\n"
     ]
    }
   ],
   "source": [
    "if 4 in l4:\n",
    "    print('4 is vier')\n",
    "else:\n",
    "    print('4 is funf')"
   ]
  },
  {
   "cell_type": "code",
   "execution_count": 273,
   "id": "09a967ad",
   "metadata": {},
   "outputs": [
    {
     "name": "stdout",
     "output_type": "stream",
     "text": [
      "secs\n"
     ]
    }
   ],
   "source": [
    "if 6 in l4:\n",
    "    print('secs')\n",
    "else:\n",
    "    print('sieben')"
   ]
  },
  {
   "cell_type": "markdown",
   "id": "98cf39b9",
   "metadata": {},
   "source": [
    "REVERSE & SORT"
   ]
  },
  {
   "cell_type": "code",
   "execution_count": 274,
   "id": "bd5c9be4",
   "metadata": {},
   "outputs": [
    {
     "data": {
      "text/plain": [
       "[1, 2, 3, 4, 5, 6, 7, 8, 9, 0]"
      ]
     },
     "execution_count": 274,
     "metadata": {},
     "output_type": "execute_result"
    }
   ],
   "source": [
    "l4"
   ]
  },
  {
   "cell_type": "code",
   "execution_count": 275,
   "id": "12036011",
   "metadata": {},
   "outputs": [
    {
     "data": {
      "text/plain": [
       "[0, 9, 8, 7, 6, 5, 4, 3, 2, 1]"
      ]
     },
     "execution_count": 275,
     "metadata": {},
     "output_type": "execute_result"
    }
   ],
   "source": [
    "l4.reverse()\n",
    "l4"
   ]
  },
  {
   "cell_type": "code",
   "execution_count": 276,
   "id": "a1886baf",
   "metadata": {},
   "outputs": [
    {
     "data": {
      "text/plain": [
       "[1, 2, 3, 4, 5, 6, 7, 8, 9, 0]"
      ]
     },
     "execution_count": 276,
     "metadata": {},
     "output_type": "execute_result"
    }
   ],
   "source": [
    "l4.reverse()\n",
    "l4"
   ]
  },
  {
   "cell_type": "code",
   "execution_count": 277,
   "id": "cb00a1f1",
   "metadata": {},
   "outputs": [],
   "source": [
    "l4=l4[::-1]"
   ]
  },
  {
   "cell_type": "code",
   "execution_count": 278,
   "id": "df77b7c8",
   "metadata": {},
   "outputs": [
    {
     "data": {
      "text/plain": [
       "[0, 9, 8, 7, 6, 5, 4, 3, 2, 1]"
      ]
     },
     "execution_count": 278,
     "metadata": {},
     "output_type": "execute_result"
    }
   ],
   "source": [
    "l4"
   ]
  },
  {
   "cell_type": "code",
   "execution_count": 279,
   "id": "4f7da60a",
   "metadata": {},
   "outputs": [],
   "source": [
    "l5=['dd','nn','aa','hh','cc']\n",
    "l6=['ii','aa','ss']\n",
    "l5.reverse()\n",
    "l6.reverse()"
   ]
  },
  {
   "cell_type": "code",
   "execution_count": 280,
   "id": "9bdb0bd7",
   "metadata": {},
   "outputs": [
    {
     "data": {
      "text/plain": [
       "['cc', 'hh', 'aa', 'nn', 'dd']"
      ]
     },
     "execution_count": 280,
     "metadata": {},
     "output_type": "execute_result"
    }
   ],
   "source": [
    "l5"
   ]
  },
  {
   "cell_type": "code",
   "execution_count": 281,
   "id": "60814ea5",
   "metadata": {},
   "outputs": [
    {
     "data": {
      "text/plain": [
       "['ss', 'aa', 'ii']"
      ]
     },
     "execution_count": 281,
     "metadata": {},
     "output_type": "execute_result"
    }
   ],
   "source": [
    "l6"
   ]
  },
  {
   "cell_type": "code",
   "execution_count": 282,
   "id": "9203a06a",
   "metadata": {},
   "outputs": [],
   "source": [
    "l5=l5[::-1]"
   ]
  },
  {
   "cell_type": "code",
   "execution_count": 283,
   "id": "22dca3fd",
   "metadata": {},
   "outputs": [
    {
     "data": {
      "text/plain": [
       "['dd', 'nn', 'aa', 'hh', 'cc']"
      ]
     },
     "execution_count": 283,
     "metadata": {},
     "output_type": "execute_result"
    }
   ],
   "source": [
    "l5"
   ]
  },
  {
   "cell_type": "code",
   "execution_count": 284,
   "id": "46d403fa",
   "metadata": {},
   "outputs": [
    {
     "data": {
      "text/plain": [
       "['ii', 'aa', 'ss']"
      ]
     },
     "execution_count": 284,
     "metadata": {},
     "output_type": "execute_result"
    }
   ],
   "source": [
    "l6[::-1]"
   ]
  },
  {
   "cell_type": "code",
   "execution_count": 285,
   "id": "f70de411",
   "metadata": {},
   "outputs": [],
   "source": [
    "l4=[565656,55885588,45742155,23699644,639,9998989,]"
   ]
  },
  {
   "cell_type": "code",
   "execution_count": 286,
   "id": "7e1ab3e6",
   "metadata": {},
   "outputs": [],
   "source": [
    "l4.sort()   "
   ]
  },
  {
   "cell_type": "code",
   "execution_count": 287,
   "id": "a8cd1e57",
   "metadata": {},
   "outputs": [
    {
     "data": {
      "text/plain": [
       "[639, 565656, 9998989, 23699644, 45742155, 55885588]"
      ]
     },
     "execution_count": 287,
     "metadata": {},
     "output_type": "execute_result"
    }
   ],
   "source": [
    "l4   # Sort list in ascending order"
   ]
  },
  {
   "cell_type": "code",
   "execution_count": 288,
   "id": "12f400ab",
   "metadata": {},
   "outputs": [],
   "source": [
    "l4.sort(reverse=True)"
   ]
  },
  {
   "cell_type": "code",
   "execution_count": 289,
   "id": "36c63353",
   "metadata": {},
   "outputs": [
    {
     "data": {
      "text/plain": [
       "[55885588, 45742155, 23699644, 9998989, 565656, 639]"
      ]
     },
     "execution_count": 289,
     "metadata": {},
     "output_type": "execute_result"
    }
   ],
   "source": [
    "l4   # Sort list in descending order"
   ]
  },
  {
   "cell_type": "code",
   "execution_count": 290,
   "id": "680c45a5",
   "metadata": {},
   "outputs": [],
   "source": [
    "l4.insert(0,11)"
   ]
  },
  {
   "cell_type": "code",
   "execution_count": 291,
   "id": "eaad9cc2",
   "metadata": {},
   "outputs": [
    {
     "name": "stdout",
     "output_type": "stream",
     "text": [
      "[11, 55885588, 45742155, 23699644, 9998989, 565656, 639]\n"
     ]
    }
   ],
   "source": [
    "print(l4)"
   ]
  },
  {
   "cell_type": "code",
   "execution_count": 292,
   "id": "eeb857cc",
   "metadata": {},
   "outputs": [
    {
     "data": {
      "text/plain": [
       "[44, 55, 77, 88, 99, 225]"
      ]
     },
     "execution_count": 292,
     "metadata": {},
     "output_type": "execute_result"
    }
   ],
   "source": [
    "l9=[88,55,99,77,44,225]\n",
    "sorted(l9)"
   ]
  },
  {
   "cell_type": "code",
   "execution_count": 293,
   "id": "5ff2b129",
   "metadata": {},
   "outputs": [
    {
     "ename": "TypeError",
     "evalue": "'list' object is not callable",
     "output_type": "error",
     "traceback": [
      "\u001b[1;31m---------------------------------------------------------------------------\u001b[0m",
      "\u001b[1;31mTypeError\u001b[0m                                 Traceback (most recent call last)",
      "Cell \u001b[1;32mIn[293], line 1\u001b[0m\n\u001b[1;32m----> 1\u001b[0m \u001b[38;5;28msorted\u001b[39m(\u001b[43ml9\u001b[49m\u001b[43m(\u001b[49m\u001b[43mreverse\u001b[49m\u001b[38;5;241;43m=\u001b[39;49m\u001b[38;5;28;43;01mTrue\u001b[39;49;00m\u001b[43m)\u001b[49m)\n",
      "\u001b[1;31mTypeError\u001b[0m: 'list' object is not callable"
     ]
    }
   ],
   "source": [
    "sorted(l9(reverse=True))"
   ]
  },
  {
   "cell_type": "code",
   "execution_count": 294,
   "id": "a0873f1b",
   "metadata": {},
   "outputs": [
    {
     "data": {
      "text/plain": [
       "[88, 55, 99, 77, 44, 225]"
      ]
     },
     "execution_count": 294,
     "metadata": {},
     "output_type": "execute_result"
    }
   ],
   "source": [
    "l9"
   ]
  },
  {
   "cell_type": "markdown",
   "id": "54bf7929",
   "metadata": {},
   "source": [
    "FOR & IF LOOP"
   ]
  },
  {
   "cell_type": "code",
   "execution_count": 295,
   "id": "169e2bbd",
   "metadata": {},
   "outputs": [
    {
     "name": "stdout",
     "output_type": "stream",
     "text": [
      "88\n",
      "55\n",
      "99\n",
      "77\n",
      "44\n",
      "225\n"
     ]
    }
   ],
   "source": [
    "for i in l9:\n",
    "    print(i)"
   ]
  },
  {
   "cell_type": "code",
   "execution_count": 296,
   "id": "543e33a9",
   "metadata": {},
   "outputs": [
    {
     "name": "stdout",
     "output_type": "stream",
     "text": [
      "(0, 88)\n",
      "(1, 55)\n",
      "(2, 99)\n",
      "(3, 77)\n",
      "(4, 44)\n",
      "(5, 225)\n"
     ]
    }
   ],
   "source": [
    "for i in enumerate(l9):\n",
    "    print(i)"
   ]
  },
  {
   "cell_type": "code",
   "execution_count": 297,
   "id": "1bee5cd0",
   "metadata": {},
   "outputs": [
    {
     "data": {
      "text/plain": [
       "1"
      ]
     },
     "execution_count": 297,
     "metadata": {},
     "output_type": "execute_result"
    }
   ],
   "source": [
    "l9.count(55)"
   ]
  },
  {
   "cell_type": "code",
   "execution_count": 298,
   "id": "27b648db",
   "metadata": {},
   "outputs": [
    {
     "data": {
      "text/plain": [
       "True"
      ]
     },
     "execution_count": 298,
     "metadata": {},
     "output_type": "execute_result"
    }
   ],
   "source": [
    "all(l9)"
   ]
  },
  {
   "cell_type": "code",
   "execution_count": 299,
   "id": "36ad4eb2",
   "metadata": {},
   "outputs": [
    {
     "data": {
      "text/plain": [
       "True"
      ]
     },
     "execution_count": 299,
     "metadata": {},
     "output_type": "execute_result"
    }
   ],
   "source": [
    "l8=[0,2,3,4,5,6,7,8,9]\n",
    "any(l8)"
   ]
  },
  {
   "cell_type": "code",
   "execution_count": 300,
   "id": "0a28eb64",
   "metadata": {},
   "outputs": [
    {
     "data": {
      "text/plain": [
       "False"
      ]
     },
     "execution_count": 300,
     "metadata": {},
     "output_type": "execute_result"
    }
   ],
   "source": [
    "all(l8)"
   ]
  },
  {
   "cell_type": "markdown",
   "id": "3681c390",
   "metadata": {},
   "source": [
    "LIST COMPREHENSIONS"
   ]
  },
  {
   "cell_type": "code",
   "execution_count": 301,
   "id": "07d00675",
   "metadata": {},
   "outputs": [],
   "source": [
    "string= 'verkaufer'   # Iterating through a string Using List\n",
    "list6=[i for i in string ]"
   ]
  },
  {
   "cell_type": "code",
   "execution_count": 302,
   "id": "84c39dcc",
   "metadata": {},
   "outputs": [
    {
     "data": {
      "text/plain": [
       "['v', 'e', 'r', 'k', 'a', 'u', 'f', 'e', 'r']"
      ]
     },
     "execution_count": 302,
     "metadata": {},
     "output_type": "execute_result"
    }
   ],
   "source": [
    "list6"
   ]
  },
  {
   "cell_type": "code",
   "execution_count": 303,
   "id": "73b8c808",
   "metadata": {},
   "outputs": [],
   "source": [
    "list7=[i for i in range(30) if i % 2==0]"
   ]
  },
  {
   "cell_type": "code",
   "execution_count": 304,
   "id": "abe3a90d",
   "metadata": {},
   "outputs": [
    {
     "data": {
      "text/plain": [
       "[0, 2, 4, 6, 8, 10, 12, 14, 16, 18, 20, 22, 24, 26, 28]"
      ]
     },
     "execution_count": 304,
     "metadata": {},
     "output_type": "execute_result"
    }
   ],
   "source": [
    "list7"
   ]
  },
  {
   "cell_type": "code",
   "execution_count": 305,
   "id": "adf992af",
   "metadata": {},
   "outputs": [],
   "source": [
    "lid=[i for i in range(99) if i % 3==0]"
   ]
  },
  {
   "cell_type": "code",
   "execution_count": 306,
   "id": "6d208251",
   "metadata": {},
   "outputs": [
    {
     "data": {
      "text/plain": [
       "[0,\n",
       " 3,\n",
       " 6,\n",
       " 9,\n",
       " 12,\n",
       " 15,\n",
       " 18,\n",
       " 21,\n",
       " 24,\n",
       " 27,\n",
       " 30,\n",
       " 33,\n",
       " 36,\n",
       " 39,\n",
       " 42,\n",
       " 45,\n",
       " 48,\n",
       " 51,\n",
       " 54,\n",
       " 57,\n",
       " 60,\n",
       " 63,\n",
       " 66,\n",
       " 69,\n",
       " 72,\n",
       " 75,\n",
       " 78,\n",
       " 81,\n",
       " 84,\n",
       " 87,\n",
       " 90,\n",
       " 93,\n",
       " 96]"
      ]
     },
     "execution_count": 306,
     "metadata": {},
     "output_type": "execute_result"
    }
   ],
   "source": [
    "lid"
   ]
  },
  {
   "cell_type": "code",
   "execution_count": 307,
   "id": "053f61d1",
   "metadata": {},
   "outputs": [
    {
     "data": {
      "text/plain": [
       "[5,\n",
       " 14,\n",
       " 23,\n",
       " 32,\n",
       " 41,\n",
       " 50,\n",
       " 59,\n",
       " 68,\n",
       " 77,\n",
       " 86,\n",
       " 95,\n",
       " 104,\n",
       " 113,\n",
       " 122,\n",
       " 131,\n",
       " 140,\n",
       " 149,\n",
       " 158,\n",
       " 167,\n",
       " 176,\n",
       " 185,\n",
       " 194,\n",
       " 203,\n",
       " 212,\n",
       " 221,\n",
       " 230,\n",
       " 239,\n",
       " 248,\n",
       " 257,\n",
       " 266,\n",
       " 275,\n",
       " 284,\n",
       " 293,\n",
       " 302,\n",
       " 311,\n",
       " 320,\n",
       " 329,\n",
       " 338,\n",
       " 347,\n",
       " 356,\n",
       " 365,\n",
       " 374,\n",
       " 383,\n",
       " 392,\n",
       " 401,\n",
       " 410,\n",
       " 419,\n",
       " 428,\n",
       " 437,\n",
       " 446,\n",
       " 455,\n",
       " 464,\n",
       " 473,\n",
       " 482,\n",
       " 491,\n",
       " 500,\n",
       " 509,\n",
       " 518,\n",
       " 527,\n",
       " 536,\n",
       " 545,\n",
       " 554,\n",
       " 563,\n",
       " 572,\n",
       " 581,\n",
       " 590,\n",
       " 599,\n",
       " 608,\n",
       " 617,\n",
       " 626,\n",
       " 635,\n",
       " 644,\n",
       " 653,\n",
       " 662,\n",
       " 671,\n",
       " 680,\n",
       " 689,\n",
       " 698,\n",
       " 707,\n",
       " 716,\n",
       " 725,\n",
       " 734,\n",
       " 743,\n",
       " 752,\n",
       " 761,\n",
       " 770,\n",
       " 779,\n",
       " 788,\n",
       " 797,\n",
       " 806,\n",
       " 815,\n",
       " 824,\n",
       " 833,\n",
       " 842,\n",
       " 851,\n",
       " 860,\n",
       " 869,\n",
       " 878,\n",
       " 887,\n",
       " 896,\n",
       " 905,\n",
       " 914,\n",
       " 923,\n",
       " 932,\n",
       " 941,\n",
       " 950,\n",
       " 959,\n",
       " 968,\n",
       " 977,\n",
       " 986,\n",
       " 995]"
      ]
     },
     "execution_count": 307,
     "metadata": {},
     "output_type": "execute_result"
    }
   ],
   "source": [
    "kid=[i for i in range(999) if i % 9==5] # which means the remainder of dividing each number by 9 is equal to 5.\n",
    "kid"
   ]
  },
  {
   "cell_type": "code",
   "execution_count": 308,
   "id": "29713018",
   "metadata": {},
   "outputs": [
    {
     "data": {
      "text/plain": [
       "[0, 1, 8, 27, 64, 125, 216, 343, 512, 729]"
      ]
     },
     "execution_count": 308,
     "metadata": {},
     "output_type": "execute_result"
    }
   ],
   "source": [
    "square3_1_9=[num**3 for num in range(10)] # can get square root,cube root any value root in list\n",
    "square3_1_9"
   ]
  },
  {
   "cell_type": "code",
   "execution_count": 309,
   "id": "ffa367c6",
   "metadata": {},
   "outputs": [
    {
     "data": {
      "text/plain": [
       "[0, 1, 8, 27, 64, 125, 216, 343, 512, 729]"
      ]
     },
     "execution_count": 309,
     "metadata": {},
     "output_type": "execute_result"
    }
   ],
   "source": [
    "square3_1_9"
   ]
  },
  {
   "cell_type": "code",
   "execution_count": 310,
   "id": "5ac59f80",
   "metadata": {},
   "outputs": [
    {
     "data": {
      "text/plain": [
       "[0, 1, 16, 81, 256, 625]"
      ]
     },
     "execution_count": 310,
     "metadata": {},
     "output_type": "execute_result"
    }
   ],
   "source": [
    "square4_1_9=[mum**4 for mum in range(6)] # num is not necessary but any str can br given\n",
    "square4_1_9"
   ]
  },
  {
   "cell_type": "code",
   "execution_count": 311,
   "id": "346b9418",
   "metadata": {},
   "outputs": [
    {
     "data": {
      "text/plain": [
       "[100000,\n",
       " 3200000,\n",
       " 24300000,\n",
       " 102400000,\n",
       " 312500000,\n",
       " 777600000,\n",
       " 1680700000,\n",
       " 3276800000,\n",
       " 5904900000]"
      ]
     },
     "execution_count": 311,
     "metadata": {},
     "output_type": "execute_result"
    }
   ],
   "source": [
    "sq5_10_100=[kim**5 for kim in range(10,100,10)]\n",
    "sq5_10_100"
   ]
  },
  {
   "cell_type": "code",
   "execution_count": 312,
   "id": "cf5b6107",
   "metadata": {},
   "outputs": [
    {
     "data": {
      "text/plain": [
       "9"
      ]
     },
     "execution_count": 312,
     "metadata": {},
     "output_type": "execute_result"
    }
   ],
   "source": [
    "len(sq5_10_100)"
   ]
  },
  {
   "cell_type": "code",
   "execution_count": 313,
   "id": "f9248667",
   "metadata": {},
   "outputs": [
    {
     "data": {
      "text/plain": [
       "[0, 1, 32, 243, 1024, 3125, 7776, 16807, 32768, 59049]"
      ]
     },
     "execution_count": 313,
     "metadata": {},
     "output_type": "execute_result"
    }
   ],
   "source": [
    "sq5_1_10=[ich**5 for ich in range(10)]\n",
    "sq5_1_10"
   ]
  },
  {
   "cell_type": "code",
   "execution_count": 314,
   "id": "4fe5379d",
   "metadata": {},
   "outputs": [],
   "source": [
    "du=[2,3,9,6,5,8,4,2,5,5,6,5]\n",
    "du=[i*2 for i in du]"
   ]
  },
  {
   "cell_type": "code",
   "execution_count": 315,
   "id": "387a4984",
   "metadata": {},
   "outputs": [
    {
     "data": {
      "text/plain": [
       "[4, 6, 18, 12, 10, 16, 8, 4, 10, 10, 12, 10]"
      ]
     },
     "execution_count": 315,
     "metadata": {},
     "output_type": "execute_result"
    }
   ],
   "source": [
    "du"
   ]
  },
  {
   "cell_type": "code",
   "execution_count": 316,
   "id": "aba7c6b5",
   "metadata": {},
   "outputs": [
    {
     "data": {
      "text/plain": [
       "[4, 4, 6, 8, 10, 10, 10, 10, 12, 12, 16, 18]"
      ]
     },
     "execution_count": 316,
     "metadata": {},
     "output_type": "execute_result"
    }
   ],
   "source": [
    "du.sort()\n",
    "du"
   ]
  },
  {
   "cell_type": "code",
   "execution_count": 317,
   "id": "5abdd2f3",
   "metadata": {},
   "outputs": [
    {
     "data": {
      "text/plain": [
       "True"
      ]
     },
     "execution_count": 317,
     "metadata": {},
     "output_type": "execute_result"
    }
   ],
   "source": [
    "all(du)"
   ]
  },
  {
   "cell_type": "code",
   "execution_count": 318,
   "id": "6ea11f4b",
   "metadata": {},
   "outputs": [
    {
     "data": {
      "text/plain": [
       "True"
      ]
     },
     "execution_count": 318,
     "metadata": {},
     "output_type": "execute_result"
    }
   ],
   "source": [
    "any(du)"
   ]
  },
  {
   "cell_type": "code",
   "execution_count": 319,
   "id": "b2048dd4",
   "metadata": {},
   "outputs": [],
   "source": [
    "du.append(0)"
   ]
  },
  {
   "cell_type": "code",
   "execution_count": 320,
   "id": "6683fae2",
   "metadata": {},
   "outputs": [
    {
     "data": {
      "text/plain": [
       "False"
      ]
     },
     "execution_count": 320,
     "metadata": {},
     "output_type": "execute_result"
    }
   ],
   "source": [
    "all(du)"
   ]
  },
  {
   "cell_type": "code",
   "execution_count": 321,
   "id": "12e85124",
   "metadata": {},
   "outputs": [
    {
     "data": {
      "text/plain": [
       "True"
      ]
     },
     "execution_count": 321,
     "metadata": {},
     "output_type": "execute_result"
    }
   ],
   "source": [
    "any(du)"
   ]
  },
  {
   "cell_type": "code",
   "execution_count": 322,
   "id": "a6fab047",
   "metadata": {},
   "outputs": [
    {
     "name": "stdout",
     "output_type": "stream",
     "text": [
      "1 is an odd number.\n",
      "2 is an even number.\n",
      "3 is an odd number.\n",
      "4 is an even number.\n",
      "5 is an odd number.\n",
      "6 is an even number.\n",
      "7 is an odd number.\n",
      "8 is an even number.\n",
      "9 is an odd number.\n",
      "10 is an even number.\n"
     ]
    }
   ],
   "source": [
    "for r in range(1, 11):\n",
    "    if r % 2 == 0:\n",
    "        print(f\"{r} is an even number.\")\n",
    "    else:\n",
    "        print(f\"{r} is an odd number.\")"
   ]
  },
  {
   "cell_type": "code",
   "execution_count": 323,
   "id": "4b059981",
   "metadata": {},
   "outputs": [
    {
     "name": "stdout",
     "output_type": "stream",
     "text": [
      "1 is an odd number.\n",
      "11 is an odd number.\n"
     ]
    }
   ],
   "source": [
    "numbers = [1, 11]\n",
    "\n",
    "def check_odd_even(number):\n",
    "    if number % 2 == 0:\n",
    "        return f\"{number} is an even number.\"\n",
    "    else:\n",
    "        return f\"{number} is an odd number.\"\n",
    "\n",
    "for number in numbers:\n",
    "    result = check_odd_even(number)\n",
    "    print(result)\n"
   ]
  },
  {
   "cell_type": "code",
   "execution_count": 324,
   "id": "8557f8b5",
   "metadata": {},
   "outputs": [
    {
     "data": {
      "text/plain": [
       "['g', 'u', 't', 'e', 'n', ' ', 'm', 'o', 'r', 'g', 'e', 'n']"
      ]
     },
     "execution_count": 324,
     "metadata": {},
     "output_type": "execute_result"
    }
   ],
   "source": [
    "str1=\"guten morgen\"\n",
    "list11=[i for i in str1]\n",
    "list11"
   ]
  },
  {
   "cell_type": "code",
   "execution_count": 325,
   "id": "300f78fb",
   "metadata": {},
   "outputs": [
    {
     "data": {
      "text/plain": [
       "['t',\n",
       " 'o',\n",
       " 'u',\n",
       " 'r',\n",
       " 'i',\n",
       " 's',\n",
       " 't',\n",
       " 'e',\n",
       " 'n',\n",
       " ' ',\n",
       " 'w',\n",
       " 'i',\n",
       " 'n',\n",
       " 'k',\n",
       " 'e',\n",
       " 'n']"
      ]
     },
     "execution_count": 325,
     "metadata": {},
     "output_type": "execute_result"
    }
   ],
   "source": [
    "str3 = \"touristen winken\"\n",
    "list443= [i for i in str3]\n",
    "list443"
   ]
  },
  {
   "cell_type": "code",
   "execution_count": 326,
   "id": "238b8eb9",
   "metadata": {},
   "outputs": [],
   "source": [
    "dict={}"
   ]
  },
  {
   "cell_type": "code",
   "execution_count": 327,
   "id": "0490fbce",
   "metadata": {},
   "outputs": [
    {
     "data": {
      "text/plain": [
       "dict"
      ]
     },
     "execution_count": 327,
     "metadata": {},
     "output_type": "execute_result"
    }
   ],
   "source": [
    "type(dict)"
   ]
  },
  {
   "cell_type": "code",
   "execution_count": 328,
   "id": "c5ca2ac2",
   "metadata": {},
   "outputs": [
    {
     "data": {
      "text/plain": [
       "0"
      ]
     },
     "execution_count": 328,
     "metadata": {},
     "output_type": "execute_result"
    }
   ],
   "source": [
    "len(dict)"
   ]
  },
  {
   "cell_type": "code",
   "execution_count": 329,
   "id": "a183fee2",
   "metadata": {},
   "outputs": [
    {
     "data": {
      "text/plain": [
       "[1, 6, 11, 16, 21, 26, 31, 36, 41, 46, 51, 56, 61, 66, 71, 76, 81, 86]"
      ]
     },
     "execution_count": 329,
     "metadata": {},
     "output_type": "execute_result"
    }
   ],
   "source": [
    "list45=[i for i in  range(90)if i % 5 == 1 ]\n",
    "list45"
   ]
  },
  {
   "cell_type": "code",
   "execution_count": 330,
   "id": "24ce5051",
   "metadata": {},
   "outputs": [
    {
     "data": {
      "text/plain": [
       "[3, 10, 17, 24, 31, 38, 45, 52, 59, 66]"
      ]
     },
     "execution_count": 330,
     "metadata": {},
     "output_type": "execute_result"
    }
   ],
   "source": [
    "list90=[i for i in range(70) if i % 7 == 3]\n",
    "list90"
   ]
  },
  {
   "cell_type": "code",
   "execution_count": 331,
   "id": "5c6a87af",
   "metadata": {},
   "outputs": [
    {
     "data": {
      "text/plain": [
       "[0, 66, 132, 198, 264, 330, 396, 462, 528, 594]"
      ]
     },
     "execution_count": 331,
     "metadata": {},
     "output_type": "execute_result"
    }
   ],
   "source": [
    "kist22=[ i*66 for i in range(10)]\n",
    "kist22"
   ]
  },
  {
   "cell_type": "code",
   "execution_count": 332,
   "id": "d0b4b8b4",
   "metadata": {},
   "outputs": [
    {
     "data": {
      "text/plain": [
       "[0, 5]"
      ]
     },
     "execution_count": 332,
     "metadata": {},
     "output_type": "execute_result"
    }
   ],
   "source": [
    "sagen=[i*5 for i in  range(2)]\n",
    "sagen"
   ]
  },
  {
   "cell_type": "code",
   "execution_count": 333,
   "id": "d7ca230d",
   "metadata": {},
   "outputs": [],
   "source": [
    "kochen=[2,5,6,4,7,9] # Multiple whole list by 10\n",
    "kochen=[k*10 for k in kochen]"
   ]
  },
  {
   "cell_type": "code",
   "execution_count": 334,
   "id": "89e77fd4",
   "metadata": {},
   "outputs": [
    {
     "data": {
      "text/plain": [
       "[20, 50, 60, 40, 70, 90]"
      ]
     },
     "execution_count": 334,
     "metadata": {},
     "output_type": "execute_result"
    }
   ],
   "source": [
    "kochen"
   ]
  },
  {
   "cell_type": "code",
   "execution_count": 335,
   "id": "9d7fd6a2",
   "metadata": {},
   "outputs": [
    {
     "data": {
      "text/plain": [
       "[0, 36, 72, 108, 144, 180]"
      ]
     },
     "execution_count": 335,
     "metadata": {},
     "output_type": "execute_result"
    }
   ],
   "source": [
    "#List all numbers divisible by 3 , 9 & 12 using nested \"if\" with List Comprehension\n",
    "lachen=[l for l in range(200) if l % 3==0 if l % 9==0 if l%12==0 ]\n",
    "lachen"
   ]
  },
  {
   "cell_type": "code",
   "execution_count": 336,
   "id": "86c132d6",
   "metadata": {},
   "outputs": [
    {
     "name": "stdout",
     "output_type": "stream",
     "text": [
      "0 is a even number\n",
      "1 is a odd number\n",
      "2 is a even number\n",
      "3 is a odd number\n",
      "4 is a even number\n",
      "5 is a odd number\n",
      "6 is a even number\n",
      "7 is a odd number\n",
      "8 is a even number\n",
      "9 is a odd number\n"
     ]
    },
    {
     "data": {
      "text/plain": [
       "[None, None, None, None, None, None, None, None, None, None]"
      ]
     },
     "execution_count": 336,
     "metadata": {},
     "output_type": "execute_result"
    }
   ],
   "source": [
    "l33=[print(\"{} is a even number\" .format(i))if i %2==0 else print(\"{} is a odd number\" .format(i)) for i in range(10)]\n",
    "l33"
   ]
  },
  {
   "cell_type": "code",
   "execution_count": 337,
   "id": "c1b07ba5",
   "metadata": {},
   "outputs": [
    {
     "name": "stdout",
     "output_type": "stream",
     "text": [
      "0 is a eins\n",
      "1 is a zwei\n",
      "2 is a eins\n",
      "3 is a zwei\n",
      "4 is a eins\n",
      "5 is a zwei\n",
      "6 is a eins\n",
      "7 is a zwei\n",
      "8 is a eins\n",
      "9 is a zwei\n",
      "10 is a eins\n",
      "11 is a zwei\n",
      "12 is a eins\n",
      "13 is a zwei\n"
     ]
    }
   ],
   "source": [
    "even_odd=[print(\"{} is a eins\".format(i)) if i%2==0 else print(\"{} is a zwei\".format(i)) for i in range(14)]"
   ]
  },
  {
   "cell_type": "code",
   "execution_count": 338,
   "id": "b726cf0b",
   "metadata": {},
   "outputs": [
    {
     "data": {
      "text/plain": [
       "['4',\n",
       " '4',\n",
       " '4',\n",
       " '6',\n",
       " '6',\n",
       " '6',\n",
       " '5',\n",
       " '6',\n",
       " '6',\n",
       " '6',\n",
       " '2',\n",
       " '5',\n",
       " '8',\n",
       " '6',\n",
       " '3',\n",
       " '5',\n",
       " '1',\n",
       " '6',\n",
       " '5',\n",
       " '6',\n",
       " '5',\n",
       " '6',\n",
       " '3',\n",
       " '5',\n",
       " '6']"
      ]
     },
     "execution_count": 338,
     "metadata": {},
     "output_type": "execute_result"
    }
   ],
   "source": [
    "spielen=\"4d44d6  fjsjhd66 56 6 6258d635dc165wefc65c635c6\"\n",
    "zahlen=[i for i in spielen if i.isdigit()] # Extract numbers from a string\n",
    "zahlen"
   ]
  },
  {
   "cell_type": "code",
   "execution_count": 339,
   "id": "aa44697b",
   "metadata": {},
   "outputs": [
    {
     "data": {
      "text/plain": [
       "25"
      ]
     },
     "execution_count": 339,
     "metadata": {},
     "output_type": "execute_result"
    }
   ],
   "source": [
    "len(zahlen)"
   ]
  },
  {
   "cell_type": "code",
   "execution_count": 340,
   "id": "1eea4c95",
   "metadata": {},
   "outputs": [
    {
     "data": {
      "text/plain": [
       "'4d44d6  fjsjhd66 56 6 6258d635dc165wefc65c635c6'"
      ]
     },
     "execution_count": 340,
     "metadata": {},
     "output_type": "execute_result"
    }
   ],
   "source": [
    "spielen"
   ]
  },
  {
   "cell_type": "code",
   "execution_count": 341,
   "id": "64097fd6",
   "metadata": {},
   "outputs": [
    {
     "data": {
      "text/plain": [
       "['d',\n",
       " 'd',\n",
       " 'f',\n",
       " 'j',\n",
       " 's',\n",
       " 'j',\n",
       " 'h',\n",
       " 'd',\n",
       " 'd',\n",
       " 'd',\n",
       " 'c',\n",
       " 'w',\n",
       " 'e',\n",
       " 'f',\n",
       " 'c',\n",
       " 'c',\n",
       " 'c']"
      ]
     },
     "execution_count": 341,
     "metadata": {},
     "output_type": "execute_result"
    }
   ],
   "source": [
    "# Extract letters from a string\n",
    "alaphabetieren=[i for i in spielen if i.isalpha()]\n",
    "alaphabetieren"
   ]
  },
  {
   "cell_type": "code",
   "execution_count": 342,
   "id": "9b31d8d5",
   "metadata": {},
   "outputs": [
    {
     "data": {
      "text/plain": [
       "17"
      ]
     },
     "execution_count": 342,
     "metadata": {},
     "output_type": "execute_result"
    }
   ],
   "source": [
    "len(alaphabetieren)"
   ]
  },
  {
   "cell_type": "markdown",
   "id": "ff99e53c",
   "metadata": {},
   "source": [
    "# TUPLES\n",
    "1. Tuple is similar to List except that the objects in        tuple are immutable which means we cannot change the      elements of a tuple once assigned.\n",
    "2. When we do not want to change the data over time, tuple    is a preferred data type.\n",
    "3. Iterating over the elements of a tuple is faster          compared to iterating over a list.\n"
   ]
  },
  {
   "cell_type": "code",
   "execution_count": 343,
   "id": "07e01bf9",
   "metadata": {},
   "outputs": [],
   "source": [
    " TUP1=()"
   ]
  },
  {
   "cell_type": "code",
   "execution_count": 344,
   "id": "fad1641a",
   "metadata": {},
   "outputs": [],
   "source": [
    "tup2=(10,20,30)"
   ]
  },
  {
   "cell_type": "code",
   "execution_count": 345,
   "id": "d480e9f3",
   "metadata": {},
   "outputs": [],
   "source": [
    "tup3=(10.2,20.5,40.6,33.2)"
   ]
  },
  {
   "cell_type": "code",
   "execution_count": 346,
   "id": "d3cfa2f5",
   "metadata": {},
   "outputs": [],
   "source": [
    "tup4=('katze','hund')"
   ]
  },
  {
   "cell_type": "code",
   "execution_count": 347,
   "id": "69e7bdd2",
   "metadata": {},
   "outputs": [],
   "source": [
    "tup5=('apfel',20,23.2,'zweibeln',(1,'pfund'))"
   ]
  },
  {
   "cell_type": "code",
   "execution_count": 348,
   "id": "57bb153f",
   "metadata": {},
   "outputs": [],
   "source": [
    "top3=('apfel',20,23.2,'zweibeln',(1,'pfund'),[10,20,30,45],{99,58,64})"
   ]
  },
  {
   "cell_type": "code",
   "execution_count": 349,
   "id": "b2928749",
   "metadata": {},
   "outputs": [
    {
     "data": {
      "text/plain": [
       "7"
      ]
     },
     "execution_count": 349,
     "metadata": {},
     "output_type": "execute_result"
    }
   ],
   "source": [
    "len(top3)"
   ]
  },
  {
   "cell_type": "code",
   "execution_count": 350,
   "id": "9e0142c4",
   "metadata": {},
   "outputs": [
    {
     "data": {
      "text/plain": [
       "10"
      ]
     },
     "execution_count": 350,
     "metadata": {},
     "output_type": "execute_result"
    }
   ],
   "source": [
    "tup2[0]"
   ]
  },
  {
   "cell_type": "code",
   "execution_count": 351,
   "id": "f6901001",
   "metadata": {},
   "outputs": [
    {
     "data": {
      "text/plain": [
       "'hund'"
      ]
     },
     "execution_count": 351,
     "metadata": {},
     "output_type": "execute_result"
    }
   ],
   "source": [
    "tup4[1]"
   ]
  },
  {
   "cell_type": "code",
   "execution_count": 352,
   "id": "28b9d3b9",
   "metadata": {},
   "outputs": [
    {
     "data": {
      "text/plain": [
       "'zweibeln'"
      ]
     },
     "execution_count": 352,
     "metadata": {},
     "output_type": "execute_result"
    }
   ],
   "source": [
    "tup5[3]"
   ]
  },
  {
   "cell_type": "code",
   "execution_count": 353,
   "id": "bfda58f8",
   "metadata": {},
   "outputs": [
    {
     "data": {
      "text/plain": [
       "{58, 64, 99}"
      ]
     },
     "execution_count": 353,
     "metadata": {},
     "output_type": "execute_result"
    }
   ],
   "source": [
    "top3[6]"
   ]
  },
  {
   "cell_type": "code",
   "execution_count": 354,
   "id": "f9216214",
   "metadata": {},
   "outputs": [
    {
     "data": {
      "text/plain": [
       "20"
      ]
     },
     "execution_count": 354,
     "metadata": {},
     "output_type": "execute_result"
    }
   ],
   "source": [
    "tup2[-2]"
   ]
  },
  {
   "cell_type": "code",
   "execution_count": 355,
   "id": "63c1ad8f",
   "metadata": {},
   "outputs": [
    {
     "data": {
      "text/plain": [
       "20.5"
      ]
     },
     "execution_count": 355,
     "metadata": {},
     "output_type": "execute_result"
    }
   ],
   "source": [
    "tup3[-3]"
   ]
  },
  {
   "cell_type": "code",
   "execution_count": 356,
   "id": "685f0aea",
   "metadata": {},
   "outputs": [
    {
     "data": {
      "text/plain": [
       "('one', 'two', 'three', 'four', 'five', 'six', 'seven', 'eight')"
      ]
     },
     "execution_count": 356,
     "metadata": {},
     "output_type": "execute_result"
    }
   ],
   "source": [
    "wechseln=('one','two','three','four','five','six','seven','eight')\n",
    "wechseln"
   ]
  },
  {
   "cell_type": "code",
   "execution_count": 357,
   "id": "925ec54f",
   "metadata": {},
   "outputs": [
    {
     "name": "stdout",
     "output_type": "stream",
     "text": [
      "(0, 'one')\n",
      "(1, 'two')\n",
      "(2, 'three')\n",
      "(3, 'four')\n",
      "(4, 'five')\n",
      "(5, 'six')\n",
      "(6, 'seven')\n",
      "(7, 'eight')\n"
     ]
    }
   ],
   "source": [
    "for i in enumerate(wechseln):\n",
    "    print(i)"
   ]
  },
  {
   "cell_type": "code",
   "execution_count": 358,
   "id": "5914def7",
   "metadata": {},
   "outputs": [
    {
     "data": {
      "text/plain": [
       "('one', 'two', 'three')"
      ]
     },
     "execution_count": 358,
     "metadata": {},
     "output_type": "execute_result"
    }
   ],
   "source": [
    "wechseln[0:3]"
   ]
  },
  {
   "cell_type": "code",
   "execution_count": 359,
   "id": "5a72ac09",
   "metadata": {},
   "outputs": [
    {
     "data": {
      "text/plain": [
       "('two',)"
      ]
     },
     "execution_count": 359,
     "metadata": {},
     "output_type": "execute_result"
    }
   ],
   "source": [
    "wechseln[1:2]"
   ]
  },
  {
   "cell_type": "code",
   "execution_count": 360,
   "id": "eec78bfd",
   "metadata": {},
   "outputs": [
    {
     "data": {
      "text/plain": [
       "('four', 'five', 'six')"
      ]
     },
     "execution_count": 360,
     "metadata": {},
     "output_type": "execute_result"
    }
   ],
   "source": [
    "wechseln[3:6]"
   ]
  },
  {
   "cell_type": "code",
   "execution_count": 361,
   "id": "c318f11b",
   "metadata": {},
   "outputs": [
    {
     "data": {
      "text/plain": [
       "('three', 'four', 'five')"
      ]
     },
     "execution_count": 361,
     "metadata": {},
     "output_type": "execute_result"
    }
   ],
   "source": [
    "wechseln[2:5]"
   ]
  },
  {
   "cell_type": "code",
   "execution_count": 362,
   "id": "ca93c982",
   "metadata": {},
   "outputs": [
    {
     "data": {
      "text/plain": [
       "('one', 'two', 'three', 'four', 'five', 'six')"
      ]
     },
     "execution_count": 362,
     "metadata": {},
     "output_type": "execute_result"
    }
   ],
   "source": [
    "wechseln[:6]"
   ]
  },
  {
   "cell_type": "code",
   "execution_count": 363,
   "id": "54f58d3d",
   "metadata": {},
   "outputs": [
    {
     "data": {
      "text/plain": [
       "('one', 'two')"
      ]
     },
     "execution_count": 363,
     "metadata": {},
     "output_type": "execute_result"
    }
   ],
   "source": [
    "wechseln[:-6]"
   ]
  },
  {
   "cell_type": "code",
   "execution_count": 364,
   "id": "cdfffb28",
   "metadata": {},
   "outputs": [
    {
     "data": {
      "text/plain": [
       "('seven', 'eight')"
      ]
     },
     "execution_count": 364,
     "metadata": {},
     "output_type": "execute_result"
    }
   ],
   "source": [
    "wechseln[6:]"
   ]
  },
  {
   "cell_type": "code",
   "execution_count": 365,
   "id": "f7e86a50",
   "metadata": {},
   "outputs": [
    {
     "data": {
      "text/plain": [
       "('three', 'four', 'five', 'six', 'seven', 'eight')"
      ]
     },
     "execution_count": 365,
     "metadata": {},
     "output_type": "execute_result"
    }
   ],
   "source": [
    "wechseln[-6:]"
   ]
  },
  {
   "cell_type": "code",
   "execution_count": 366,
   "id": "600aac5b",
   "metadata": {},
   "outputs": [
    {
     "data": {
      "text/plain": [
       "('four', 'five', 'six')"
      ]
     },
     "execution_count": 366,
     "metadata": {},
     "output_type": "execute_result"
    }
   ],
   "source": [
    "wechseln[3:6]"
   ]
  },
  {
   "cell_type": "code",
   "execution_count": 367,
   "id": "64a4afe8",
   "metadata": {},
   "outputs": [
    {
     "data": {
      "text/plain": [
       "('one', 'two', 'three', 'four', 'five', 'six', 'seven', 'eight')"
      ]
     },
     "execution_count": 367,
     "metadata": {},
     "output_type": "execute_result"
    }
   ],
   "source": [
    "wechseln[:]"
   ]
  },
  {
   "cell_type": "code",
   "execution_count": 368,
   "id": "3c064403",
   "metadata": {},
   "outputs": [
    {
     "data": {
      "text/plain": [
       "('one', 'two', 'three', 'four', 'five', 'six', 'seven', 'eight')"
      ]
     },
     "execution_count": 368,
     "metadata": {},
     "output_type": "execute_result"
    }
   ],
   "source": [
    "wechseln"
   ]
  },
  {
   "cell_type": "markdown",
   "id": "2b0c9f18",
   "metadata": {},
   "source": [
    "Remove & Change Items # tuple is immutable so removing & changing of items is not possible"
   ]
  },
  {
   "cell_type": "code",
   "execution_count": 369,
   "id": "610efabc",
   "metadata": {},
   "outputs": [
    {
     "ename": "TypeError",
     "evalue": "'tuple' object doesn't support item deletion",
     "output_type": "error",
     "traceback": [
      "\u001b[1;31m---------------------------------------------------------------------------\u001b[0m",
      "\u001b[1;31mTypeError\u001b[0m                                 Traceback (most recent call last)",
      "Cell \u001b[1;32mIn[369], line 1\u001b[0m\n\u001b[1;32m----> 1\u001b[0m \u001b[38;5;28;01mdel\u001b[39;00m wechseln[\u001b[38;5;241m1\u001b[39m]\n",
      "\u001b[1;31mTypeError\u001b[0m: 'tuple' object doesn't support item deletion"
     ]
    }
   ],
   "source": [
    "del wechseln[1]"
   ]
  },
  {
   "cell_type": "code",
   "execution_count": 370,
   "id": "ece0bac1",
   "metadata": {},
   "outputs": [
    {
     "ename": "TypeError",
     "evalue": "'tuple' object does not support item assignment",
     "output_type": "error",
     "traceback": [
      "\u001b[1;31m---------------------------------------------------------------------------\u001b[0m",
      "\u001b[1;31mTypeError\u001b[0m                                 Traceback (most recent call last)",
      "Cell \u001b[1;32mIn[370], line 1\u001b[0m\n\u001b[1;32m----> 1\u001b[0m wechseln[\u001b[38;5;241m3\u001b[39m]\u001b[38;5;241m=\u001b[39m\u001b[38;5;124m'\u001b[39m\u001b[38;5;124mdrei\u001b[39m\u001b[38;5;124m'\u001b[39m\n",
      "\u001b[1;31mTypeError\u001b[0m: 'tuple' object does not support item assignment"
     ]
    }
   ],
   "source": [
    "wechseln[3]='drei'"
   ]
  },
  {
   "cell_type": "code",
   "execution_count": 371,
   "id": "877252cf",
   "metadata": {},
   "outputs": [],
   "source": [
    "del wechseln"
   ]
  },
  {
   "cell_type": "code",
   "execution_count": 372,
   "id": "0e02d0b6",
   "metadata": {},
   "outputs": [
    {
     "ename": "NameError",
     "evalue": "name 'wechseln' is not defined",
     "output_type": "error",
     "traceback": [
      "\u001b[1;31m---------------------------------------------------------------------------\u001b[0m",
      "\u001b[1;31mNameError\u001b[0m                                 Traceback (most recent call last)",
      "Cell \u001b[1;32mIn[372], line 1\u001b[0m\n\u001b[1;32m----> 1\u001b[0m \u001b[43mwechseln\u001b[49m\n",
      "\u001b[1;31mNameError\u001b[0m: name 'wechseln' is not defined"
     ]
    }
   ],
   "source": [
    "wechseln"
   ]
  },
  {
   "cell_type": "code",
   "execution_count": 373,
   "id": "7dc900a3",
   "metadata": {},
   "outputs": [],
   "source": [
    "te=('one', 'two', 'three', 'four', 'five', 'six', 'seven', 'eight')"
   ]
  },
  {
   "cell_type": "code",
   "execution_count": 374,
   "id": "c3712aab",
   "metadata": {},
   "outputs": [
    {
     "data": {
      "text/plain": [
       "('one', 'two', 'three', 'four', 'five', 'six', 'seven', 'eight')"
      ]
     },
     "execution_count": 374,
     "metadata": {},
     "output_type": "execute_result"
    }
   ],
   "source": [
    "te"
   ]
  },
  {
   "cell_type": "code",
   "execution_count": 375,
   "id": "7db087d7",
   "metadata": {},
   "outputs": [
    {
     "name": "stdout",
     "output_type": "stream",
     "text": [
      "one\n",
      "two\n",
      "three\n",
      "four\n",
      "five\n",
      "six\n",
      "seven\n",
      "eight\n"
     ]
    }
   ],
   "source": [
    "for i in te:\n",
    "    print(i)"
   ]
  },
  {
   "cell_type": "code",
   "execution_count": 376,
   "id": "5e2275e5",
   "metadata": {},
   "outputs": [
    {
     "name": "stdout",
     "output_type": "stream",
     "text": [
      "(0, 'one')\n",
      "(1, 'two')\n",
      "(2, 'three')\n",
      "(3, 'four')\n",
      "(4, 'five')\n",
      "(5, 'six')\n",
      "(6, 'seven')\n",
      "(7, 'eight')\n"
     ]
    }
   ],
   "source": [
    "for i in enumerate(te):\n",
    "    print(i)"
   ]
  },
  {
   "cell_type": "code",
   "execution_count": 377,
   "id": "914cb45e",
   "metadata": {},
   "outputs": [
    {
     "data": {
      "text/plain": [
       "1"
      ]
     },
     "execution_count": 377,
     "metadata": {},
     "output_type": "execute_result"
    }
   ],
   "source": [
    "te.count('one')  # Number of times item \"one\" occurred in the tuple."
   ]
  },
  {
   "cell_type": "code",
   "execution_count": 378,
   "id": "3f8b4dba",
   "metadata": {},
   "outputs": [
    {
     "data": {
      "text/plain": [
       "7"
      ]
     },
     "execution_count": 378,
     "metadata": {},
     "output_type": "execute_result"
    }
   ],
   "source": [
    "te.index('eight')"
   ]
  },
  {
   "cell_type": "code",
   "execution_count": 379,
   "id": "cf7d6163",
   "metadata": {},
   "outputs": [
    {
     "data": {
      "text/plain": [
       "False"
      ]
     },
     "execution_count": 379,
     "metadata": {},
     "output_type": "execute_result"
    }
   ],
   "source": [
    "f=(0/9,9/9,6+6,3.2+6,6-6)\n",
    "all(f)"
   ]
  },
  {
   "cell_type": "code",
   "execution_count": 380,
   "id": "2b04e5d5",
   "metadata": {},
   "outputs": [
    {
     "data": {
      "text/plain": [
       "True"
      ]
     },
     "execution_count": 380,
     "metadata": {},
     "output_type": "execute_result"
    }
   ],
   "source": [
    "any(f)"
   ]
  },
  {
   "cell_type": "code",
   "execution_count": 381,
   "id": "31640433",
   "metadata": {},
   "outputs": [
    {
     "data": {
      "text/plain": [
       "('one', 'two', 'three', 'four', 'five', 'six', 'seven', 'eight')"
      ]
     },
     "execution_count": 381,
     "metadata": {},
     "output_type": "execute_result"
    }
   ],
   "source": [
    "te"
   ]
  },
  {
   "cell_type": "code",
   "execution_count": 382,
   "id": "178e0db6",
   "metadata": {},
   "outputs": [
    {
     "data": {
      "text/plain": [
       "True"
      ]
     },
     "execution_count": 382,
     "metadata": {},
     "output_type": "execute_result"
    }
   ],
   "source": [
    "'two' in te"
   ]
  },
  {
   "cell_type": "code",
   "execution_count": 383,
   "id": "91f50725",
   "metadata": {},
   "outputs": [
    {
     "data": {
      "text/plain": [
       "True"
      ]
     },
     "execution_count": 383,
     "metadata": {},
     "output_type": "execute_result"
    }
   ],
   "source": [
    "g='three'in te\n",
    "g"
   ]
  },
  {
   "cell_type": "code",
   "execution_count": 384,
   "id": "086ce438",
   "metadata": {},
   "outputs": [
    {
     "data": {
      "text/plain": [
       "False"
      ]
     },
     "execution_count": 384,
     "metadata": {},
     "output_type": "execute_result"
    }
   ],
   "source": [
    "y=('four'in te,'five'in te,'nine'in te)\n",
    "all(y)"
   ]
  },
  {
   "cell_type": "code",
   "execution_count": 385,
   "id": "97ca73f3",
   "metadata": {},
   "outputs": [
    {
     "data": {
      "text/plain": [
       "True"
      ]
     },
     "execution_count": 385,
     "metadata": {},
     "output_type": "execute_result"
    }
   ],
   "source": [
    "any(y)"
   ]
  },
  {
   "cell_type": "code",
   "execution_count": 386,
   "id": "bf2865ba",
   "metadata": {},
   "outputs": [
    {
     "name": "stdout",
     "output_type": "stream",
     "text": [
      "five is funf in Deutsch\n"
     ]
    }
   ],
   "source": [
    "if 'five' not in te:\n",
    "    print('five is vier in Deutsch')\n",
    "else:\n",
    "    print('five is funf in Deutsch')"
   ]
  },
  {
   "cell_type": "code",
   "execution_count": 387,
   "id": "4fc1c187",
   "metadata": {},
   "outputs": [
    {
     "data": {
      "text/plain": [
       "(55, 65, 32, 65, 3, 2, 0, 5, 88, 995)"
      ]
     },
     "execution_count": 387,
     "metadata": {},
     "output_type": "execute_result"
    }
   ],
   "source": [
    "ke=(55,65,32,65,3,2,0,5,88,995)\n",
    "ke"
   ]
  },
  {
   "cell_type": "code",
   "execution_count": 388,
   "id": "6bc64802",
   "metadata": {},
   "outputs": [],
   "source": [
    "se3={23,55,6,8,9,6}"
   ]
  },
  {
   "cell_type": "code",
   "execution_count": 389,
   "id": "5893ec4c",
   "metadata": {},
   "outputs": [
    {
     "data": {
      "text/plain": [
       "set"
      ]
     },
     "execution_count": 389,
     "metadata": {},
     "output_type": "execute_result"
    }
   ],
   "source": [
    "type(se3)"
   ]
  },
  {
   "cell_type": "code",
   "execution_count": 390,
   "id": "e7bd7cf8",
   "metadata": {},
   "outputs": [
    {
     "ename": "TypeError",
     "evalue": "'set' object is not subscriptable",
     "output_type": "error",
     "traceback": [
      "\u001b[1;31m---------------------------------------------------------------------------\u001b[0m",
      "\u001b[1;31mTypeError\u001b[0m                                 Traceback (most recent call last)",
      "Cell \u001b[1;32mIn[390], line 1\u001b[0m\n\u001b[1;32m----> 1\u001b[0m \u001b[43mse3\u001b[49m\u001b[43m[\u001b[49m\u001b[38;5;241;43m0\u001b[39;49m\u001b[43m]\u001b[49m\n",
      "\u001b[1;31mTypeError\u001b[0m: 'set' object is not subscriptable"
     ]
    }
   ],
   "source": [
    "se3[0]"
   ]
  },
  {
   "cell_type": "code",
   "execution_count": 391,
   "id": "a449766f",
   "metadata": {},
   "outputs": [
    {
     "ename": "TypeError",
     "evalue": "'set' object is not subscriptable",
     "output_type": "error",
     "traceback": [
      "\u001b[1;31m---------------------------------------------------------------------------\u001b[0m",
      "\u001b[1;31mTypeError\u001b[0m                                 Traceback (most recent call last)",
      "Cell \u001b[1;32mIn[391], line 1\u001b[0m\n\u001b[1;32m----> 1\u001b[0m \u001b[43mse3\u001b[49m\u001b[43m[\u001b[49m\u001b[38;5;241;43m3\u001b[39;49m\u001b[43m]\u001b[49m\n",
      "\u001b[1;31mTypeError\u001b[0m: 'set' object is not subscriptable"
     ]
    }
   ],
   "source": [
    "se3[3]"
   ]
  },
  {
   "cell_type": "code",
   "execution_count": 392,
   "id": "ea088c8c",
   "metadata": {},
   "outputs": [
    {
     "name": "stdout",
     "output_type": "stream",
     "text": [
      "(0, 55)\n",
      "(1, 6)\n",
      "(2, 23)\n",
      "(3, 8)\n",
      "(4, 9)\n"
     ]
    }
   ],
   "source": [
    "for i in enumerate(se3):\n",
    "    print(i)"
   ]
  },
  {
   "cell_type": "code",
   "execution_count": 393,
   "id": "1c14a8e6",
   "metadata": {},
   "outputs": [
    {
     "data": {
      "text/plain": [
       "5"
      ]
     },
     "execution_count": 393,
     "metadata": {},
     "output_type": "execute_result"
    }
   ],
   "source": [
    "len(se3)"
   ]
  },
  {
   "cell_type": "code",
   "execution_count": 394,
   "id": "a3f91568",
   "metadata": {},
   "outputs": [],
   "source": [
    "my={11,22,822,55,22,44,}# Duplicate elements are not allowed.\n"
   ]
  },
  {
   "cell_type": "code",
   "execution_count": 395,
   "id": "8d7c735b",
   "metadata": {},
   "outputs": [
    {
     "data": {
      "text/plain": [
       "5"
      ]
     },
     "execution_count": 395,
     "metadata": {},
     "output_type": "execute_result"
    }
   ],
   "source": [
    "len(my)"
   ]
  },
  {
   "cell_type": "code",
   "execution_count": 396,
   "id": "bf06fab9",
   "metadata": {},
   "outputs": [],
   "source": [
    "s2={1,2,5,8,9,6}"
   ]
  },
  {
   "cell_type": "code",
   "execution_count": 397,
   "id": "3354180e",
   "metadata": {},
   "outputs": [],
   "source": [
    "s3={2.0,3.0,6.0,50.}"
   ]
  },
  {
   "cell_type": "code",
   "execution_count": 398,
   "id": "c56dddba",
   "metadata": {},
   "outputs": [],
   "source": [
    "s4={'handy','telefon','call'}"
   ]
  },
  {
   "cell_type": "code",
   "execution_count": 399,
   "id": "49970740",
   "metadata": {},
   "outputs": [],
   "source": [
    "s5={11.25,55,66,('anna','meier'),True,False}"
   ]
  },
  {
   "cell_type": "code",
   "execution_count": 400,
   "id": "680cbedd",
   "metadata": {},
   "outputs": [
    {
     "ename": "TypeError",
     "evalue": "unhashable type: 'list'",
     "output_type": "error",
     "traceback": [
      "\u001b[1;31m---------------------------------------------------------------------------\u001b[0m",
      "\u001b[1;31mTypeError\u001b[0m                                 Traceback (most recent call last)",
      "Cell \u001b[1;32mIn[400], line 1\u001b[0m\n\u001b[1;32m----> 1\u001b[0m s6\u001b[38;5;241m=\u001b[39m{\u001b[38;5;241m11.25\u001b[39m,\u001b[38;5;241m55\u001b[39m,\u001b[38;5;241m66\u001b[39m,[\u001b[38;5;124m'\u001b[39m\u001b[38;5;124manna\u001b[39m\u001b[38;5;124m'\u001b[39m,\u001b[38;5;124m'\u001b[39m\u001b[38;5;124mmeier\u001b[39m\u001b[38;5;124m'\u001b[39m],\u001b[38;5;28;01mTrue\u001b[39;00m,\u001b[38;5;28;01mFalse\u001b[39;00m}\n",
      "\u001b[1;31mTypeError\u001b[0m: unhashable type: 'list'"
     ]
    }
   ],
   "source": [
    "s6={11.25,55,66,['anna','meier'],True,False}# set doesn't allow mutable items like list"
   ]
  },
  {
   "cell_type": "code",
   "execution_count": 401,
   "id": "49356683",
   "metadata": {},
   "outputs": [],
   "source": [
    "s7=set()"
   ]
  },
  {
   "cell_type": "code",
   "execution_count": 402,
   "id": "b59f35b0",
   "metadata": {},
   "outputs": [
    {
     "name": "stdout",
     "output_type": "stream",
     "text": [
      "<class 'set'>\n"
     ]
    }
   ],
   "source": [
    "print(type(s7))"
   ]
  },
  {
   "cell_type": "code",
   "execution_count": 403,
   "id": "4cfa8ee4",
   "metadata": {},
   "outputs": [
    {
     "data": {
      "text/plain": [
       "set()"
      ]
     },
     "execution_count": 403,
     "metadata": {},
     "output_type": "execute_result"
    }
   ],
   "source": [
    "s7"
   ]
  },
  {
   "cell_type": "code",
   "execution_count": 404,
   "id": "66f0a7f4",
   "metadata": {},
   "outputs": [
    {
     "data": {
      "text/plain": [
       "{'four', 'one', 'three', 'two'}"
      ]
     },
     "execution_count": 404,
     "metadata": {},
     "output_type": "execute_result"
    }
   ],
   "source": [
    "s1=set(('one','two','three','four'))\n",
    "s1"
   ]
  },
  {
   "cell_type": "code",
   "execution_count": 405,
   "id": "56fae56e",
   "metadata": {},
   "outputs": [
    {
     "data": {
      "text/plain": [
       "('one', 'two', 'three', 'four', 'five', 'six', 'seven', 'eight')"
      ]
     },
     "execution_count": 405,
     "metadata": {},
     "output_type": "execute_result"
    }
   ],
   "source": [
    "te"
   ]
  },
  {
   "cell_type": "code",
   "execution_count": 406,
   "id": "801a0c72",
   "metadata": {},
   "outputs": [],
   "source": [
    "s7={'one', 'two', 'three', 'four', 'five', 'six', 'seven', 'eight'}"
   ]
  },
  {
   "cell_type": "code",
   "execution_count": 407,
   "id": "4d49f886",
   "metadata": {},
   "outputs": [],
   "source": [
    "s7=te"
   ]
  },
  {
   "cell_type": "code",
   "execution_count": 408,
   "id": "39da8f9b",
   "metadata": {},
   "outputs": [
    {
     "data": {
      "text/plain": [
       "('one', 'two', 'three', 'four', 'five', 'six', 'seven', 'eight')"
      ]
     },
     "execution_count": 408,
     "metadata": {},
     "output_type": "execute_result"
    }
   ],
   "source": [
    "te"
   ]
  },
  {
   "cell_type": "code",
   "execution_count": 409,
   "id": "deb284a5",
   "metadata": {},
   "outputs": [
    {
     "data": {
      "text/plain": [
       "('one', 'two', 'three', 'four', 'five', 'six', 'seven', 'eight')"
      ]
     },
     "execution_count": 409,
     "metadata": {},
     "output_type": "execute_result"
    }
   ],
   "source": [
    "s7"
   ]
  },
  {
   "cell_type": "code",
   "execution_count": 410,
   "id": "033e2d7c",
   "metadata": {},
   "outputs": [
    {
     "data": {
      "text/plain": [
       "('one', 'two', 'three', 'four', 'five', 'six', 'seven', 'eight')"
      ]
     },
     "execution_count": 410,
     "metadata": {},
     "output_type": "execute_result"
    }
   ],
   "source": [
    "te"
   ]
  },
  {
   "cell_type": "code",
   "execution_count": 411,
   "id": "2a9b1b20",
   "metadata": {},
   "outputs": [],
   "source": [
    "te={1,2,3,5,6,4,9,8,7}"
   ]
  },
  {
   "cell_type": "code",
   "execution_count": 412,
   "id": "34e3f1e3",
   "metadata": {},
   "outputs": [],
   "source": [
    "s7={0}"
   ]
  },
  {
   "cell_type": "code",
   "execution_count": 413,
   "id": "00cff075",
   "metadata": {},
   "outputs": [],
   "source": [
    "te=s7"
   ]
  },
  {
   "cell_type": "code",
   "execution_count": 414,
   "id": "37cc87af",
   "metadata": {},
   "outputs": [
    {
     "data": {
      "text/plain": [
       "{0}"
      ]
     },
     "execution_count": 414,
     "metadata": {},
     "output_type": "execute_result"
    }
   ],
   "source": [
    "s7"
   ]
  },
  {
   "cell_type": "code",
   "execution_count": 415,
   "id": "a9840814",
   "metadata": {},
   "outputs": [],
   "source": [
    "s7={'one', 'two', 'three', 'four', 'five', 'six', 'seven', 'eight'}"
   ]
  },
  {
   "cell_type": "code",
   "execution_count": 416,
   "id": "010cb735",
   "metadata": {},
   "outputs": [
    {
     "name": "stdout",
     "output_type": "stream",
     "text": [
      "eight\n",
      "seven\n",
      "five\n",
      "one\n",
      "two\n",
      "four\n",
      "six\n",
      "three\n"
     ]
    }
   ],
   "source": [
    "for s in s7:\n",
    "    print(s)"
   ]
  },
  {
   "cell_type": "code",
   "execution_count": 417,
   "id": "66b97ba5",
   "metadata": {},
   "outputs": [
    {
     "name": "stdout",
     "output_type": "stream",
     "text": [
      "(0, 'eight')\n",
      "(1, 'seven')\n",
      "(2, 'five')\n",
      "(3, 'one')\n",
      "(4, 'two')\n",
      "(5, 'four')\n",
      "(6, 'six')\n",
      "(7, 'three')\n"
     ]
    }
   ],
   "source": [
    "for s in enumerate(s7):\n",
    "    print(s)"
   ]
  },
  {
   "cell_type": "code",
   "execution_count": 418,
   "id": "6a048cbc",
   "metadata": {},
   "outputs": [
    {
     "data": {
      "text/plain": [
       "{'eight', 'five', 'four', 'one', 'seven', 'six', 'three', 'two'}"
      ]
     },
     "execution_count": 418,
     "metadata": {},
     "output_type": "execute_result"
    }
   ],
   "source": [
    "s7"
   ]
  },
  {
   "cell_type": "code",
   "execution_count": 419,
   "id": "21d487c6",
   "metadata": {},
   "outputs": [
    {
     "data": {
      "text/plain": [
       "True"
      ]
     },
     "execution_count": 419,
     "metadata": {},
     "output_type": "execute_result"
    }
   ],
   "source": [
    "'eight' in s7"
   ]
  },
  {
   "cell_type": "code",
   "execution_count": 420,
   "id": "1011f335",
   "metadata": {},
   "outputs": [
    {
     "data": {
      "text/plain": [
       "False"
      ]
     },
     "execution_count": 420,
     "metadata": {},
     "output_type": "execute_result"
    }
   ],
   "source": [
    "'ten'in s7"
   ]
  },
  {
   "cell_type": "code",
   "execution_count": 421,
   "id": "9f7fc426",
   "metadata": {},
   "outputs": [
    {
     "name": "stdout",
     "output_type": "stream",
     "text": [
      "six is sechs in deutsch\n"
     ]
    }
   ],
   "source": [
    "if 'six' in s7:\n",
    "    print('six is sechs in deutsch')\n",
    "else:\n",
    "    print('six is sieben in deutsch')"
   ]
  },
  {
   "cell_type": "code",
   "execution_count": 422,
   "id": "feeda330",
   "metadata": {},
   "outputs": [
    {
     "name": "stdout",
     "output_type": "stream",
     "text": [
      "7 i, 17\n"
     ]
    }
   ],
   "source": [
    "if  'seven'in s7:\n",
    "    print('7 i, 17')\n",
    "else:\n",
    "    print('9 i ,7')"
   ]
  },
  {
   "cell_type": "code",
   "execution_count": 423,
   "id": "9f8355d8",
   "metadata": {},
   "outputs": [
    {
     "data": {
      "text/plain": [
       "{'eight', 'five', 'four', 'one', 'seven', 'six', 'three', 'two'}"
      ]
     },
     "execution_count": 423,
     "metadata": {},
     "output_type": "execute_result"
    }
   ],
   "source": [
    "s7"
   ]
  },
  {
   "cell_type": "code",
   "execution_count": 424,
   "id": "f3789438",
   "metadata": {},
   "outputs": [],
   "source": [
    "s7.add('eight')"
   ]
  },
  {
   "cell_type": "code",
   "execution_count": 425,
   "id": "8391ec67",
   "metadata": {},
   "outputs": [
    {
     "data": {
      "text/plain": [
       "{'eight', 'five', 'four', 'one', 'seven', 'six', 'three', 'two'}"
      ]
     },
     "execution_count": 425,
     "metadata": {},
     "output_type": "execute_result"
    }
   ],
   "source": [
    "s7"
   ]
  },
  {
   "cell_type": "code",
   "execution_count": 426,
   "id": "b7230f6c",
   "metadata": {},
   "outputs": [],
   "source": [
    "s7.add('NINE')"
   ]
  },
  {
   "cell_type": "code",
   "execution_count": 427,
   "id": "10ca8483",
   "metadata": {},
   "outputs": [
    {
     "data": {
      "text/plain": [
       "{'NINE', 'eight', 'five', 'four', 'one', 'seven', 'six', 'three', 'two'}"
      ]
     },
     "execution_count": 427,
     "metadata": {},
     "output_type": "execute_result"
    }
   ],
   "source": [
    "s7"
   ]
  },
  {
   "cell_type": "code",
   "execution_count": 428,
   "id": "0fb6df61",
   "metadata": {},
   "outputs": [
    {
     "data": {
      "text/plain": [
       "{'NINE', 'eight', 'five', 'four', 'one', 'seven', 'six', 'three', 'two'}"
      ]
     },
     "execution_count": 428,
     "metadata": {},
     "output_type": "execute_result"
    }
   ],
   "source": [
    "s7"
   ]
  },
  {
   "cell_type": "code",
   "execution_count": 429,
   "id": "21c7903e",
   "metadata": {},
   "outputs": [
    {
     "ename": "TypeError",
     "evalue": "set.discard() takes exactly one argument (10 given)",
     "output_type": "error",
     "traceback": [
      "\u001b[1;31m---------------------------------------------------------------------------\u001b[0m",
      "\u001b[1;31mTypeError\u001b[0m                                 Traceback (most recent call last)",
      "Cell \u001b[1;32mIn[429], line 1\u001b[0m\n\u001b[1;32m----> 1\u001b[0m \u001b[43ms7\u001b[49m\u001b[38;5;241;43m.\u001b[39;49m\u001b[43mdiscard\u001b[49m\u001b[43m(\u001b[49m\u001b[38;5;124;43m'\u001b[39;49m\u001b[38;5;124;43mE\u001b[39;49m\u001b[38;5;124;43m'\u001b[39;49m\u001b[43m,\u001b[49m\u001b[38;5;124;43m'\u001b[39;49m\u001b[38;5;124;43mELEVEN\u001b[39;49m\u001b[38;5;124;43m'\u001b[39;49m\u001b[43m,\u001b[49m\u001b[38;5;124;43m'\u001b[39;49m\u001b[38;5;124;43mL\u001b[39;49m\u001b[38;5;124;43m'\u001b[39;49m\u001b[43m,\u001b[49m\u001b[43m \u001b[49m\u001b[38;5;124;43m'\u001b[39;49m\u001b[38;5;124;43mN\u001b[39;49m\u001b[38;5;124;43m'\u001b[39;49m\u001b[43m,\u001b[49m\u001b[43m \u001b[49m\u001b[38;5;124;43m'\u001b[39;49m\u001b[38;5;124;43mNINE\u001b[39;49m\u001b[38;5;124;43m'\u001b[39;49m\u001b[43m,\u001b[49m\u001b[38;5;124;43m'\u001b[39;49m\u001b[38;5;124;43mT\u001b[39;49m\u001b[38;5;124;43m'\u001b[39;49m\u001b[43m,\u001b[49m\u001b[38;5;124;43m'\u001b[39;49m\u001b[38;5;124;43mTEN\u001b[39;49m\u001b[38;5;124;43m'\u001b[39;49m\u001b[43m,\u001b[49m\u001b[43m \u001b[49m\u001b[38;5;124;43m'\u001b[39;49m\u001b[38;5;124;43mTWELVE\u001b[39;49m\u001b[38;5;124;43m'\u001b[39;49m\u001b[43m,\u001b[49m\u001b[38;5;124;43m'\u001b[39;49m\u001b[38;5;124;43mV\u001b[39;49m\u001b[38;5;124;43m'\u001b[39;49m\u001b[43m,\u001b[49m\u001b[38;5;124;43m'\u001b[39;49m\u001b[38;5;124;43mW\u001b[39;49m\u001b[38;5;124;43m'\u001b[39;49m\u001b[43m,\u001b[49m\u001b[43m)\u001b[49m\n",
      "\u001b[1;31mTypeError\u001b[0m: set.discard() takes exactly one argument (10 given)"
     ]
    }
   ],
   "source": [
    "s7.discard('E','ELEVEN','L', 'N', 'NINE','T','TEN', 'TWELVE','V','W',)"
   ]
  },
  {
   "cell_type": "code",
   "execution_count": 430,
   "id": "d0a9fadb",
   "metadata": {},
   "outputs": [],
   "source": [
    "del s7"
   ]
  },
  {
   "cell_type": "code",
   "execution_count": 431,
   "id": "041a2706",
   "metadata": {},
   "outputs": [],
   "source": [
    "s7={'eight',\n",
    " 'five',\n",
    " 'four',\n",
    " 'one',\n",
    " 'seven',\n",
    " 'six',\n",
    " 'three',\n",
    " 'two'}"
   ]
  },
  {
   "cell_type": "code",
   "execution_count": 432,
   "id": "49895cff",
   "metadata": {},
   "outputs": [
    {
     "data": {
      "text/plain": [
       "{'eight', 'five', 'four', 'one', 'seven', 'six', 'three', 'two'}"
      ]
     },
     "execution_count": 432,
     "metadata": {},
     "output_type": "execute_result"
    }
   ],
   "source": [
    "s7"
   ]
  },
  {
   "cell_type": "code",
   "execution_count": 433,
   "id": "2856100c",
   "metadata": {},
   "outputs": [],
   "source": [
    "s7.add('NINE')"
   ]
  },
  {
   "cell_type": "code",
   "execution_count": 434,
   "id": "0657272c",
   "metadata": {},
   "outputs": [
    {
     "data": {
      "text/plain": [
       "{'NINE', 'eight', 'five', 'four', 'one', 'seven', 'six', 'three', 'two'}"
      ]
     },
     "execution_count": 434,
     "metadata": {},
     "output_type": "execute_result"
    }
   ],
   "source": [
    "s7"
   ]
  },
  {
   "cell_type": "code",
   "execution_count": 435,
   "id": "7fdab0dd",
   "metadata": {},
   "outputs": [],
   "source": [
    "s7.update(['TEN','ELEVEN','ZWOLF'])"
   ]
  },
  {
   "cell_type": "code",
   "execution_count": 436,
   "id": "4f86780c",
   "metadata": {},
   "outputs": [
    {
     "data": {
      "text/plain": [
       "{'ELEVEN',\n",
       " 'NINE',\n",
       " 'TEN',\n",
       " 'ZWOLF',\n",
       " 'eight',\n",
       " 'five',\n",
       " 'four',\n",
       " 'one',\n",
       " 'seven',\n",
       " 'six',\n",
       " 'three',\n",
       " 'two'}"
      ]
     },
     "execution_count": 436,
     "metadata": {},
     "output_type": "execute_result"
    }
   ],
   "source": [
    "s7"
   ]
  },
  {
   "cell_type": "code",
   "execution_count": 437,
   "id": "372295e0",
   "metadata": {},
   "outputs": [],
   "source": [
    "s7.remove('ZWOLF')"
   ]
  },
  {
   "cell_type": "code",
   "execution_count": 438,
   "id": "5b3a9347",
   "metadata": {},
   "outputs": [
    {
     "data": {
      "text/plain": [
       "{'ELEVEN',\n",
       " 'NINE',\n",
       " 'TEN',\n",
       " 'eight',\n",
       " 'five',\n",
       " 'four',\n",
       " 'one',\n",
       " 'seven',\n",
       " 'six',\n",
       " 'three',\n",
       " 'two'}"
      ]
     },
     "execution_count": 438,
     "metadata": {},
     "output_type": "execute_result"
    }
   ],
   "source": [
    "s7\n"
   ]
  },
  {
   "cell_type": "code",
   "execution_count": 439,
   "id": "0fd792d5",
   "metadata": {},
   "outputs": [
    {
     "data": {
      "text/plain": [
       "{'NINE', 'TEN', 'eight', 'five', 'four', 'one', 'seven', 'six', 'three', 'two'}"
      ]
     },
     "execution_count": 439,
     "metadata": {},
     "output_type": "execute_result"
    }
   ],
   "source": [
    "s7.discard('ELEVEN')\n",
    "s7"
   ]
  },
  {
   "cell_type": "code",
   "execution_count": 440,
   "id": "55e860a0",
   "metadata": {},
   "outputs": [
    {
     "data": {
      "text/plain": [
       "set()"
      ]
     },
     "execution_count": 440,
     "metadata": {},
     "output_type": "execute_result"
    }
   ],
   "source": [
    "s7.clear()\n",
    "s7"
   ]
  },
  {
   "cell_type": "code",
   "execution_count": 441,
   "id": "8ce83a31",
   "metadata": {},
   "outputs": [],
   "source": [
    "s7={'eight',\n",
    " 'five',\n",
    " 'four',\n",
    " 'one',\n",
    " 'seven',\n",
    " 'six',\n",
    " 'three',\n",
    " 'two'}"
   ]
  },
  {
   "cell_type": "code",
   "execution_count": 442,
   "id": "acf84040",
   "metadata": {},
   "outputs": [
    {
     "data": {
      "text/plain": [
       "{'eight', 'five', 'four', 'one', 'seven', 'six', 'three', 'two'}"
      ]
     },
     "execution_count": 442,
     "metadata": {},
     "output_type": "execute_result"
    }
   ],
   "source": [
    "s7"
   ]
  },
  {
   "cell_type": "code",
   "execution_count": 443,
   "id": "3ad0ffb1",
   "metadata": {},
   "outputs": [],
   "source": [
    "te=s7"
   ]
  },
  {
   "cell_type": "code",
   "execution_count": 444,
   "id": "c3c32d44",
   "metadata": {},
   "outputs": [
    {
     "data": {
      "text/plain": [
       "{'eight', 'five', 'four', 'one', 'seven', 'six', 'three', 'two'}"
      ]
     },
     "execution_count": 444,
     "metadata": {},
     "output_type": "execute_result"
    }
   ],
   "source": [
    "te"
   ]
  },
  {
   "cell_type": "code",
   "execution_count": 445,
   "id": "c2658bcb",
   "metadata": {},
   "outputs": [
    {
     "data": {
      "text/plain": [
       "(2680696106208, 2680696106208)"
      ]
     },
     "execution_count": 445,
     "metadata": {},
     "output_type": "execute_result"
    }
   ],
   "source": [
    "id(te),id(s7)"
   ]
  },
  {
   "cell_type": "code",
   "execution_count": 446,
   "id": "8fe5b7e0",
   "metadata": {},
   "outputs": [],
   "source": [
    "s9=s7.copy()"
   ]
  },
  {
   "cell_type": "code",
   "execution_count": 447,
   "id": "191e92af",
   "metadata": {},
   "outputs": [
    {
     "data": {
      "text/plain": [
       "{'eight', 'five', 'four', 'one', 'seven', 'six', 'three', 'two'}"
      ]
     },
     "execution_count": 447,
     "metadata": {},
     "output_type": "execute_result"
    }
   ],
   "source": [
    "s9"
   ]
  },
  {
   "cell_type": "code",
   "execution_count": 448,
   "id": "44048bb9",
   "metadata": {},
   "outputs": [
    {
     "data": {
      "text/plain": [
       "{'eight', 'elf', 'five', 'four', 'one', 'seven', 'six', 'three', 'two'}"
      ]
     },
     "execution_count": 448,
     "metadata": {},
     "output_type": "execute_result"
    }
   ],
   "source": [
    "te.add('elf')\n",
    "te"
   ]
  },
  {
   "cell_type": "code",
   "execution_count": 449,
   "id": "8a28b914",
   "metadata": {},
   "outputs": [
    {
     "data": {
      "text/plain": [
       "{'eight', 'elf', 'five', 'four', 'one', 'seven', 'six', 'three', 'two'}"
      ]
     },
     "execution_count": 449,
     "metadata": {},
     "output_type": "execute_result"
    }
   ],
   "source": [
    "s7"
   ]
  },
  {
   "cell_type": "code",
   "execution_count": 450,
   "id": "312c214b",
   "metadata": {},
   "outputs": [
    {
     "name": "stdout",
     "output_type": "stream",
     "text": [
      "yes\n"
     ]
    }
   ],
   "source": [
    "if 'elf' in s7:\n",
    "    print('yes')\n",
    "else:\n",
    "    print('no')"
   ]
  },
  {
   "cell_type": "code",
   "execution_count": 451,
   "id": "50a9e561",
   "metadata": {},
   "outputs": [
    {
     "data": {
      "text/plain": [
       "{'eight', 'elf', 'five', 'four', 'neun', 'one', 'seven', 'six', 'three', 'two'}"
      ]
     },
     "execution_count": 451,
     "metadata": {},
     "output_type": "execute_result"
    }
   ],
   "source": [
    "s7.add('neun')\n",
    "s7"
   ]
  },
  {
   "cell_type": "code",
   "execution_count": 452,
   "id": "0d545977",
   "metadata": {},
   "outputs": [
    {
     "data": {
      "text/plain": [
       "{'eight', 'elf', 'five', 'four', 'neun', 'one', 'seven', 'six', 'three', 'two'}"
      ]
     },
     "execution_count": 452,
     "metadata": {},
     "output_type": "execute_result"
    }
   ],
   "source": [
    "te"
   ]
  },
  {
   "cell_type": "code",
   "execution_count": 453,
   "id": "033f02c7",
   "metadata": {},
   "outputs": [],
   "source": [
    "de=te"
   ]
  },
  {
   "cell_type": "code",
   "execution_count": 454,
   "id": "24fc6b26",
   "metadata": {},
   "outputs": [
    {
     "data": {
      "text/plain": [
       "{'eight', 'elf', 'five', 'four', 'neun', 'one', 'seven', 'six', 'three', 'two'}"
      ]
     },
     "execution_count": 454,
     "metadata": {},
     "output_type": "execute_result"
    }
   ],
   "source": [
    "de"
   ]
  },
  {
   "cell_type": "code",
   "execution_count": 455,
   "id": "9ccda87f",
   "metadata": {},
   "outputs": [
    {
     "data": {
      "text/plain": [
       "(2680696106208, 2680696106208)"
      ]
     },
     "execution_count": 455,
     "metadata": {},
     "output_type": "execute_result"
    }
   ],
   "source": [
    "id(de),id(te)"
   ]
  },
  {
   "cell_type": "code",
   "execution_count": 456,
   "id": "e146c02f",
   "metadata": {},
   "outputs": [
    {
     "name": "stdout",
     "output_type": "stream",
     "text": [
      "2680696106208\n"
     ]
    },
    {
     "data": {
      "text/plain": [
       "{'aaa',\n",
       " 'eight',\n",
       " 'elf',\n",
       " 'five',\n",
       " 'four',\n",
       " 'neun',\n",
       " 'one',\n",
       " 'seven',\n",
       " 'six',\n",
       " 'three',\n",
       " 'two'}"
      ]
     },
     "execution_count": 456,
     "metadata": {},
     "output_type": "execute_result"
    }
   ],
   "source": [
    "de.add('aaa')\n",
    "print(id(de))\n",
    "de"
   ]
  },
  {
   "cell_type": "code",
   "execution_count": 457,
   "id": "f8290987",
   "metadata": {},
   "outputs": [
    {
     "name": "stdout",
     "output_type": "stream",
     "text": [
      "2680696106208\n"
     ]
    }
   ],
   "source": [
    "print(id(te))"
   ]
  },
  {
   "cell_type": "code",
   "execution_count": 458,
   "id": "1fae0d36",
   "metadata": {},
   "outputs": [
    {
     "data": {
      "text/plain": [
       "{'aaa',\n",
       " 'eight',\n",
       " 'elf',\n",
       " 'five',\n",
       " 'four',\n",
       " 'neun',\n",
       " 'one',\n",
       " 'seven',\n",
       " 'six',\n",
       " 'three',\n",
       " 'two'}"
      ]
     },
     "execution_count": 458,
     "metadata": {},
     "output_type": "execute_result"
    }
   ],
   "source": [
    "te"
   ]
  },
  {
   "cell_type": "code",
   "execution_count": 459,
   "id": "ad4effac",
   "metadata": {},
   "outputs": [
    {
     "name": "stdout",
     "output_type": "stream",
     "text": [
      "2680696106432\n"
     ]
    }
   ],
   "source": [
    "ge=te.copy()\n",
    "print(id(ge))"
   ]
  },
  {
   "cell_type": "code",
   "execution_count": 460,
   "id": "c81ffb9c",
   "metadata": {},
   "outputs": [
    {
     "data": {
      "text/plain": [
       "{'aaa',\n",
       " 'bbb',\n",
       " 'eight',\n",
       " 'elf',\n",
       " 'five',\n",
       " 'four',\n",
       " 'neun',\n",
       " 'one',\n",
       " 'seven',\n",
       " 'six',\n",
       " 'three',\n",
       " 'two'}"
      ]
     },
     "execution_count": 460,
     "metadata": {},
     "output_type": "execute_result"
    }
   ],
   "source": [
    "te.add('bbb')\n",
    "te"
   ]
  },
  {
   "cell_type": "code",
   "execution_count": 461,
   "id": "229d7a6d",
   "metadata": {},
   "outputs": [
    {
     "data": {
      "text/plain": [
       "{'aaa',\n",
       " 'bbb',\n",
       " 'eight',\n",
       " 'elf',\n",
       " 'five',\n",
       " 'four',\n",
       " 'neun',\n",
       " 'one',\n",
       " 'seven',\n",
       " 'six',\n",
       " 'three',\n",
       " 'two'}"
      ]
     },
     "execution_count": 461,
     "metadata": {},
     "output_type": "execute_result"
    }
   ],
   "source": [
    "de"
   ]
  },
  {
   "cell_type": "code",
   "execution_count": 462,
   "id": "882f902f",
   "metadata": {},
   "outputs": [
    {
     "data": {
      "text/plain": [
       "{'aaa',\n",
       " 'eight',\n",
       " 'elf',\n",
       " 'five',\n",
       " 'four',\n",
       " 'herr',\n",
       " 'neun',\n",
       " 'one',\n",
       " 'seven',\n",
       " 'six',\n",
       " 'three',\n",
       " 'two'}"
      ]
     },
     "execution_count": 462,
     "metadata": {},
     "output_type": "execute_result"
    }
   ],
   "source": [
    "ge.add('herr')\n",
    "ge"
   ]
  },
  {
   "cell_type": "markdown",
   "id": "61fe687d",
   "metadata": {},
   "source": [
    "Union\n"
   ]
  },
  {
   "cell_type": "code",
   "execution_count": 463,
   "id": "68847d61",
   "metadata": {},
   "outputs": [],
   "source": [
    "a={1,2,3,4,5,6}\n",
    "b={4,5,6,7,8,9}\n",
    "c={7,8,9,10}"
   ]
  },
  {
   "cell_type": "code",
   "execution_count": 464,
   "id": "c7600ee6",
   "metadata": {},
   "outputs": [
    {
     "data": {
      "text/plain": [
       "{1, 2, 3, 4, 5, 6, 7, 8, 9}"
      ]
     },
     "execution_count": 464,
     "metadata": {},
     "output_type": "execute_result"
    }
   ],
   "source": [
    "a|b # Union of A and B (All elements from both sets. NO DUPLICATES)"
   ]
  },
  {
   "cell_type": "code",
   "execution_count": 465,
   "id": "72840006",
   "metadata": {},
   "outputs": [
    {
     "data": {
      "text/plain": [
       "{1, 2, 3, 4, 5, 6, 7, 8, 9}"
      ]
     },
     "execution_count": 465,
     "metadata": {},
     "output_type": "execute_result"
    }
   ],
   "source": [
    "a.union(b) # Union of A and B"
   ]
  },
  {
   "cell_type": "code",
   "execution_count": 466,
   "id": "616466da",
   "metadata": {},
   "outputs": [
    {
     "data": {
      "text/plain": [
       "{1, 2, 3, 4, 5, 6, 7, 8, 9, 10}"
      ]
     },
     "execution_count": 466,
     "metadata": {},
     "output_type": "execute_result"
    }
   ],
   "source": [
    "a.union(b,c)"
   ]
  },
  {
   "cell_type": "code",
   "execution_count": 467,
   "id": "aa87e3cc",
   "metadata": {},
   "outputs": [],
   "source": [
    "a.update(b,c)"
   ]
  },
  {
   "cell_type": "code",
   "execution_count": 468,
   "id": "f15b8ac4",
   "metadata": {},
   "outputs": [
    {
     "data": {
      "text/plain": [
       "{1, 2, 3, 4, 5, 6, 7, 8, 9, 10}"
      ]
     },
     "execution_count": 468,
     "metadata": {},
     "output_type": "execute_result"
    }
   ],
   "source": [
    "a"
   ]
  },
  {
   "cell_type": "code",
   "execution_count": 469,
   "id": "99cf7054",
   "metadata": {},
   "outputs": [
    {
     "data": {
      "text/plain": [
       "{4, 5, 6, 7, 8, 9}"
      ]
     },
     "execution_count": 469,
     "metadata": {},
     "output_type": "execute_result"
    }
   ],
   "source": [
    "b"
   ]
  },
  {
   "cell_type": "code",
   "execution_count": 470,
   "id": "d109f8b5",
   "metadata": {},
   "outputs": [
    {
     "data": {
      "text/plain": [
       "{4, 5, 6, 7, 8, 9}"
      ]
     },
     "execution_count": 470,
     "metadata": {},
     "output_type": "execute_result"
    }
   ],
   "source": [
    "a & b"
   ]
  },
  {
   "cell_type": "code",
   "execution_count": 471,
   "id": "08bcc52f",
   "metadata": {},
   "outputs": [],
   "source": [
    "a={1,2,3,4,5,6}\n",
    "b={4,5,6,7,8,9}\n",
    "c={7,8,9,10}"
   ]
  },
  {
   "cell_type": "code",
   "execution_count": 472,
   "id": "9dec69c5",
   "metadata": {},
   "outputs": [
    {
     "data": {
      "text/plain": [
       "{4, 5, 6}"
      ]
     },
     "execution_count": 472,
     "metadata": {},
     "output_type": "execute_result"
    }
   ],
   "source": [
    "a&b"
   ]
  },
  {
   "cell_type": "code",
   "execution_count": 473,
   "id": "5ecc2124",
   "metadata": {},
   "outputs": [
    {
     "data": {
      "text/plain": [
       "{4, 5, 6}"
      ]
     },
     "execution_count": 473,
     "metadata": {},
     "output_type": "execute_result"
    }
   ],
   "source": [
    "a.intersection(b)"
   ]
  },
  {
   "cell_type": "code",
   "execution_count": 474,
   "id": "d7c5e78b",
   "metadata": {},
   "outputs": [
    {
     "data": {
      "text/plain": [
       "({1, 2, 3, 4, 5, 6}, {4, 5, 6, 7, 8, 9}, {7, 8, 9, 10})"
      ]
     },
     "execution_count": 474,
     "metadata": {},
     "output_type": "execute_result"
    }
   ],
   "source": [
    "a,b,c"
   ]
  },
  {
   "cell_type": "code",
   "execution_count": 475,
   "id": "56c5b545",
   "metadata": {},
   "outputs": [
    {
     "data": {
      "text/plain": [
       "{4, 5, 6}"
      ]
     },
     "execution_count": 475,
     "metadata": {},
     "output_type": "execute_result"
    }
   ],
   "source": [
    "a.intersection_update(b)\n",
    "a"
   ]
  },
  {
   "cell_type": "code",
   "execution_count": 476,
   "id": "66d74710",
   "metadata": {},
   "outputs": [],
   "source": [
    "a={1,2,3,4,5,6}"
   ]
  },
  {
   "cell_type": "code",
   "execution_count": 477,
   "id": "127ddcdf",
   "metadata": {},
   "outputs": [
    {
     "data": {
      "text/plain": [
       "({1, 2, 3, 4, 5, 6}, {4, 5, 6, 7, 8, 9}, {7, 8, 9, 10})"
      ]
     },
     "execution_count": 477,
     "metadata": {},
     "output_type": "execute_result"
    }
   ],
   "source": [
    "a,b,c"
   ]
  },
  {
   "cell_type": "code",
   "execution_count": 478,
   "id": "bf8c0a58",
   "metadata": {},
   "outputs": [
    {
     "data": {
      "text/plain": [
       "{4, 5, 6}"
      ]
     },
     "execution_count": 478,
     "metadata": {},
     "output_type": "execute_result"
    }
   ],
   "source": [
    "b-c  # set of elements that are only in b but not in c"
   ]
  },
  {
   "cell_type": "code",
   "execution_count": 479,
   "id": "43ac514e",
   "metadata": {},
   "outputs": [
    {
     "data": {
      "text/plain": [
       "({4, 5, 6, 7, 8, 9}, {7, 8, 9, 10})"
      ]
     },
     "execution_count": 479,
     "metadata": {},
     "output_type": "execute_result"
    }
   ],
   "source": [
    "b,c"
   ]
  },
  {
   "cell_type": "code",
   "execution_count": 480,
   "id": "cf952310",
   "metadata": {},
   "outputs": [
    {
     "data": {
      "text/plain": [
       "{4, 5, 6}"
      ]
     },
     "execution_count": 480,
     "metadata": {},
     "output_type": "execute_result"
    }
   ],
   "source": [
    "b.difference(c)"
   ]
  },
  {
   "cell_type": "code",
   "execution_count": 481,
   "id": "d6a5b1dd",
   "metadata": {},
   "outputs": [
    {
     "data": {
      "text/plain": [
       "{10}"
      ]
     },
     "execution_count": 481,
     "metadata": {},
     "output_type": "execute_result"
    }
   ],
   "source": [
    "c.difference(b)"
   ]
  },
  {
   "cell_type": "code",
   "execution_count": 482,
   "id": "34f3edef",
   "metadata": {},
   "outputs": [
    {
     "data": {
      "text/plain": [
       "({1, 2, 3, 4, 5, 6}, {4, 5, 6, 7, 8, 9}, {7, 8, 9, 10})"
      ]
     },
     "execution_count": 482,
     "metadata": {},
     "output_type": "execute_result"
    }
   ],
   "source": [
    "a,b,c"
   ]
  },
  {
   "cell_type": "code",
   "execution_count": 483,
   "id": "cb30b9f3",
   "metadata": {},
   "outputs": [
    {
     "data": {
      "text/plain": [
       "{1, 2, 3}"
      ]
     },
     "execution_count": 483,
     "metadata": {},
     "output_type": "execute_result"
    }
   ],
   "source": [
    "a.difference_update(b)\n",
    "a"
   ]
  },
  {
   "cell_type": "code",
   "execution_count": 484,
   "id": "891355e9",
   "metadata": {},
   "outputs": [
    {
     "data": {
      "text/plain": [
       "({1, 2, 3}, {4, 5, 6, 7, 8, 9}, {7, 8, 9, 10})"
      ]
     },
     "execution_count": 484,
     "metadata": {},
     "output_type": "execute_result"
    }
   ],
   "source": [
    "a,b,c"
   ]
  },
  {
   "cell_type": "code",
   "execution_count": 485,
   "id": "6b1db57f",
   "metadata": {},
   "outputs": [
    {
     "data": {
      "text/plain": [
       "{1, 2, 3, 4, 5, 6, 7, 8, 9}"
      ]
     },
     "execution_count": 485,
     "metadata": {},
     "output_type": "execute_result"
    }
   ],
   "source": [
    "a|b"
   ]
  },
  {
   "cell_type": "code",
   "execution_count": 486,
   "id": "7e9d4825",
   "metadata": {},
   "outputs": [],
   "source": [
    "a={1,2,3,4,5,6}"
   ]
  },
  {
   "cell_type": "code",
   "execution_count": 487,
   "id": "9d79afa5",
   "metadata": {},
   "outputs": [
    {
     "data": {
      "text/plain": [
       "({1, 2, 3, 4, 5, 6}, {4, 5, 6, 7, 8, 9}, {7, 8, 9, 10})"
      ]
     },
     "execution_count": 487,
     "metadata": {},
     "output_type": "execute_result"
    }
   ],
   "source": [
    "a,b,c"
   ]
  },
  {
   "cell_type": "code",
   "execution_count": 488,
   "id": "0d0bae4c",
   "metadata": {},
   "outputs": [
    {
     "data": {
      "text/plain": [
       "{1, 2, 3, 7, 8, 9}"
      ]
     },
     "execution_count": 488,
     "metadata": {},
     "output_type": "execute_result"
    }
   ],
   "source": [
    "a^b #Set of elements in A and B but not in both."
   ]
  },
  {
   "cell_type": "code",
   "execution_count": 489,
   "id": "ed72a59e",
   "metadata": {},
   "outputs": [
    {
     "data": {
      "text/plain": [
       "{1, 2, 3, 4, 5, 6, 7, 8, 9, 10}"
      ]
     },
     "execution_count": 489,
     "metadata": {},
     "output_type": "execute_result"
    }
   ],
   "source": [
    "a.symmetric_difference(c)"
   ]
  },
  {
   "cell_type": "code",
   "execution_count": 490,
   "id": "34ad29bf",
   "metadata": {},
   "outputs": [
    {
     "data": {
      "text/plain": [
       "{1, 2, 3, 7, 8, 9}"
      ]
     },
     "execution_count": 490,
     "metadata": {},
     "output_type": "execute_result"
    }
   ],
   "source": [
    "a.symmetric_difference(b)"
   ]
  },
  {
   "cell_type": "code",
   "execution_count": 491,
   "id": "16e99270",
   "metadata": {},
   "outputs": [],
   "source": [
    "a={1, 2, 3, 4, 5, 6, 7, 8, 9}\n",
    "b={3,4,5,6,7,8}\n",
    "c={10,20,30,40}"
   ]
  },
  {
   "cell_type": "code",
   "execution_count": 492,
   "id": "38792030",
   "metadata": {},
   "outputs": [
    {
     "data": {
      "text/plain": [
       "True"
      ]
     },
     "execution_count": 492,
     "metadata": {},
     "output_type": "execute_result"
    }
   ],
   "source": [
    "a.issuperset(b)"
   ]
  },
  {
   "cell_type": "code",
   "execution_count": 493,
   "id": "2bcf8ec8",
   "metadata": {},
   "outputs": [
    {
     "data": {
      "text/plain": [
       "True"
      ]
     },
     "execution_count": 493,
     "metadata": {},
     "output_type": "execute_result"
    }
   ],
   "source": [
    "a.isdisjoint(c)"
   ]
  },
  {
   "cell_type": "code",
   "execution_count": 494,
   "id": "d38b222d",
   "metadata": {},
   "outputs": [
    {
     "data": {
      "text/plain": [
       "True"
      ]
     },
     "execution_count": 494,
     "metadata": {},
     "output_type": "execute_result"
    }
   ],
   "source": [
    "b.issubset(a)"
   ]
  },
  {
   "cell_type": "code",
   "execution_count": 495,
   "id": "3540481d",
   "metadata": {},
   "outputs": [
    {
     "data": {
      "text/plain": [
       "False"
      ]
     },
     "execution_count": 495,
     "metadata": {},
     "output_type": "execute_result"
    }
   ],
   "source": [
    "c.issuperset(a)"
   ]
  },
  {
   "cell_type": "code",
   "execution_count": 496,
   "id": "fa7ed4ef",
   "metadata": {},
   "outputs": [
    {
     "data": {
      "text/plain": [
       "{1, 2, 3, 4, 5, 6, 7, 8, 9}"
      ]
     },
     "execution_count": 496,
     "metadata": {},
     "output_type": "execute_result"
    }
   ],
   "source": [
    "a"
   ]
  },
  {
   "cell_type": "code",
   "execution_count": 497,
   "id": "ed30f892",
   "metadata": {},
   "outputs": [
    {
     "data": {
      "text/plain": [
       "45"
      ]
     },
     "execution_count": 497,
     "metadata": {},
     "output_type": "execute_result"
    }
   ],
   "source": [
    "sum(a)"
   ]
  },
  {
   "cell_type": "code",
   "execution_count": 498,
   "id": "776cefb6",
   "metadata": {},
   "outputs": [
    {
     "data": {
      "text/plain": [
       "1"
      ]
     },
     "execution_count": 498,
     "metadata": {},
     "output_type": "execute_result"
    }
   ],
   "source": [
    "min(a)"
   ]
  },
  {
   "cell_type": "code",
   "execution_count": 499,
   "id": "c3a62671",
   "metadata": {},
   "outputs": [
    {
     "data": {
      "text/plain": [
       "9"
      ]
     },
     "execution_count": 499,
     "metadata": {},
     "output_type": "execute_result"
    }
   ],
   "source": [
    "max(a)"
   ]
  },
  {
   "cell_type": "code",
   "execution_count": 500,
   "id": "b4d2c0af",
   "metadata": {},
   "outputs": [
    {
     "data": {
      "text/plain": [
       "9"
      ]
     },
     "execution_count": 500,
     "metadata": {},
     "output_type": "execute_result"
    }
   ],
   "source": [
    "len(a)"
   ]
  },
  {
   "cell_type": "code",
   "execution_count": 501,
   "id": "ab21860e",
   "metadata": {},
   "outputs": [
    {
     "ename": "TypeError",
     "evalue": "'list' object is not callable",
     "output_type": "error",
     "traceback": [
      "\u001b[1;31m---------------------------------------------------------------------------\u001b[0m",
      "\u001b[1;31mTypeError\u001b[0m                                 Traceback (most recent call last)",
      "Cell \u001b[1;32mIn[501], line 1\u001b[0m\n\u001b[1;32m----> 1\u001b[0m \u001b[38;5;28;43mlist\u001b[39;49m\u001b[43m(\u001b[49m\u001b[38;5;28;43menumerate\u001b[39;49m\u001b[43m(\u001b[49m\u001b[43ma\u001b[49m\u001b[43m)\u001b[49m\u001b[43m)\u001b[49m\n",
      "\u001b[1;31mTypeError\u001b[0m: 'list' object is not callable"
     ]
    }
   ],
   "source": [
    "list(enumerate(a))"
   ]
  },
  {
   "cell_type": "code",
   "execution_count": 502,
   "id": "25de8b0c",
   "metadata": {},
   "outputs": [],
   "source": [
    "d=sorted(a,reverse=True)"
   ]
  },
  {
   "cell_type": "code",
   "execution_count": 503,
   "id": "97a19268",
   "metadata": {},
   "outputs": [
    {
     "data": {
      "text/plain": [
       "[9, 8, 7, 6, 5, 4, 3, 2, 1]"
      ]
     },
     "execution_count": 503,
     "metadata": {},
     "output_type": "execute_result"
    }
   ],
   "source": [
    "d"
   ]
  },
  {
   "cell_type": "code",
   "execution_count": 504,
   "id": "0ea5f2d4",
   "metadata": {},
   "outputs": [
    {
     "data": {
      "text/plain": [
       "[1, 2, 3, 4, 5, 6, 7, 8, 9]"
      ]
     },
     "execution_count": 504,
     "metadata": {},
     "output_type": "execute_result"
    }
   ],
   "source": [
    "sorted(d)"
   ]
  },
  {
   "cell_type": "markdown",
   "id": "a909db87",
   "metadata": {},
   "source": [
    "### DICTIONARY"
   ]
  },
  {
   "cell_type": "code",
   "execution_count": 505,
   "id": "ea9120c6",
   "metadata": {},
   "outputs": [
    {
     "ename": "TypeError",
     "evalue": "'dict' object is not callable",
     "output_type": "error",
     "traceback": [
      "\u001b[1;31m---------------------------------------------------------------------------\u001b[0m",
      "\u001b[1;31mTypeError\u001b[0m                                 Traceback (most recent call last)",
      "Cell \u001b[1;32mIn[505], line 1\u001b[0m\n\u001b[1;32m----> 1\u001b[0m mydict \u001b[38;5;241m=\u001b[39m \u001b[38;5;28;43mdict\u001b[39;49m\u001b[43m(\u001b[49m\u001b[43m)\u001b[49m  \u001b[38;5;66;03m# empty dictionary\u001b[39;00m\n\u001b[0;32m      2\u001b[0m mydict\n",
      "\u001b[1;31mTypeError\u001b[0m: 'dict' object is not callable"
     ]
    }
   ],
   "source": [
    "mydict = dict()  # empty dictionary\n",
    "mydict"
   ]
  },
  {
   "cell_type": "code",
   "execution_count": 506,
   "id": "c6b22154",
   "metadata": {},
   "outputs": [
    {
     "data": {
      "text/plain": [
       "{}"
      ]
     },
     "execution_count": 506,
     "metadata": {},
     "output_type": "execute_result"
    }
   ],
   "source": [
    "mydict={}  # empty dictionary\n",
    "mydict"
   ]
  },
  {
   "cell_type": "code",
   "execution_count": 507,
   "id": "96b51b7b",
   "metadata": {},
   "outputs": [
    {
     "data": {
      "text/plain": [
       "{100: 'hundert', 200: 'zweihundert', 300: 'dreihundert'}"
      ]
     },
     "execution_count": 507,
     "metadata": {},
     "output_type": "execute_result"
    }
   ],
   "source": [
    "d={100:'hundert',200:'zweihundert',300:'dreihundert'}\n",
    "d"
   ]
  },
  {
   "cell_type": "code",
   "execution_count": 508,
   "id": "784a6424",
   "metadata": {},
   "outputs": [
    {
     "data": {
      "text/plain": [
       "dict"
      ]
     },
     "execution_count": 508,
     "metadata": {},
     "output_type": "execute_result"
    }
   ],
   "source": [
    "type(d)"
   ]
  },
  {
   "cell_type": "code",
   "execution_count": 509,
   "id": "c2a4ae3c",
   "metadata": {},
   "outputs": [
    {
     "ename": "NameError",
     "evalue": "name 'd1' is not defined",
     "output_type": "error",
     "traceback": [
      "\u001b[1;31m---------------------------------------------------------------------------\u001b[0m",
      "\u001b[1;31mNameError\u001b[0m                                 Traceback (most recent call last)",
      "Cell \u001b[1;32mIn[509], line 1\u001b[0m\n\u001b[1;32m----> 1\u001b[0m \u001b[43md1\u001b[49m\n",
      "\u001b[1;31mNameError\u001b[0m: name 'd1' is not defined"
     ]
    }
   ],
   "source": [
    "d1"
   ]
  },
  {
   "cell_type": "code",
   "execution_count": 510,
   "id": "ca279200",
   "metadata": {},
   "outputs": [
    {
     "ename": "NameError",
     "evalue": "name 'd1' is not defined",
     "output_type": "error",
     "traceback": [
      "\u001b[1;31m---------------------------------------------------------------------------\u001b[0m",
      "\u001b[1;31mNameError\u001b[0m                                 Traceback (most recent call last)",
      "Cell \u001b[1;32mIn[510], line 1\u001b[0m\n\u001b[1;32m----> 1\u001b[0m \u001b[38;5;28mprint\u001b[39m(\u001b[43md1\u001b[49m)\n\u001b[0;32m      2\u001b[0m \u001b[38;5;28mtype\u001b[39m(d1)\n",
      "\u001b[1;31mNameError\u001b[0m: name 'd1' is not defined"
     ]
    }
   ],
   "source": [
    "print(d1)\n",
    "type(d1)"
   ]
  },
  {
   "cell_type": "code",
   "execution_count": 511,
   "id": "3351d632",
   "metadata": {},
   "outputs": [
    {
     "data": {
      "text/plain": [
       "set()"
      ]
     },
     "execution_count": 511,
     "metadata": {},
     "output_type": "execute_result"
    }
   ],
   "source": [
    "# i created empty dict\n",
    "s=set()\n",
    "s"
   ]
  },
  {
   "cell_type": "code",
   "execution_count": 512,
   "id": "657ce388",
   "metadata": {},
   "outputs": [
    {
     "data": {
      "text/plain": [
       "set"
      ]
     },
     "execution_count": 512,
     "metadata": {},
     "output_type": "execute_result"
    }
   ],
   "source": [
    "type(s)"
   ]
  },
  {
   "cell_type": "code",
   "execution_count": 513,
   "id": "6ed49f82",
   "metadata": {},
   "outputs": [],
   "source": [
    "d1={}"
   ]
  },
  {
   "cell_type": "code",
   "execution_count": 514,
   "id": "fdd5c718",
   "metadata": {},
   "outputs": [
    {
     "data": {
      "text/plain": [
       "dict"
      ]
     },
     "execution_count": 514,
     "metadata": {},
     "output_type": "execute_result"
    }
   ],
   "source": [
    "type(d1)"
   ]
  },
  {
   "cell_type": "code",
   "execution_count": 515,
   "id": "55ca7cf5",
   "metadata": {},
   "outputs": [
    {
     "data": {
      "text/plain": [
       "{100: 'nit'}"
      ]
     },
     "execution_count": 515,
     "metadata": {},
     "output_type": "execute_result"
    }
   ],
   "source": [
    "d1[100]='nit'\n",
    "d1"
   ]
  },
  {
   "cell_type": "code",
   "execution_count": 516,
   "id": "e9c56a34",
   "metadata": {},
   "outputs": [],
   "source": [
    "d1[200]='max'"
   ]
  },
  {
   "cell_type": "code",
   "execution_count": 517,
   "id": "647c01c9",
   "metadata": {},
   "outputs": [],
   "source": [
    "d1[10+99j]=99"
   ]
  },
  {
   "cell_type": "code",
   "execution_count": 518,
   "id": "9dfd3036",
   "metadata": {},
   "outputs": [],
   "source": [
    "d1[(21,22)]=(19.5,33.6)"
   ]
  },
  {
   "cell_type": "code",
   "execution_count": 519,
   "id": "891bf396",
   "metadata": {},
   "outputs": [],
   "source": [
    "d1['kik']='rt'"
   ]
  },
  {
   "cell_type": "code",
   "execution_count": 520,
   "id": "6f740a8a",
   "metadata": {},
   "outputs": [],
   "source": [
    "d1[22,55]='age','alt'"
   ]
  },
  {
   "cell_type": "code",
   "execution_count": 521,
   "id": "078cec7b",
   "metadata": {},
   "outputs": [],
   "source": [
    "d1['ja']='nein'"
   ]
  },
  {
   "cell_type": "code",
   "execution_count": 522,
   "id": "3381953f",
   "metadata": {},
   "outputs": [
    {
     "data": {
      "text/plain": [
       "{100: 'nit',\n",
       " 200: 'max',\n",
       " (10+99j): 99,\n",
       " (21, 22): (19.5, 33.6),\n",
       " 'kik': 'rt',\n",
       " (22, 55): ('age', 'alt'),\n",
       " 'ja': 'nein'}"
      ]
     },
     "execution_count": 522,
     "metadata": {},
     "output_type": "execute_result"
    }
   ],
   "source": [
    "d1"
   ]
  },
  {
   "cell_type": "code",
   "execution_count": 523,
   "id": "23c24dca",
   "metadata": {},
   "outputs": [
    {
     "data": {
      "text/plain": [
       "7"
      ]
     },
     "execution_count": 523,
     "metadata": {},
     "output_type": "execute_result"
    }
   ],
   "source": [
    "len(d1)"
   ]
  },
  {
   "cell_type": "code",
   "execution_count": 524,
   "id": "ac3c4655",
   "metadata": {},
   "outputs": [
    {
     "data": {
      "text/plain": [
       "{100: 'nit',\n",
       " 200: 'max',\n",
       " (10+99j): 99,\n",
       " (21, 22): (19.5, 33.6),\n",
       " 'kik': 'rt',\n",
       " (22, 55): ('age', 'alt'),\n",
       " 'ja': 'nein',\n",
       " 'l': ([10, 20], 34)}"
      ]
     },
     "execution_count": 524,
     "metadata": {},
     "output_type": "execute_result"
    }
   ],
   "source": [
    "d1['l']=[10,20],34\n",
    "d1"
   ]
  },
  {
   "cell_type": "code",
   "execution_count": 525,
   "id": "2837804d",
   "metadata": {},
   "outputs": [],
   "source": [
    "del d1['l']"
   ]
  },
  {
   "cell_type": "code",
   "execution_count": 526,
   "id": "54e0fa59",
   "metadata": {},
   "outputs": [
    {
     "data": {
      "text/plain": [
       "{100: 'nit',\n",
       " 200: 'max',\n",
       " (10+99j): 99,\n",
       " (21, 22): (19.5, 33.6),\n",
       " 'kik': 'rt',\n",
       " (22, 55): ('age', 'alt'),\n",
       " 'ja': 'nein'}"
      ]
     },
     "execution_count": 526,
     "metadata": {},
     "output_type": "execute_result"
    }
   ],
   "source": [
    "d1"
   ]
  },
  {
   "cell_type": "code",
   "execution_count": 527,
   "id": "e5c6c21c",
   "metadata": {},
   "outputs": [
    {
     "data": {
      "text/plain": [
       "{100: 'nit',\n",
       " 200: 'max',\n",
       " (10+99j): 99,\n",
       " (21, 22): (19.5, 33.6),\n",
       " (22, 55): ('age', 'alt'),\n",
       " 'ja': 'nein'}"
      ]
     },
     "execution_count": 527,
     "metadata": {},
     "output_type": "execute_result"
    }
   ],
   "source": [
    "del d1['kik']\n",
    "d1"
   ]
  },
  {
   "cell_type": "code",
   "execution_count": 528,
   "id": "7c64d3e1",
   "metadata": {},
   "outputs": [],
   "source": [
    "    del d1[200]"
   ]
  },
  {
   "cell_type": "code",
   "execution_count": 529,
   "id": "65bb995f",
   "metadata": {},
   "outputs": [
    {
     "data": {
      "text/plain": [
       "{100: 'nit',\n",
       " (10+99j): 99,\n",
       " (21, 22): (19.5, 33.6),\n",
       " (22, 55): ('age', 'alt'),\n",
       " 'ja': 'nein'}"
      ]
     },
     "execution_count": 529,
     "metadata": {},
     "output_type": "execute_result"
    }
   ],
   "source": [
    "d1"
   ]
  },
  {
   "cell_type": "code",
   "execution_count": 530,
   "id": "4bc59899",
   "metadata": {},
   "outputs": [
    {
     "data": {
      "text/plain": [
       "dict"
      ]
     },
     "execution_count": 530,
     "metadata": {},
     "output_type": "execute_result"
    }
   ],
   "source": [
    "d2={}\n",
    "type(d2)"
   ]
  },
  {
   "cell_type": "code",
   "execution_count": 531,
   "id": "2308ad74",
   "metadata": {},
   "outputs": [
    {
     "ename": "TypeError",
     "evalue": "'dict' object is not callable",
     "output_type": "error",
     "traceback": [
      "\u001b[1;31m---------------------------------------------------------------------------\u001b[0m",
      "\u001b[1;31mTypeError\u001b[0m                                 Traceback (most recent call last)",
      "Cell \u001b[1;32mIn[531], line 1\u001b[0m\n\u001b[1;32m----> 1\u001b[0m d3\u001b[38;5;241m=\u001b[39m\u001b[38;5;28;43mdict\u001b[39;49m\u001b[43m(\u001b[49m\u001b[43m)\u001b[49m\n\u001b[0;32m      2\u001b[0m \u001b[38;5;28mtype\u001b[39m(d3)\n",
      "\u001b[1;31mTypeError\u001b[0m: 'dict' object is not callable"
     ]
    }
   ],
   "source": [
    "d3=dict()\n",
    "type(d3)"
   ]
  },
  {
   "cell_type": "code",
   "execution_count": 532,
   "id": "2cc478c8",
   "metadata": {},
   "outputs": [
    {
     "data": {
      "text/plain": [
       "dict_keys([100, (10+99j), (21, 22), (22, 55), 'ja'])"
      ]
     },
     "execution_count": 532,
     "metadata": {},
     "output_type": "execute_result"
    }
   ],
   "source": [
    "d1.keys()"
   ]
  },
  {
   "cell_type": "code",
   "execution_count": 533,
   "id": "cf5d6790",
   "metadata": {},
   "outputs": [
    {
     "data": {
      "text/plain": [
       "dict_values(['nit', 99, (19.5, 33.6), ('age', 'alt'), 'nein'])"
      ]
     },
     "execution_count": 533,
     "metadata": {},
     "output_type": "execute_result"
    }
   ],
   "source": [
    "d1.values()"
   ]
  },
  {
   "cell_type": "code",
   "execution_count": 534,
   "id": "7813e7f6",
   "metadata": {},
   "outputs": [
    {
     "data": {
      "text/plain": [
       "'nein'"
      ]
     },
     "execution_count": 534,
     "metadata": {},
     "output_type": "execute_result"
    }
   ],
   "source": [
    "d1.pop('ja')"
   ]
  },
  {
   "cell_type": "code",
   "execution_count": 535,
   "id": "edbb3c60",
   "metadata": {},
   "outputs": [
    {
     "data": {
      "text/plain": [
       "{100: 'nit', (10+99j): 99, (21, 22): (19.5, 33.6), (22, 55): ('age', 'alt')}"
      ]
     },
     "execution_count": 535,
     "metadata": {},
     "output_type": "execute_result"
    }
   ],
   "source": [
    "d1"
   ]
  },
  {
   "cell_type": "code",
   "execution_count": 536,
   "id": "0ecf7077",
   "metadata": {},
   "outputs": [
    {
     "data": {
      "text/plain": [
       "{'a': 'alt', 'g': 'alt', 'e': 'alt'}"
      ]
     },
     "execution_count": 536,
     "metadata": {},
     "output_type": "execute_result"
    }
   ],
   "source": [
    "d1.fromkeys('age','alt')"
   ]
  },
  {
   "cell_type": "code",
   "execution_count": 537,
   "id": "6399e7cc",
   "metadata": {},
   "outputs": [
    {
     "data": {
      "text/plain": [
       "55"
      ]
     },
     "execution_count": 537,
     "metadata": {},
     "output_type": "execute_result"
    }
   ],
   "source": [
    "d1.get(22,55)"
   ]
  },
  {
   "cell_type": "code",
   "execution_count": 538,
   "id": "4dcb9c87",
   "metadata": {},
   "outputs": [
    {
     "data": {
      "text/plain": [
       "{100: 'nit', (10+99j): 99, (21, 22): (19.5, 33.6), (22, 55): ('age', 'alt')}"
      ]
     },
     "execution_count": 538,
     "metadata": {},
     "output_type": "execute_result"
    }
   ],
   "source": [
    "d1"
   ]
  },
  {
   "cell_type": "code",
   "execution_count": 539,
   "id": "55389154",
   "metadata": {},
   "outputs": [],
   "source": [
    "d1['kg']=80"
   ]
  },
  {
   "cell_type": "code",
   "execution_count": 540,
   "id": "fbbe6c8c",
   "metadata": {},
   "outputs": [
    {
     "data": {
      "text/plain": [
       "{100: 'nit',\n",
       " (10+99j): 99,\n",
       " (21, 22): (19.5, 33.6),\n",
       " (22, 55): ('age', 'alt'),\n",
       " 'kg': 80}"
      ]
     },
     "execution_count": 540,
     "metadata": {},
     "output_type": "execute_result"
    }
   ],
   "source": [
    "d1"
   ]
  },
  {
   "cell_type": "code",
   "execution_count": 541,
   "id": "7b40f8ac",
   "metadata": {},
   "outputs": [
    {
     "data": {
      "text/plain": [
       "80"
      ]
     },
     "execution_count": 541,
     "metadata": {},
     "output_type": "execute_result"
    }
   ],
   "source": [
    "d1.get('kg')"
   ]
  },
  {
   "cell_type": "code",
   "execution_count": 542,
   "id": "d991346d",
   "metadata": {},
   "outputs": [
    {
     "data": {
      "text/plain": [
       "dict_items([(100, 'nit'), ((10+99j), 99), ((21, 22), (19.5, 33.6)), ((22, 55), ('age', 'alt')), ('kg', 80)])"
      ]
     },
     "execution_count": 542,
     "metadata": {},
     "output_type": "execute_result"
    }
   ],
   "source": [
    "d1.items()"
   ]
  },
  {
   "cell_type": "code",
   "execution_count": 543,
   "id": "0d7da97f",
   "metadata": {},
   "outputs": [
    {
     "data": {
      "text/plain": [
       "5"
      ]
     },
     "execution_count": 543,
     "metadata": {},
     "output_type": "execute_result"
    }
   ],
   "source": [
    "len(d1.items())"
   ]
  },
  {
   "cell_type": "code",
   "execution_count": 544,
   "id": "cb3280f1",
   "metadata": {},
   "outputs": [
    {
     "data": {
      "text/plain": [
       "{100: 'nit',\n",
       " (10+99j): 99,\n",
       " (21, 22): (19.5, 33.6),\n",
       " (22, 55): ('age', 'alt'),\n",
       " 'kg': 80,\n",
       " 'volleyball': (21, 19, 24, 25, 16, 45)}"
      ]
     },
     "execution_count": 544,
     "metadata": {},
     "output_type": "execute_result"
    }
   ],
   "source": [
    "d1['volleyball']=(21,19,24,25,16,45)\n",
    "d1"
   ]
  },
  {
   "cell_type": "code",
   "execution_count": 545,
   "id": "b64b45fb",
   "metadata": {},
   "outputs": [
    {
     "data": {
      "text/plain": [
       "(21, 19, 24, 25, 16, 45)"
      ]
     },
     "execution_count": 545,
     "metadata": {},
     "output_type": "execute_result"
    }
   ],
   "source": [
    "d1['volleyball']"
   ]
  },
  {
   "cell_type": "code",
   "execution_count": 546,
   "id": "9e89a5a3",
   "metadata": {},
   "outputs": [],
   "source": [
    "d1.get(False)"
   ]
  },
  {
   "cell_type": "code",
   "execution_count": 547,
   "id": "a3c80fc1",
   "metadata": {},
   "outputs": [
    {
     "data": {
      "text/plain": [
       "dict_keys([100, (10+99j), (21, 22), (22, 55), 'kg', 'volleyball'])"
      ]
     },
     "execution_count": 547,
     "metadata": {},
     "output_type": "execute_result"
    }
   ],
   "source": [
    "d1.keys()"
   ]
  },
  {
   "cell_type": "code",
   "execution_count": 548,
   "id": "197ab081",
   "metadata": {},
   "outputs": [
    {
     "data": {
      "text/plain": [
       "{100: 'nit',\n",
       " (10+99j): 99,\n",
       " (21, 22): (19.5, 33.6),\n",
       " (22, 55): ('age', 'alt'),\n",
       " 'kg': 80,\n",
       " 'volleyball': (21, 19, 24, 25, 16, 45)}"
      ]
     },
     "execution_count": 548,
     "metadata": {},
     "output_type": "execute_result"
    }
   ],
   "source": [
    "d1"
   ]
  },
  {
   "cell_type": "code",
   "execution_count": 549,
   "id": "df4657ed",
   "metadata": {},
   "outputs": [],
   "source": [
    "d1['volleyball']='vpl'"
   ]
  },
  {
   "cell_type": "code",
   "execution_count": 550,
   "id": "19546d37",
   "metadata": {},
   "outputs": [
    {
     "data": {
      "text/plain": [
       "{100: 'nit',\n",
       " (10+99j): 99,\n",
       " (21, 22): (19.5, 33.6),\n",
       " (22, 55): ('age', 'alt'),\n",
       " 'kg': 80,\n",
       " 'volleyball': 'vpl'}"
      ]
     },
     "execution_count": 550,
     "metadata": {},
     "output_type": "execute_result"
    }
   ],
   "source": [
    "d1"
   ]
  },
  {
   "cell_type": "code",
   "execution_count": 551,
   "id": "01f80788",
   "metadata": {},
   "outputs": [
    {
     "data": {
      "text/plain": [
       "99"
      ]
     },
     "execution_count": 551,
     "metadata": {},
     "output_type": "execute_result"
    }
   ],
   "source": [
    "d1.pop(10+99j)"
   ]
  },
  {
   "cell_type": "code",
   "execution_count": 552,
   "id": "1751b19d",
   "metadata": {},
   "outputs": [
    {
     "data": {
      "text/plain": [
       "{100: 'nit',\n",
       " (21, 22): (19.5, 33.6),\n",
       " (22, 55): ('age', 'alt'),\n",
       " 'kg': 80,\n",
       " 'volleyball': 'vpl'}"
      ]
     },
     "execution_count": 552,
     "metadata": {},
     "output_type": "execute_result"
    }
   ],
   "source": [
    "d1"
   ]
  },
  {
   "cell_type": "code",
   "execution_count": 553,
   "id": "da3c0e31",
   "metadata": {},
   "outputs": [],
   "source": [
    "d5=d1.copy()"
   ]
  },
  {
   "cell_type": "code",
   "execution_count": 554,
   "id": "03c8f845",
   "metadata": {},
   "outputs": [
    {
     "data": {
      "text/plain": [
       "{100: 'nit',\n",
       " (21, 22): (19.5, 33.6),\n",
       " (22, 55): ('age', 'alt'),\n",
       " 'kg': 80,\n",
       " 'volleyball': 'vpl'}"
      ]
     },
     "execution_count": 554,
     "metadata": {},
     "output_type": "execute_result"
    }
   ],
   "source": [
    "d5"
   ]
  },
  {
   "cell_type": "code",
   "execution_count": 555,
   "id": "5d6bef18",
   "metadata": {},
   "outputs": [
    {
     "data": {
      "text/plain": [
       "(2680695297024, 2680694469440)"
      ]
     },
     "execution_count": 555,
     "metadata": {},
     "output_type": "execute_result"
    }
   ],
   "source": [
    "id(d1),id(d5)"
   ]
  },
  {
   "cell_type": "code",
   "execution_count": 556,
   "id": "b1b5946f",
   "metadata": {},
   "outputs": [
    {
     "name": "stdout",
     "output_type": "stream",
     "text": [
      "2680581391184\n",
      "2680581391184\n",
      "2680581391184\n",
      "2680581391184\n"
     ]
    }
   ],
   "source": [
    "a=b=c=d=20\n",
    "print(id(a))\n",
    "print(id(b))\n",
    "print(id(c))\n",
    "print(id(d))"
   ]
  },
  {
   "cell_type": "code",
   "execution_count": 557,
   "id": "e1fabe3a",
   "metadata": {},
   "outputs": [
    {
     "data": {
      "text/plain": [
       "False"
      ]
     },
     "execution_count": 557,
     "metadata": {},
     "output_type": "execute_result"
    }
   ],
   "source": [
    "id(c) is id(d) "
   ]
  },
  {
   "cell_type": "code",
   "execution_count": 558,
   "id": "537d78e4",
   "metadata": {},
   "outputs": [
    {
     "data": {
      "text/plain": [
       "True"
      ]
     },
     "execution_count": 558,
     "metadata": {},
     "output_type": "execute_result"
    }
   ],
   "source": [
    "a is b"
   ]
  },
  {
   "cell_type": "code",
   "execution_count": 559,
   "id": "f6ebf015",
   "metadata": {},
   "outputs": [
    {
     "data": {
      "text/plain": [
       "True"
      ]
     },
     "execution_count": 559,
     "metadata": {},
     "output_type": "execute_result"
    }
   ],
   "source": [
    "c is d"
   ]
  },
  {
   "cell_type": "code",
   "execution_count": 560,
   "id": "3f53da1e",
   "metadata": {},
   "outputs": [
    {
     "data": {
      "text/plain": [
       "True"
      ]
     },
     "execution_count": 560,
     "metadata": {},
     "output_type": "execute_result"
    }
   ],
   "source": [
    "a is d"
   ]
  },
  {
   "cell_type": "code",
   "execution_count": 561,
   "id": "e8954540",
   "metadata": {},
   "outputs": [
    {
     "name": "stdout",
     "output_type": "stream",
     "text": [
      "2680581391184\n",
      "2680581391184\n",
      "2680581391184\n",
      "2680581391184\n"
     ]
    }
   ],
   "source": [
    "print(id(a))\n",
    "print(id(b))\n",
    "print(id(c))\n",
    "print(id(d))"
   ]
  },
  {
   "cell_type": "code",
   "execution_count": 562,
   "id": "fc396376",
   "metadata": {},
   "outputs": [
    {
     "data": {
      "text/plain": [
       "False"
      ]
     },
     "execution_count": 562,
     "metadata": {},
     "output_type": "execute_result"
    }
   ],
   "source": [
    "id(a) is id(b)"
   ]
  },
  {
   "cell_type": "code",
   "execution_count": 563,
   "id": "83d47f87",
   "metadata": {},
   "outputs": [
    {
     "data": {
      "text/plain": [
       "{100: 'nit',\n",
       " (21, 22): (19.5, 33.6),\n",
       " (22, 55): ('age', 'alt'),\n",
       " 'kg': 80,\n",
       " 'volleyball': 'vpl'}"
      ]
     },
     "execution_count": 563,
     "metadata": {},
     "output_type": "execute_result"
    }
   ],
   "source": [
    "d1"
   ]
  },
  {
   "cell_type": "code",
   "execution_count": 564,
   "id": "4abea512",
   "metadata": {},
   "outputs": [],
   "source": [
    "dict3={'Name':'sai','ID':4532,'DOB':2000,'Address':'Hyderabad'}"
   ]
  },
  {
   "cell_type": "code",
   "execution_count": 565,
   "id": "e0b644ec",
   "metadata": {},
   "outputs": [
    {
     "data": {
      "text/plain": [
       "{'Name': 'sai', 'ID': 4532, 'DOB': 2000, 'Address': 'Hyderabad'}"
      ]
     },
     "execution_count": 565,
     "metadata": {},
     "output_type": "execute_result"
    }
   ],
   "source": [
    "dict3"
   ]
  },
  {
   "cell_type": "code",
   "execution_count": 566,
   "id": "c2ce9e44",
   "metadata": {},
   "outputs": [
    {
     "data": {
      "text/plain": [
       "{'a': None, 'c': None, 'd': None, 'b': None}"
      ]
     },
     "execution_count": 566,
     "metadata": {},
     "output_type": "execute_result"
    }
   ],
   "source": [
    "keys={'a','b','c','d'}\n",
    "d5=dict.fromkeys(keys)\n",
    "d5"
   ]
  },
  {
   "cell_type": "code",
   "execution_count": 567,
   "id": "739139c9",
   "metadata": {},
   "outputs": [
    {
     "data": {
      "text/plain": [
       "{'a': {10, 20, 30, 40},\n",
       " 'c': {10, 20, 30, 40},\n",
       " 'd': {10, 20, 30, 40},\n",
       " 'b': {10, 20, 30, 40}}"
      ]
     },
     "execution_count": 567,
     "metadata": {},
     "output_type": "execute_result"
    }
   ],
   "source": [
    "keys={'a','b','c','d'}\n",
    "value={10,20,30,40}\n",
    "d6=dict.fromkeys(keys,value)\n",
    "d6"
   ]
  },
  {
   "cell_type": "code",
   "execution_count": 568,
   "id": "4182892a",
   "metadata": {},
   "outputs": [
    {
     "ename": "AttributeError",
     "evalue": "'set' object has no attribute 'append'",
     "output_type": "error",
     "traceback": [
      "\u001b[1;31m---------------------------------------------------------------------------\u001b[0m",
      "\u001b[1;31mAttributeError\u001b[0m                            Traceback (most recent call last)",
      "Cell \u001b[1;32mIn[568], line 1\u001b[0m\n\u001b[1;32m----> 1\u001b[0m \u001b[43mvalue\u001b[49m\u001b[38;5;241;43m.\u001b[39;49m\u001b[43mappend\u001b[49m(\u001b[38;5;241m50\u001b[39m)\n\u001b[0;32m      2\u001b[0m d6\n",
      "\u001b[1;31mAttributeError\u001b[0m: 'set' object has no attribute 'append'"
     ]
    }
   ],
   "source": [
    "value.append(50)\n",
    "d6"
   ]
  },
  {
   "cell_type": "code",
   "execution_count": 569,
   "id": "392bb8ac",
   "metadata": {},
   "outputs": [
    {
     "data": {
      "text/plain": [
       "{'a': [10, 20, 30, 40],\n",
       " 'c': [10, 20, 30, 40],\n",
       " 'd': [10, 20, 30, 40],\n",
       " 'b': [10, 20, 30, 40]}"
      ]
     },
     "execution_count": 569,
     "metadata": {},
     "output_type": "execute_result"
    }
   ],
   "source": [
    "keys={'a','b','c','d'}\n",
    "value=[10,20,30,40]\n",
    "d6=dict.fromkeys(keys,value)\n",
    "d6"
   ]
  },
  {
   "cell_type": "code",
   "execution_count": 570,
   "id": "3a556dca",
   "metadata": {},
   "outputs": [
    {
     "ename": "SyntaxError",
     "evalue": "invalid syntax (2496167424.py, line 1)",
     "output_type": "error",
     "traceback": [
      "\u001b[1;36m  Cell \u001b[1;32mIn[570], line 1\u001b[1;36m\u001b[0m\n\u001b[1;33m    dict3.\u001b[0m\n\u001b[1;37m          ^\u001b[0m\n\u001b[1;31mSyntaxError\u001b[0m\u001b[1;31m:\u001b[0m invalid syntax\n"
     ]
    }
   ],
   "source": [
    "dict3."
   ]
  },
  {
   "cell_type": "code",
   "execution_count": 582,
   "id": "c9352f03",
   "metadata": {},
   "outputs": [],
   "source": [
    "dict3={'Name':'sai','ID':'5656','DOB':2000,'Adress':'HYD'}"
   ]
  },
  {
   "cell_type": "code",
   "execution_count": 583,
   "id": "6bdbfd9c",
   "metadata": {},
   "outputs": [
    {
     "data": {
      "text/plain": [
       "'sai'"
      ]
     },
     "execution_count": 583,
     "metadata": {},
     "output_type": "execute_result"
    }
   ],
   "source": [
    "dict3['Name']"
   ]
  },
  {
   "cell_type": "code",
   "execution_count": 584,
   "id": "53725522",
   "metadata": {},
   "outputs": [
    {
     "data": {
      "text/plain": [
       "'5656'"
      ]
     },
     "execution_count": 584,
     "metadata": {},
     "output_type": "execute_result"
    }
   ],
   "source": [
    "dict3.get('ID')"
   ]
  },
  {
   "cell_type": "code",
   "execution_count": 585,
   "id": "c1d35209",
   "metadata": {},
   "outputs": [
    {
     "data": {
      "text/plain": [
       "{'Name': 'sai', 'ID': '5656', 'DOB': 2001, 'Adress': 'HYD', 'Address': 'WGL'}"
      ]
     },
     "execution_count": 585,
     "metadata": {},
     "output_type": "execute_result"
    }
   ],
   "source": [
    "dict3['DOB']= 2001\n",
    "dict3['Address']= 'WGL'\n",
    "dict3"
   ]
  },
  {
   "cell_type": "code",
   "execution_count": 588,
   "id": "c2986cfa",
   "metadata": {},
   "outputs": [],
   "source": [
    "dict4={'ID':5265}\n",
    "dict3.update(dict4)"
   ]
  },
  {
   "cell_type": "code",
   "execution_count": 589,
   "id": "217be674",
   "metadata": {},
   "outputs": [
    {
     "data": {
      "text/plain": [
       "{'Name': 'sai', 'ID': 5265, 'DOB': 2001, 'Adress': 'HYD', 'Address': 'WGL'}"
      ]
     },
     "execution_count": 589,
     "metadata": {},
     "output_type": "execute_result"
    }
   ],
   "source": [
    "dict3"
   ]
  },
  {
   "cell_type": "code",
   "execution_count": 600,
   "id": "86a72832",
   "metadata": {},
   "outputs": [
    {
     "data": {
      "text/plain": [
       "{'Name': 'sai', 'JOB': 'Agri'}"
      ]
     },
     "execution_count": 600,
     "metadata": {},
     "output_type": "execute_result"
    }
   ],
   "source": [
    "dict3['JOB']='Agri'\n",
    "dict3"
   ]
  },
  {
   "cell_type": "code",
   "execution_count": 601,
   "id": "9b7b38ea",
   "metadata": {},
   "outputs": [
    {
     "ename": "KeyError",
     "evalue": "'Address'",
     "output_type": "error",
     "traceback": [
      "\u001b[1;31m---------------------------------------------------------------------------\u001b[0m",
      "\u001b[1;31mKeyError\u001b[0m                                  Traceback (most recent call last)",
      "Cell \u001b[1;32mIn[601], line 1\u001b[0m\n\u001b[1;32m----> 1\u001b[0m \u001b[43mdict3\u001b[49m\u001b[38;5;241;43m.\u001b[39;49m\u001b[43mpop\u001b[49m\u001b[43m(\u001b[49m\u001b[38;5;124;43m'\u001b[39;49m\u001b[38;5;124;43mAddress\u001b[39;49m\u001b[38;5;124;43m'\u001b[39;49m\u001b[43m)\u001b[49m\n",
      "\u001b[1;31mKeyError\u001b[0m: 'Address'"
     ]
    }
   ],
   "source": [
    "dict3.pop('Address')"
   ]
  },
  {
   "cell_type": "code",
   "execution_count": 602,
   "id": "8fb69d6a",
   "metadata": {},
   "outputs": [
    {
     "data": {
      "text/plain": [
       "{'Name': 'sai', 'JOB': 'Agri'}"
      ]
     },
     "execution_count": 602,
     "metadata": {},
     "output_type": "execute_result"
    }
   ],
   "source": [
    "dict3"
   ]
  },
  {
   "cell_type": "code",
   "execution_count": 1,
   "id": "b7ba6753",
   "metadata": {},
   "outputs": [
    {
     "ename": "NameError",
     "evalue": "name 'dict3' is not defined",
     "output_type": "error",
     "traceback": [
      "\u001b[1;31m---------------------------------------------------------------------------\u001b[0m",
      "\u001b[1;31mNameError\u001b[0m                                 Traceback (most recent call last)",
      "Cell \u001b[1;32mIn[1], line 1\u001b[0m\n\u001b[1;32m----> 1\u001b[0m \u001b[43mdict3\u001b[49m\u001b[38;5;241m.\u001b[39mpopitem()\n\u001b[0;32m      2\u001b[0m dict3\n",
      "\u001b[1;31mNameError\u001b[0m: name 'dict3' is not defined"
     ]
    }
   ],
   "source": [
    "dict3.popitem()\n",
    "dict3"
   ]
  },
  {
   "cell_type": "code",
   "execution_count": 3,
   "id": "926de939",
   "metadata": {},
   "outputs": [],
   "source": [
    "dict3={'Name': 'sai', 'ID': 5265, 'DOB': 2001, 'Adress': 'HYD', 'Address': 'WGL'}"
   ]
  },
  {
   "cell_type": "code",
   "execution_count": 4,
   "id": "1a88e96a",
   "metadata": {},
   "outputs": [
    {
     "data": {
      "text/plain": [
       "{'Name': 'sai', 'ID': 5265, 'DOB': 2001, 'Adress': 'HYD', 'Address': 'WGL'}"
      ]
     },
     "execution_count": 4,
     "metadata": {},
     "output_type": "execute_result"
    }
   ],
   "source": [
    "dict3"
   ]
  },
  {
   "cell_type": "code",
   "execution_count": 5,
   "id": "19f14b5f",
   "metadata": {},
   "outputs": [],
   "source": [
    "dict3['JOB']='Analyst'"
   ]
  },
  {
   "cell_type": "code",
   "execution_count": 6,
   "id": "2062431b",
   "metadata": {},
   "outputs": [
    {
     "data": {
      "text/plain": [
       "{'Name': 'sai',\n",
       " 'ID': 5265,\n",
       " 'DOB': 2001,\n",
       " 'Adress': 'HYD',\n",
       " 'Address': 'WGL',\n",
       " 'JOB': 'Analyst'}"
      ]
     },
     "execution_count": 6,
     "metadata": {},
     "output_type": "execute_result"
    }
   ],
   "source": [
    "dict3"
   ]
  },
  {
   "cell_type": "code",
   "execution_count": 7,
   "id": "69f167c6",
   "metadata": {},
   "outputs": [],
   "source": [
    "dict4=dict3"
   ]
  },
  {
   "cell_type": "code",
   "execution_count": 8,
   "id": "3abef4d2",
   "metadata": {},
   "outputs": [
    {
     "data": {
      "text/plain": [
       "{'Name': 'sai',\n",
       " 'ID': 5265,\n",
       " 'DOB': 2001,\n",
       " 'Adress': 'HYD',\n",
       " 'Address': 'WGL',\n",
       " 'JOB': 'Analyst'}"
      ]
     },
     "execution_count": 8,
     "metadata": {},
     "output_type": "execute_result"
    }
   ],
   "source": [
    "dict4"
   ]
  },
  {
   "cell_type": "code",
   "execution_count": 9,
   "id": "06e66ec7",
   "metadata": {},
   "outputs": [
    {
     "name": "stdout",
     "output_type": "stream",
     "text": [
      "Name : sai\n",
      "ID : 5265\n",
      "DOB : 2001\n",
      "Adress : HYD\n",
      "Address : WGL\n",
      "JOB : Analyst\n"
     ]
    }
   ],
   "source": [
    "for i in dict4:\n",
    "    print(i,':',dict4[i])"
   ]
  },
  {
   "cell_type": "code",
   "execution_count": 10,
   "id": "02236253",
   "metadata": {},
   "outputs": [
    {
     "name": "stdout",
     "output_type": "stream",
     "text": [
      "Name : sai\n",
      "ID : 5265\n",
      "DOB : 2001\n",
      "Adress : HYD\n",
      "Address : WGL\n",
      "JOB : Analyst\n"
     ]
    }
   ],
   "source": [
    "for i in dict3:\n",
    "    print(i,':',dict3[i])"
   ]
  },
  {
   "cell_type": "code",
   "execution_count": 11,
   "id": "c6223103",
   "metadata": {},
   "outputs": [
    {
     "name": "stdout",
     "output_type": "stream",
     "text": [
      "sai\n",
      "5265\n",
      "2001\n",
      "HYD\n",
      "WGL\n",
      "Analyst\n"
     ]
    }
   ],
   "source": [
    "for i in dict3:\n",
    "    print(dict3[i])"
   ]
  },
  {
   "cell_type": "code",
   "execution_count": 12,
   "id": "5ed2ff25",
   "metadata": {},
   "outputs": [
    {
     "data": {
      "text/plain": [
       "{'Name': 'sai',\n",
       " 'ID': 5265,\n",
       " 'DOB': 2001,\n",
       " 'Adress': 'HYD',\n",
       " 'Address': 'WGL',\n",
       " 'JOB': 'Analyst'}"
      ]
     },
     "execution_count": 12,
     "metadata": {},
     "output_type": "execute_result"
    }
   ],
   "source": [
    "dict3"
   ]
  },
  {
   "cell_type": "code",
   "execution_count": 13,
   "id": "ef49375b",
   "metadata": {},
   "outputs": [
    {
     "data": {
      "text/plain": [
       "True"
      ]
     },
     "execution_count": 13,
     "metadata": {},
     "output_type": "execute_result"
    }
   ],
   "source": [
    "'Name' in dict3"
   ]
  },
  {
   "cell_type": "code",
   "execution_count": 14,
   "id": "561787c7",
   "metadata": {},
   "outputs": [
    {
     "data": {
      "text/plain": [
       "False"
      ]
     },
     "execution_count": 14,
     "metadata": {},
     "output_type": "execute_result"
    }
   ],
   "source": [
    "'Nach Name' in dict3"
   ]
  },
  {
   "cell_type": "code",
   "execution_count": 15,
   "id": "47fb7dae",
   "metadata": {},
   "outputs": [
    {
     "data": {
      "text/plain": [
       "{'Name': 'sai',\n",
       " 'ID': 5265,\n",
       " 'DOB': 2001,\n",
       " 'Adress': 'HYD',\n",
       " 'Address': 'WGL',\n",
       " 'JOB': 'Analyst'}"
      ]
     },
     "execution_count": 15,
     "metadata": {},
     "output_type": "execute_result"
    }
   ],
   "source": [
    "dict3"
   ]
  },
  {
   "cell_type": "code",
   "execution_count": 16,
   "id": "3b73c2d6",
   "metadata": {},
   "outputs": [
    {
     "data": {
      "text/plain": [
       "True"
      ]
     },
     "execution_count": 16,
     "metadata": {},
     "output_type": "execute_result"
    }
   ],
   "source": [
    "all(dict3)"
   ]
  },
  {
   "cell_type": "code",
   "execution_count": 17,
   "id": "013a80fc",
   "metadata": {},
   "outputs": [
    {
     "data": {
      "text/plain": [
       "True"
      ]
     },
     "execution_count": 17,
     "metadata": {},
     "output_type": "execute_result"
    }
   ],
   "source": [
    "any(dict3)"
   ]
  },
  {
   "cell_type": "code",
   "execution_count": 18,
   "id": "a8458094",
   "metadata": {},
   "outputs": [
    {
     "data": {
      "text/plain": [
       "{'Name': 'sai',\n",
       " 'ID': 5265,\n",
       " 'DOB': 2001,\n",
       " 'Adress': 'HYD',\n",
       " 'Address': 'WGL',\n",
       " 'JOB': 'Analyst',\n",
       " 0: 'null'}"
      ]
     },
     "execution_count": 18,
     "metadata": {},
     "output_type": "execute_result"
    }
   ],
   "source": [
    "dict3[0]='null'\n",
    "dict3"
   ]
  },
  {
   "cell_type": "code",
   "execution_count": 19,
   "id": "ff347aa9",
   "metadata": {},
   "outputs": [
    {
     "data": {
      "text/plain": [
       "False"
      ]
     },
     "execution_count": 19,
     "metadata": {},
     "output_type": "execute_result"
    }
   ],
   "source": [
    "all(dict3)"
   ]
  },
  {
   "cell_type": "code",
   "execution_count": 20,
   "id": "06137a66",
   "metadata": {},
   "outputs": [
    {
     "data": {
      "text/plain": [
       "True"
      ]
     },
     "execution_count": 20,
     "metadata": {},
     "output_type": "execute_result"
    }
   ],
   "source": [
    "any(dict3)"
   ]
  },
  {
   "cell_type": "code",
   "execution_count": 24,
   "id": "29d5e034",
   "metadata": {},
   "outputs": [
    {
     "data": {
      "text/plain": [
       "{0: 0, 1: 3, 2: 6, 3: 9, 4: 12, 5: 15}"
      ]
     },
     "execution_count": 24,
     "metadata": {},
     "output_type": "execute_result"
    }
   ],
   "source": [
    "triple={i:i*3 for i in range(6)}\n",
    "triple"
   ]
  },
  {
   "cell_type": "code",
   "execution_count": 28,
   "id": "92631f8b",
   "metadata": {},
   "outputs": [
    {
     "data": {
      "text/plain": [
       "{0: 0, 1: 1, 2: 8, 3: 27, 4: 64, 5: 125, 6: 216, 7: 343, 8: 512, 9: 729}"
      ]
     },
     "execution_count": 28,
     "metadata": {},
     "output_type": "execute_result"
    }
   ],
   "source": [
    "cube={i:i**3 for i in range(10)}\n",
    "sq"
   ]
  },
  {
   "cell_type": "code",
   "execution_count": 29,
   "id": "c2d333de",
   "metadata": {},
   "outputs": [
    {
     "data": {
      "text/plain": [
       "{'one': 1, 'two': 2, 'three': 3, 'four': 4}"
      ]
     },
     "execution_count": 29,
     "metadata": {},
     "output_type": "execute_result"
    }
   ],
   "source": [
    "key=['one','two','three','four']\n",
    "value=[1,2,3,4]\n",
    "ver={k:v for(k,v)in zip(key,value)}\n",
    "ver"
   ]
  },
  {
   "cell_type": "code",
   "execution_count": 30,
   "id": "ff80d9d5",
   "metadata": {},
   "outputs": [
    {
     "data": {
      "text/plain": [
       "{'one': 1, 'two': 2, 'three': 3, 'four': 4}"
      ]
     },
     "execution_count": 30,
     "metadata": {},
     "output_type": "execute_result"
    }
   ],
   "source": [
    "ver"
   ]
  },
  {
   "cell_type": "code",
   "execution_count": 35,
   "id": "0f5f0fc5",
   "metadata": {},
   "outputs": [
    {
     "data": {
      "text/plain": [
       "{'one': 'one', 'two': 'two', 'three': 'three', 'four': 'four'}"
      ]
     },
     "execution_count": 35,
     "metadata": {},
     "output_type": "execute_result"
    }
   ],
   "source": [
    "ver={i:i for i in ver}\n",
    "ver"
   ]
  },
  {
   "cell_type": "code",
   "execution_count": 43,
   "id": "99e5b609",
   "metadata": {},
   "outputs": [
    {
     "data": {
      "text/plain": [
       "{'a': 20, 'b': 30, 'c': 40, 'd': 50}"
      ]
     },
     "execution_count": 43,
     "metadata": {},
     "output_type": "execute_result"
    }
   ],
   "source": [
    "der={'a':20,'b':30,'c':40,'d':50}\n",
    "der"
   ]
  },
  {
   "cell_type": "code",
   "execution_count": 44,
   "id": "84b00eb1",
   "metadata": {},
   "outputs": [
    {
     "data": {
      "text/plain": [
       "{'a': 2.0, 'b': 3.0, 'c': 4.0, 'd': 5.0}"
      ]
     },
     "execution_count": 44,
     "metadata": {},
     "output_type": "execute_result"
    }
   ],
   "source": [
    "der={k:v/10 for (k,v) in der.items()}\n",
    "der"
   ]
  },
  {
   "cell_type": "code",
   "execution_count": 45,
   "id": "8d029426",
   "metadata": {},
   "outputs": [
    {
     "data": {
      "text/plain": [
       "{0: 'G',\n",
       " 1: 'e',\n",
       " 2: 'r',\n",
       " 3: 'm',\n",
       " 4: 'a',\n",
       " 5: 'n',\n",
       " 6: ' ',\n",
       " 7: 'L',\n",
       " 8: 'a',\n",
       " 9: 'n',\n",
       " 10: 'g',\n",
       " 11: 'u',\n",
       " 12: 'a',\n",
       " 13: 'g',\n",
       " 14: 'e',\n",
       " 15: ' ',\n",
       " 16: 'P',\n",
       " 17: 'r',\n",
       " 18: 'o',\n",
       " 19: 'c',\n",
       " 20: 'e',\n",
       " 21: 's',\n",
       " 22: 's',\n",
       " 23: 'i',\n",
       " 24: 'n',\n",
       " 25: 'g'}"
      ]
     },
     "execution_count": 45,
     "metadata": {},
     "output_type": "execute_result"
    }
   ],
   "source": [
    "sr1=\"German Language Processing\"\n",
    "di8={k:v for (k,v) in enumerate(sr1)}\n",
    "di8"
   ]
  },
  {
   "cell_type": "code",
   "execution_count": 46,
   "id": "fe84125b",
   "metadata": {},
   "outputs": [
    {
     "data": {
      "text/plain": [
       "26"
      ]
     },
     "execution_count": 46,
     "metadata": {},
     "output_type": "execute_result"
    }
   ],
   "source": [
    "len(di8)"
   ]
  },
  {
   "cell_type": "code",
   "execution_count": 48,
   "id": "da620384",
   "metadata": {},
   "outputs": [
    {
     "data": {
      "text/plain": [
       "{'a': 'A',\n",
       " 'b': 'B',\n",
       " 'c': 'C',\n",
       " 'n': 'N',\n",
       " 'd': 'D',\n",
       " 'k': 'K',\n",
       " 'j': 'J',\n",
       " 'e': 'E',\n",
       " 'f': 'F',\n",
       " 'v': 'V',\n",
       " 's': 'S',\n",
       " 'i': 'I'}"
      ]
     },
     "execution_count": 48,
     "metadata": {},
     "output_type": "execute_result"
    }
   ],
   "source": [
    "sr2='abcndkdjefjvfeajenefvsnveijnvaenve'\n",
    "di9={i:i.upper() for i in sr2}\n",
    "di9"
   ]
  },
  {
   "cell_type": "code",
   "execution_count": 49,
   "id": "21a13dfd",
   "metadata": {},
   "outputs": [
    {
     "data": {
      "text/plain": [
       "12"
      ]
     },
     "execution_count": 49,
     "metadata": {},
     "output_type": "execute_result"
    }
   ],
   "source": [
    "len(di9)"
   ]
  },
  {
   "cell_type": "code",
   "execution_count": 50,
   "id": "8b9acac1",
   "metadata": {},
   "outputs": [],
   "source": [
    "str3=\"one ten two three four five six seven eight nine ten one two three five six seven one eight three one seven six six four two five zero\""
   ]
  },
  {
   "cell_type": "code",
   "execution_count": 51,
   "id": "7ca2e03b",
   "metadata": {},
   "outputs": [
    {
     "data": {
      "text/plain": [
       "['one',\n",
       " 'ten',\n",
       " 'two',\n",
       " 'three',\n",
       " 'four',\n",
       " 'five',\n",
       " 'six',\n",
       " 'seven',\n",
       " 'eight',\n",
       " 'nine',\n",
       " 'ten',\n",
       " 'one',\n",
       " 'two',\n",
       " 'three',\n",
       " 'five',\n",
       " 'six',\n",
       " 'seven',\n",
       " 'one',\n",
       " 'eight',\n",
       " 'three',\n",
       " 'one',\n",
       " 'seven',\n",
       " 'six',\n",
       " 'six',\n",
       " 'four',\n",
       " 'two',\n",
       " 'five',\n",
       " 'zero']"
      ]
     },
     "execution_count": 51,
     "metadata": {},
     "output_type": "execute_result"
    }
   ],
   "source": [
    "lki7=str3.split()\n",
    "lki7"
   ]
  },
  {
   "cell_type": "code",
   "execution_count": 54,
   "id": "9d47326f",
   "metadata": {},
   "outputs": [
    {
     "data": {
      "text/plain": [
       "28"
      ]
     },
     "execution_count": 54,
     "metadata": {},
     "output_type": "execute_result"
    }
   ],
   "source": [
    "len(lki7)"
   ]
  },
  {
   "cell_type": "code",
   "execution_count": 52,
   "id": "46f5cea7",
   "metadata": {},
   "outputs": [
    {
     "data": {
      "text/plain": [
       "['eight',\n",
       " 'three',\n",
       " 'four',\n",
       " 'zero',\n",
       " 'five',\n",
       " 'ten',\n",
       " 'seven',\n",
       " 'two',\n",
       " 'nine',\n",
       " 'six',\n",
       " 'one']"
      ]
     },
     "execution_count": 52,
     "metadata": {},
     "output_type": "execute_result"
    }
   ],
   "source": [
    "list2=set(lki7) # Unique values in a list\n",
    "list2=list(list2)\n",
    "list2"
   ]
  },
  {
   "cell_type": "code",
   "execution_count": 53,
   "id": "19ca70ad",
   "metadata": {},
   "outputs": [
    {
     "data": {
      "text/plain": [
       "11"
      ]
     },
     "execution_count": 53,
     "metadata": {},
     "output_type": "execute_result"
    }
   ],
   "source": [
    "len(list2)"
   ]
  },
  {
   "cell_type": "code",
   "execution_count": 56,
   "id": "cb4cdaa2",
   "metadata": {},
   "outputs": [
    {
     "name": "stdout",
     "output_type": "stream",
     "text": [
      "{'eight': 2, 'three': 3, 'four': 2, 'zero': 1, 'five': 3, 'ten': 2, 'seven': 3, 'two': 3, 'nine': 1, 'six': 4, 'one': 4}\n"
     ]
    }
   ],
   "source": [
    "### Calculate frequenct of each word\n",
    "count2=[0]*len(list2)\n",
    "dict5=dict()\n",
    "for i in range(len(list2)):\n",
    "    for j in range(len(lki7)):\n",
    "        if list2[i]==lki7[j]:\n",
    "            count2[i] += 1\n",
    "    dict5[list2[i]]=count2[i]\n",
    "print(dict5)\n"
   ]
  },
  {
   "cell_type": "markdown",
   "id": "bc93f644",
   "metadata": {},
   "source": [
    "### END OF DATA STRUCTURE"
   ]
  },
  {
   "cell_type": "code",
   "execution_count": null,
   "id": "73e023f1",
   "metadata": {},
   "outputs": [],
   "source": []
  },
  {
   "cell_type": "code",
   "execution_count": null,
   "id": "3b856862",
   "metadata": {},
   "outputs": [],
   "source": []
  },
  {
   "cell_type": "code",
   "execution_count": null,
   "id": "96480be3",
   "metadata": {},
   "outputs": [],
   "source": []
  },
  {
   "cell_type": "code",
   "execution_count": null,
   "id": "b97dad0d",
   "metadata": {},
   "outputs": [],
   "source": []
  },
  {
   "cell_type": "code",
   "execution_count": null,
   "id": "63fe48d1",
   "metadata": {},
   "outputs": [],
   "source": []
  },
  {
   "cell_type": "code",
   "execution_count": null,
   "id": "fca93ef8",
   "metadata": {},
   "outputs": [],
   "source": []
  }
 ],
 "metadata": {
  "kernelspec": {
   "display_name": "Python 3 (ipykernel)",
   "language": "python",
   "name": "python3"
  },
  "language_info": {
   "codemirror_mode": {
    "name": "ipython",
    "version": 3
   },
   "file_extension": ".py",
   "mimetype": "text/x-python",
   "name": "python",
   "nbconvert_exporter": "python",
   "pygments_lexer": "ipython3",
   "version": "3.10.9"
  }
 },
 "nbformat": 4,
 "nbformat_minor": 5
}
